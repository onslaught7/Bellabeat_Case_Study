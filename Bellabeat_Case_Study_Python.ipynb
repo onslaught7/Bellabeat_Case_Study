{
 "cells": [
  {
   "cell_type": "markdown",
   "id": "96212748",
   "metadata": {
    "papermill": {
     "duration": 0.01572,
     "end_time": "2024-09-05T04:48:09.094903",
     "exception": false,
     "start_time": "2024-09-05T04:48:09.079183",
     "status": "completed"
    },
    "tags": []
   },
   "source": [
    "# <span style=\"color: #20beff;\">Bellabeat Case Study (Google Data Analytics Professional Certificate Capstone)</span>\n",
    "\n",
    "Urška Sršen and Sando Mur founded Bellabeat, a high-tech company that manufactures health-focused smart products. Collecting data on activity, sleep, stress, and reproductive health has allowed Bellabeat to empower women with knowledge about their own health and habits. Since it was founded in .2013, Bellabeat has grown rapidly and quickly positioned  itself as a tech-driven wellness company for women.\n",
    "\n",
    "By 2016, Bellabeat had opened offices around the world and launched multiple products. Bellabeat products became available through a growing number of online retailers in addition to their own e-commerce channel on their website. The company has invested in traditional advertising media, such as radio, out-of-home billboards, print, and television, but focuses on digital marketing extensively. Bellabeat invests year-round in Google Search, maintaining active Facebook and Instagram pages, and consistently engages consumers on Twitter. Additionally, Bellabeat runs video ads on Youtube and display ads on the Google Display Network to support campaigns around key marketing dates.\n",
    "\n",
    "Sršen knows that an analysis of Bellabeat’s available consumer data would reveal more opportunities for growth. She has\n",
    "asked the marketing analytics team to focus on a Bellabeat product and analyze smart device usage data in order to gain\n",
    "insight into how people are already using their smart devices. Then, using this information, she would like high-level\n",
    "recommendations for how these trends can inform Bellabeat marketing strategy.\n",
    "\n",
    "## Scenario\n",
    "\n",
    "* I am a **Junior Data Analyst** working on the marketing analyst team at Bellabeat, a high-tech manufacturer of health-focused products for women. \n",
    "* Bellabeat has the potential to become even larger than what it is in the global smart device market.\n",
    "* I have been asked to  focus on one of Bellabeat’s products and analyze smart device data to gain insight into how consumers are using their smart devices\n",
    "* Finally I present my analysis to the executive team along with my recommendations for improving Bellabeat's marketing strategy.\n"
   ]
  },
  {
   "cell_type": "markdown",
   "id": "fcc5b241",
   "metadata": {
    "papermill": {
     "duration": 0.014562,
     "end_time": "2024-09-05T04:48:09.124565",
     "exception": false,
     "start_time": "2024-09-05T04:48:09.110003",
     "status": "completed"
    },
    "tags": []
   },
   "source": [
    "# <span style=\"color: #20beff;\">The complete analysis process</span>\n",
    "\n",
    "We perform the complete analysis process of this case study based of Google's six steps procedure for data analysis, namely:\n",
    "* **Ask**: Identifying the business task, considering the key stakeholders\n",
    "* **Prepare**: Preparing the dataset to be used including checking (ROCCC)\n",
    "* **Process**: The cleaning, sorting and filtering process to prep the data for calculations and analysis\n",
    "* **Analyze**: Putting the clean data to work, performing calculations and searching for trends or insights\n",
    "* **Share**: Communicating your high-level insights and recommendations, this is where visualization comes into action\n",
    "* **Act**: The final conclusion, how the team and business should apply you insights and what next steps can be taken"
   ]
  },
  {
   "cell_type": "markdown",
   "id": "4b91df23",
   "metadata": {
    "papermill": {
     "duration": 0.014919,
     "end_time": "2024-09-05T04:48:09.154475",
     "exception": false,
     "start_time": "2024-09-05T04:48:09.139556",
     "status": "completed"
    },
    "tags": []
   },
   "source": [
    "# <span style=\"color: #20beff;\">1. ASK Phase </span>\n",
    "\n",
    "## Business Task\n",
    "Help Bellabeat make better marketting decisions through analysis of fitness data from non bellabeat smart devices. In our case we use the **FitBit Fitness Tracker Data** \n",
    "\n",
    "## Key Stakeholders\n",
    "* **Urška Sršen**: Bellabeat’s cofounder and Chief Creative Officer\n",
    "* **Sando Mur**: Mathematician and Bellabeat’s cofounder; key member of the Bellabeat executive team\n"
   ]
  },
  {
   "cell_type": "markdown",
   "id": "dcaa4a38",
   "metadata": {
    "papermill": {
     "duration": 0.014479,
     "end_time": "2024-09-05T04:48:09.184306",
     "exception": false,
     "start_time": "2024-09-05T04:48:09.169827",
     "status": "completed"
    },
    "tags": []
   },
   "source": [
    "# <span style=\"color: #20beff;\">2. PREPARE Phase </span>\n",
    "\n",
    "## Dataset Used:\n",
    "The dataset used for this case study is the FitBit Fitness Tracker Dataset. \n",
    "\n",
    "## Accessibility: \n",
    "It is an open-source dataset made available to the public domain.\n",
    "\n",
    "## Data collection description: \n",
    "It was generated by respondents to a distributed survey via Amazon Mechanical Turk between 03.12.2016-05.12.2016. Thirty eligible Fitbit users consented to the submission of personal tracker data, including minute-level output for physical activity, heart rate, and sleep monitoring."
   ]
  },
  {
   "cell_type": "code",
   "execution_count": 1,
   "id": "1b6df602",
   "metadata": {
    "_cell_guid": "b1076dfc-b9ad-4769-8c92-a6c4dae69d19",
    "_uuid": "8f2839f25d086af736a60e9eeb907d3b93b6e0e5",
    "execution": {
     "iopub.execute_input": "2024-09-05T04:48:09.215668Z",
     "iopub.status.busy": "2024-09-05T04:48:09.215147Z",
     "iopub.status.idle": "2024-09-05T04:48:11.628226Z",
     "shell.execute_reply": "2024-09-05T04:48:11.627027Z"
    },
    "papermill": {
     "duration": 2.432225,
     "end_time": "2024-09-05T04:48:11.631203",
     "exception": false,
     "start_time": "2024-09-05T04:48:09.198978",
     "status": "completed"
    },
    "tags": []
   },
   "outputs": [
    {
     "name": "stdout",
     "output_type": "stream",
     "text": [
      "/kaggle/input/fitbit/mturkfitbit_export_3.12.16-4.11.16/Fitabase Data 3.12.16-4.11.16/minuteCaloriesNarrow_merged.csv\n",
      "/kaggle/input/fitbit/mturkfitbit_export_3.12.16-4.11.16/Fitabase Data 3.12.16-4.11.16/weightLogInfo_merged.csv\n",
      "/kaggle/input/fitbit/mturkfitbit_export_3.12.16-4.11.16/Fitabase Data 3.12.16-4.11.16/minuteMETsNarrow_merged.csv\n",
      "/kaggle/input/fitbit/mturkfitbit_export_3.12.16-4.11.16/Fitabase Data 3.12.16-4.11.16/hourlyCalories_merged.csv\n",
      "/kaggle/input/fitbit/mturkfitbit_export_3.12.16-4.11.16/Fitabase Data 3.12.16-4.11.16/heartrate_seconds_merged.csv\n",
      "/kaggle/input/fitbit/mturkfitbit_export_3.12.16-4.11.16/Fitabase Data 3.12.16-4.11.16/minuteSleep_merged.csv\n",
      "/kaggle/input/fitbit/mturkfitbit_export_3.12.16-4.11.16/Fitabase Data 3.12.16-4.11.16/hourlyIntensities_merged.csv\n",
      "/kaggle/input/fitbit/mturkfitbit_export_3.12.16-4.11.16/Fitabase Data 3.12.16-4.11.16/hourlySteps_merged.csv\n",
      "/kaggle/input/fitbit/mturkfitbit_export_3.12.16-4.11.16/Fitabase Data 3.12.16-4.11.16/minuteStepsNarrow_merged.csv\n",
      "/kaggle/input/fitbit/mturkfitbit_export_3.12.16-4.11.16/Fitabase Data 3.12.16-4.11.16/minuteIntensitiesNarrow_merged.csv\n",
      "/kaggle/input/fitbit/mturkfitbit_export_3.12.16-4.11.16/Fitabase Data 3.12.16-4.11.16/dailyActivity_merged.csv\n",
      "/kaggle/input/fitbit/mturkfitbit_export_4.12.16-5.12.16/Fitabase Data 4.12.16-5.12.16/minuteCaloriesNarrow_merged.csv\n",
      "/kaggle/input/fitbit/mturkfitbit_export_4.12.16-5.12.16/Fitabase Data 4.12.16-5.12.16/weightLogInfo_merged.csv\n",
      "/kaggle/input/fitbit/mturkfitbit_export_4.12.16-5.12.16/Fitabase Data 4.12.16-5.12.16/sleepDay_merged.csv\n",
      "/kaggle/input/fitbit/mturkfitbit_export_4.12.16-5.12.16/Fitabase Data 4.12.16-5.12.16/dailyIntensities_merged.csv\n",
      "/kaggle/input/fitbit/mturkfitbit_export_4.12.16-5.12.16/Fitabase Data 4.12.16-5.12.16/minuteIntensitiesWide_merged.csv\n",
      "/kaggle/input/fitbit/mturkfitbit_export_4.12.16-5.12.16/Fitabase Data 4.12.16-5.12.16/minuteMETsNarrow_merged.csv\n",
      "/kaggle/input/fitbit/mturkfitbit_export_4.12.16-5.12.16/Fitabase Data 4.12.16-5.12.16/dailyCalories_merged.csv\n",
      "/kaggle/input/fitbit/mturkfitbit_export_4.12.16-5.12.16/Fitabase Data 4.12.16-5.12.16/hourlyCalories_merged.csv\n",
      "/kaggle/input/fitbit/mturkfitbit_export_4.12.16-5.12.16/Fitabase Data 4.12.16-5.12.16/heartrate_seconds_merged.csv\n",
      "/kaggle/input/fitbit/mturkfitbit_export_4.12.16-5.12.16/Fitabase Data 4.12.16-5.12.16/minuteSleep_merged.csv\n",
      "/kaggle/input/fitbit/mturkfitbit_export_4.12.16-5.12.16/Fitabase Data 4.12.16-5.12.16/hourlyIntensities_merged.csv\n",
      "/kaggle/input/fitbit/mturkfitbit_export_4.12.16-5.12.16/Fitabase Data 4.12.16-5.12.16/hourlySteps_merged.csv\n",
      "/kaggle/input/fitbit/mturkfitbit_export_4.12.16-5.12.16/Fitabase Data 4.12.16-5.12.16/minuteStepsNarrow_merged.csv\n",
      "/kaggle/input/fitbit/mturkfitbit_export_4.12.16-5.12.16/Fitabase Data 4.12.16-5.12.16/dailySteps_merged.csv\n",
      "/kaggle/input/fitbit/mturkfitbit_export_4.12.16-5.12.16/Fitabase Data 4.12.16-5.12.16/minuteStepsWide_merged.csv\n",
      "/kaggle/input/fitbit/mturkfitbit_export_4.12.16-5.12.16/Fitabase Data 4.12.16-5.12.16/minuteIntensitiesNarrow_merged.csv\n",
      "/kaggle/input/fitbit/mturkfitbit_export_4.12.16-5.12.16/Fitabase Data 4.12.16-5.12.16/minuteCaloriesWide_merged.csv\n",
      "/kaggle/input/fitbit/mturkfitbit_export_4.12.16-5.12.16/Fitabase Data 4.12.16-5.12.16/dailyActivity_merged.csv\n"
     ]
    }
   ],
   "source": [
    "import numpy as np \n",
    "import pandas as pd \n",
    "import seaborn as sns\n",
    "import matplotlib.pyplot as plt\n",
    "\n",
    "import os\n",
    "for dirname, _, filenames in os.walk('/kaggle/input'):\n",
    "    for filename in filenames:\n",
    "        print(os.path.join(dirname, filename))"
   ]
  },
  {
   "cell_type": "markdown",
   "id": "71edf88c",
   "metadata": {
    "papermill": {
     "duration": 0.014775,
     "end_time": "2024-09-05T04:48:11.661405",
     "exception": false,
     "start_time": "2024-09-05T04:48:11.646630",
     "status": "completed"
    },
    "tags": []
   },
   "source": [
    "## Importing the required datasets"
   ]
  },
  {
   "cell_type": "code",
   "execution_count": 2,
   "id": "90d5ce07",
   "metadata": {
    "execution": {
     "iopub.execute_input": "2024-09-05T04:48:11.694152Z",
     "iopub.status.busy": "2024-09-05T04:48:11.693504Z",
     "iopub.status.idle": "2024-09-05T04:48:11.804292Z",
     "shell.execute_reply": "2024-09-05T04:48:11.803008Z"
    },
    "papermill": {
     "duration": 0.131295,
     "end_time": "2024-09-05T04:48:11.807708",
     "exception": false,
     "start_time": "2024-09-05T04:48:11.676413",
     "status": "completed"
    },
    "tags": []
   },
   "outputs": [],
   "source": [
    "daily_activity = pd.read_csv('/kaggle/input/fitbit/mturkfitbit_export_4.12.16-5.12.16/Fitabase Data 4.12.16-5.12.16/dailyActivity_merged.csv')\n",
    "daily_calories = pd.read_csv('/kaggle/input/fitbit/mturkfitbit_export_4.12.16-5.12.16/Fitabase Data 4.12.16-5.12.16/dailyCalories_merged.csv')\n",
    "daily_steps = pd.read_csv('/kaggle/input/fitbit/mturkfitbit_export_4.12.16-5.12.16/Fitabase Data 4.12.16-5.12.16/dailySteps_merged.csv')\n",
    "daily_intensities = pd.read_csv('/kaggle/input/fitbit/mturkfitbit_export_4.12.16-5.12.16/Fitabase Data 4.12.16-5.12.16/dailyIntensities_merged.csv')\n",
    "daily_sleep = pd.read_csv('/kaggle/input/fitbit/mturkfitbit_export_4.12.16-5.12.16/Fitabase Data 4.12.16-5.12.16/sleepDay_merged.csv')\n",
    "hourly_intensities = pd.read_csv('/kaggle/input/fitbit/mturkfitbit_export_4.12.16-5.12.16/Fitabase Data 4.12.16-5.12.16/hourlyIntensities_merged.csv')"
   ]
  },
  {
   "cell_type": "markdown",
   "id": "2b5f4a51",
   "metadata": {
    "papermill": {
     "duration": 0.014969,
     "end_time": "2024-09-05T04:48:11.838271",
     "exception": false,
     "start_time": "2024-09-05T04:48:11.823302",
     "status": "completed"
    },
    "tags": []
   },
   "source": [
    "# <span style=\"color: #20beff;\">3. PROCESS and ANALYSE Phase </span>\n",
    "\n",
    "## Tools Used: \n",
    "I am using Python for this case study due to it's effective data analysis and processing libraries such as pandas. It also supports for great visualization through packages and libraries like Matplotlib and seaborn. I have done the same case study using R as well, which is equally as great in terms of tools for this analysis task and probably more effective for visualization."
   ]
  },
  {
   "cell_type": "code",
   "execution_count": 3,
   "id": "03a63289",
   "metadata": {
    "execution": {
     "iopub.execute_input": "2024-09-05T04:48:11.870412Z",
     "iopub.status.busy": "2024-09-05T04:48:11.869987Z",
     "iopub.status.idle": "2024-09-05T04:48:11.925446Z",
     "shell.execute_reply": "2024-09-05T04:48:11.924176Z"
    },
    "papermill": {
     "duration": 0.075326,
     "end_time": "2024-09-05T04:48:11.928763",
     "exception": false,
     "start_time": "2024-09-05T04:48:11.853437",
     "status": "completed"
    },
    "tags": []
   },
   "outputs": [
    {
     "name": "stdout",
     "output_type": "stream",
     "text": [
      "<class 'pandas.core.frame.DataFrame'>\n",
      "RangeIndex: 940 entries, 0 to 939\n",
      "Data columns (total 15 columns):\n",
      " #   Column                    Non-Null Count  Dtype  \n",
      "---  ------                    --------------  -----  \n",
      " 0   Id                        940 non-null    int64  \n",
      " 1   ActivityDate              940 non-null    object \n",
      " 2   TotalSteps                940 non-null    int64  \n",
      " 3   TotalDistance             940 non-null    float64\n",
      " 4   TrackerDistance           940 non-null    float64\n",
      " 5   LoggedActivitiesDistance  940 non-null    float64\n",
      " 6   VeryActiveDistance        940 non-null    float64\n",
      " 7   ModeratelyActiveDistance  940 non-null    float64\n",
      " 8   LightActiveDistance       940 non-null    float64\n",
      " 9   SedentaryActiveDistance   940 non-null    float64\n",
      " 10  VeryActiveMinutes         940 non-null    int64  \n",
      " 11  FairlyActiveMinutes       940 non-null    int64  \n",
      " 12  LightlyActiveMinutes      940 non-null    int64  \n",
      " 13  SedentaryMinutes          940 non-null    int64  \n",
      " 14  Calories                  940 non-null    int64  \n",
      "dtypes: float64(7), int64(7), object(1)\n",
      "memory usage: 110.3+ KB\n"
     ]
    },
    {
     "data": {
      "text/html": [
       "<div>\n",
       "<style scoped>\n",
       "    .dataframe tbody tr th:only-of-type {\n",
       "        vertical-align: middle;\n",
       "    }\n",
       "\n",
       "    .dataframe tbody tr th {\n",
       "        vertical-align: top;\n",
       "    }\n",
       "\n",
       "    .dataframe thead th {\n",
       "        text-align: right;\n",
       "    }\n",
       "</style>\n",
       "<table border=\"1\" class=\"dataframe\">\n",
       "  <thead>\n",
       "    <tr style=\"text-align: right;\">\n",
       "      <th></th>\n",
       "      <th>Id</th>\n",
       "      <th>ActivityDate</th>\n",
       "      <th>TotalSteps</th>\n",
       "      <th>TotalDistance</th>\n",
       "      <th>TrackerDistance</th>\n",
       "      <th>LoggedActivitiesDistance</th>\n",
       "      <th>VeryActiveDistance</th>\n",
       "      <th>ModeratelyActiveDistance</th>\n",
       "      <th>LightActiveDistance</th>\n",
       "      <th>SedentaryActiveDistance</th>\n",
       "      <th>VeryActiveMinutes</th>\n",
       "      <th>FairlyActiveMinutes</th>\n",
       "      <th>LightlyActiveMinutes</th>\n",
       "      <th>SedentaryMinutes</th>\n",
       "      <th>Calories</th>\n",
       "    </tr>\n",
       "  </thead>\n",
       "  <tbody>\n",
       "    <tr>\n",
       "      <th>0</th>\n",
       "      <td>1503960366</td>\n",
       "      <td>4/12/2016</td>\n",
       "      <td>13162</td>\n",
       "      <td>8.50</td>\n",
       "      <td>8.50</td>\n",
       "      <td>0.0</td>\n",
       "      <td>1.88</td>\n",
       "      <td>0.55</td>\n",
       "      <td>6.06</td>\n",
       "      <td>0.0</td>\n",
       "      <td>25</td>\n",
       "      <td>13</td>\n",
       "      <td>328</td>\n",
       "      <td>728</td>\n",
       "      <td>1985</td>\n",
       "    </tr>\n",
       "    <tr>\n",
       "      <th>1</th>\n",
       "      <td>1503960366</td>\n",
       "      <td>4/13/2016</td>\n",
       "      <td>10735</td>\n",
       "      <td>6.97</td>\n",
       "      <td>6.97</td>\n",
       "      <td>0.0</td>\n",
       "      <td>1.57</td>\n",
       "      <td>0.69</td>\n",
       "      <td>4.71</td>\n",
       "      <td>0.0</td>\n",
       "      <td>21</td>\n",
       "      <td>19</td>\n",
       "      <td>217</td>\n",
       "      <td>776</td>\n",
       "      <td>1797</td>\n",
       "    </tr>\n",
       "    <tr>\n",
       "      <th>2</th>\n",
       "      <td>1503960366</td>\n",
       "      <td>4/14/2016</td>\n",
       "      <td>10460</td>\n",
       "      <td>6.74</td>\n",
       "      <td>6.74</td>\n",
       "      <td>0.0</td>\n",
       "      <td>2.44</td>\n",
       "      <td>0.40</td>\n",
       "      <td>3.91</td>\n",
       "      <td>0.0</td>\n",
       "      <td>30</td>\n",
       "      <td>11</td>\n",
       "      <td>181</td>\n",
       "      <td>1218</td>\n",
       "      <td>1776</td>\n",
       "    </tr>\n",
       "    <tr>\n",
       "      <th>3</th>\n",
       "      <td>1503960366</td>\n",
       "      <td>4/15/2016</td>\n",
       "      <td>9762</td>\n",
       "      <td>6.28</td>\n",
       "      <td>6.28</td>\n",
       "      <td>0.0</td>\n",
       "      <td>2.14</td>\n",
       "      <td>1.26</td>\n",
       "      <td>2.83</td>\n",
       "      <td>0.0</td>\n",
       "      <td>29</td>\n",
       "      <td>34</td>\n",
       "      <td>209</td>\n",
       "      <td>726</td>\n",
       "      <td>1745</td>\n",
       "    </tr>\n",
       "    <tr>\n",
       "      <th>4</th>\n",
       "      <td>1503960366</td>\n",
       "      <td>4/16/2016</td>\n",
       "      <td>12669</td>\n",
       "      <td>8.16</td>\n",
       "      <td>8.16</td>\n",
       "      <td>0.0</td>\n",
       "      <td>2.71</td>\n",
       "      <td>0.41</td>\n",
       "      <td>5.04</td>\n",
       "      <td>0.0</td>\n",
       "      <td>36</td>\n",
       "      <td>10</td>\n",
       "      <td>221</td>\n",
       "      <td>773</td>\n",
       "      <td>1863</td>\n",
       "    </tr>\n",
       "  </tbody>\n",
       "</table>\n",
       "</div>"
      ],
      "text/plain": [
       "           Id ActivityDate  TotalSteps  TotalDistance  TrackerDistance  \\\n",
       "0  1503960366    4/12/2016       13162           8.50             8.50   \n",
       "1  1503960366    4/13/2016       10735           6.97             6.97   \n",
       "2  1503960366    4/14/2016       10460           6.74             6.74   \n",
       "3  1503960366    4/15/2016        9762           6.28             6.28   \n",
       "4  1503960366    4/16/2016       12669           8.16             8.16   \n",
       "\n",
       "   LoggedActivitiesDistance  VeryActiveDistance  ModeratelyActiveDistance  \\\n",
       "0                       0.0                1.88                      0.55   \n",
       "1                       0.0                1.57                      0.69   \n",
       "2                       0.0                2.44                      0.40   \n",
       "3                       0.0                2.14                      1.26   \n",
       "4                       0.0                2.71                      0.41   \n",
       "\n",
       "   LightActiveDistance  SedentaryActiveDistance  VeryActiveMinutes  \\\n",
       "0                 6.06                      0.0                 25   \n",
       "1                 4.71                      0.0                 21   \n",
       "2                 3.91                      0.0                 30   \n",
       "3                 2.83                      0.0                 29   \n",
       "4                 5.04                      0.0                 36   \n",
       "\n",
       "   FairlyActiveMinutes  LightlyActiveMinutes  SedentaryMinutes  Calories  \n",
       "0                   13                   328               728      1985  \n",
       "1                   19                   217               776      1797  \n",
       "2                   11                   181              1218      1776  \n",
       "3                   34                   209               726      1745  \n",
       "4                   10                   221               773      1863  "
      ]
     },
     "execution_count": 3,
     "metadata": {},
     "output_type": "execute_result"
    }
   ],
   "source": [
    "daily_activity.info()\n",
    "daily_activity.head()"
   ]
  },
  {
   "cell_type": "code",
   "execution_count": 4,
   "id": "1825c92f",
   "metadata": {
    "execution": {
     "iopub.execute_input": "2024-09-05T04:48:11.962997Z",
     "iopub.status.busy": "2024-09-05T04:48:11.962498Z",
     "iopub.status.idle": "2024-09-05T04:48:11.981187Z",
     "shell.execute_reply": "2024-09-05T04:48:11.980056Z"
    },
    "papermill": {
     "duration": 0.038814,
     "end_time": "2024-09-05T04:48:11.983959",
     "exception": false,
     "start_time": "2024-09-05T04:48:11.945145",
     "status": "completed"
    },
    "tags": []
   },
   "outputs": [
    {
     "name": "stdout",
     "output_type": "stream",
     "text": [
      "<class 'pandas.core.frame.DataFrame'>\n",
      "RangeIndex: 940 entries, 0 to 939\n",
      "Data columns (total 3 columns):\n",
      " #   Column       Non-Null Count  Dtype \n",
      "---  ------       --------------  ----- \n",
      " 0   Id           940 non-null    int64 \n",
      " 1   ActivityDay  940 non-null    object\n",
      " 2   Calories     940 non-null    int64 \n",
      "dtypes: int64(2), object(1)\n",
      "memory usage: 22.2+ KB\n"
     ]
    },
    {
     "data": {
      "text/html": [
       "<div>\n",
       "<style scoped>\n",
       "    .dataframe tbody tr th:only-of-type {\n",
       "        vertical-align: middle;\n",
       "    }\n",
       "\n",
       "    .dataframe tbody tr th {\n",
       "        vertical-align: top;\n",
       "    }\n",
       "\n",
       "    .dataframe thead th {\n",
       "        text-align: right;\n",
       "    }\n",
       "</style>\n",
       "<table border=\"1\" class=\"dataframe\">\n",
       "  <thead>\n",
       "    <tr style=\"text-align: right;\">\n",
       "      <th></th>\n",
       "      <th>Id</th>\n",
       "      <th>ActivityDay</th>\n",
       "      <th>Calories</th>\n",
       "    </tr>\n",
       "  </thead>\n",
       "  <tbody>\n",
       "    <tr>\n",
       "      <th>0</th>\n",
       "      <td>1503960366</td>\n",
       "      <td>4/12/2016</td>\n",
       "      <td>1985</td>\n",
       "    </tr>\n",
       "    <tr>\n",
       "      <th>1</th>\n",
       "      <td>1503960366</td>\n",
       "      <td>4/13/2016</td>\n",
       "      <td>1797</td>\n",
       "    </tr>\n",
       "    <tr>\n",
       "      <th>2</th>\n",
       "      <td>1503960366</td>\n",
       "      <td>4/14/2016</td>\n",
       "      <td>1776</td>\n",
       "    </tr>\n",
       "    <tr>\n",
       "      <th>3</th>\n",
       "      <td>1503960366</td>\n",
       "      <td>4/15/2016</td>\n",
       "      <td>1745</td>\n",
       "    </tr>\n",
       "    <tr>\n",
       "      <th>4</th>\n",
       "      <td>1503960366</td>\n",
       "      <td>4/16/2016</td>\n",
       "      <td>1863</td>\n",
       "    </tr>\n",
       "  </tbody>\n",
       "</table>\n",
       "</div>"
      ],
      "text/plain": [
       "           Id ActivityDay  Calories\n",
       "0  1503960366   4/12/2016      1985\n",
       "1  1503960366   4/13/2016      1797\n",
       "2  1503960366   4/14/2016      1776\n",
       "3  1503960366   4/15/2016      1745\n",
       "4  1503960366   4/16/2016      1863"
      ]
     },
     "execution_count": 4,
     "metadata": {},
     "output_type": "execute_result"
    }
   ],
   "source": [
    "daily_calories.info()\n",
    "daily_calories.head()"
   ]
  },
  {
   "cell_type": "code",
   "execution_count": 5,
   "id": "bc848d88",
   "metadata": {
    "execution": {
     "iopub.execute_input": "2024-09-05T04:48:12.018295Z",
     "iopub.status.busy": "2024-09-05T04:48:12.017791Z",
     "iopub.status.idle": "2024-09-05T04:48:12.037323Z",
     "shell.execute_reply": "2024-09-05T04:48:12.035818Z"
    },
    "papermill": {
     "duration": 0.040012,
     "end_time": "2024-09-05T04:48:12.040167",
     "exception": false,
     "start_time": "2024-09-05T04:48:12.000155",
     "status": "completed"
    },
    "tags": []
   },
   "outputs": [
    {
     "name": "stdout",
     "output_type": "stream",
     "text": [
      "<class 'pandas.core.frame.DataFrame'>\n",
      "RangeIndex: 940 entries, 0 to 939\n",
      "Data columns (total 3 columns):\n",
      " #   Column       Non-Null Count  Dtype \n",
      "---  ------       --------------  ----- \n",
      " 0   Id           940 non-null    int64 \n",
      " 1   ActivityDay  940 non-null    object\n",
      " 2   StepTotal    940 non-null    int64 \n",
      "dtypes: int64(2), object(1)\n",
      "memory usage: 22.2+ KB\n"
     ]
    },
    {
     "data": {
      "text/html": [
       "<div>\n",
       "<style scoped>\n",
       "    .dataframe tbody tr th:only-of-type {\n",
       "        vertical-align: middle;\n",
       "    }\n",
       "\n",
       "    .dataframe tbody tr th {\n",
       "        vertical-align: top;\n",
       "    }\n",
       "\n",
       "    .dataframe thead th {\n",
       "        text-align: right;\n",
       "    }\n",
       "</style>\n",
       "<table border=\"1\" class=\"dataframe\">\n",
       "  <thead>\n",
       "    <tr style=\"text-align: right;\">\n",
       "      <th></th>\n",
       "      <th>Id</th>\n",
       "      <th>ActivityDay</th>\n",
       "      <th>StepTotal</th>\n",
       "    </tr>\n",
       "  </thead>\n",
       "  <tbody>\n",
       "    <tr>\n",
       "      <th>0</th>\n",
       "      <td>1503960366</td>\n",
       "      <td>4/12/2016</td>\n",
       "      <td>13162</td>\n",
       "    </tr>\n",
       "    <tr>\n",
       "      <th>1</th>\n",
       "      <td>1503960366</td>\n",
       "      <td>4/13/2016</td>\n",
       "      <td>10735</td>\n",
       "    </tr>\n",
       "    <tr>\n",
       "      <th>2</th>\n",
       "      <td>1503960366</td>\n",
       "      <td>4/14/2016</td>\n",
       "      <td>10460</td>\n",
       "    </tr>\n",
       "    <tr>\n",
       "      <th>3</th>\n",
       "      <td>1503960366</td>\n",
       "      <td>4/15/2016</td>\n",
       "      <td>9762</td>\n",
       "    </tr>\n",
       "    <tr>\n",
       "      <th>4</th>\n",
       "      <td>1503960366</td>\n",
       "      <td>4/16/2016</td>\n",
       "      <td>12669</td>\n",
       "    </tr>\n",
       "  </tbody>\n",
       "</table>\n",
       "</div>"
      ],
      "text/plain": [
       "           Id ActivityDay  StepTotal\n",
       "0  1503960366   4/12/2016      13162\n",
       "1  1503960366   4/13/2016      10735\n",
       "2  1503960366   4/14/2016      10460\n",
       "3  1503960366   4/15/2016       9762\n",
       "4  1503960366   4/16/2016      12669"
      ]
     },
     "execution_count": 5,
     "metadata": {},
     "output_type": "execute_result"
    }
   ],
   "source": [
    "daily_steps.info()\n",
    "daily_steps.head()"
   ]
  },
  {
   "cell_type": "code",
   "execution_count": 6,
   "id": "2b21ddf0",
   "metadata": {
    "execution": {
     "iopub.execute_input": "2024-09-05T04:48:12.075059Z",
     "iopub.status.busy": "2024-09-05T04:48:12.074598Z",
     "iopub.status.idle": "2024-09-05T04:48:12.099735Z",
     "shell.execute_reply": "2024-09-05T04:48:12.098200Z"
    },
    "papermill": {
     "duration": 0.046221,
     "end_time": "2024-09-05T04:48:12.102805",
     "exception": false,
     "start_time": "2024-09-05T04:48:12.056584",
     "status": "completed"
    },
    "tags": []
   },
   "outputs": [
    {
     "name": "stdout",
     "output_type": "stream",
     "text": [
      "<class 'pandas.core.frame.DataFrame'>\n",
      "RangeIndex: 940 entries, 0 to 939\n",
      "Data columns (total 10 columns):\n",
      " #   Column                    Non-Null Count  Dtype  \n",
      "---  ------                    --------------  -----  \n",
      " 0   Id                        940 non-null    int64  \n",
      " 1   ActivityDay               940 non-null    object \n",
      " 2   SedentaryMinutes          940 non-null    int64  \n",
      " 3   LightlyActiveMinutes      940 non-null    int64  \n",
      " 4   FairlyActiveMinutes       940 non-null    int64  \n",
      " 5   VeryActiveMinutes         940 non-null    int64  \n",
      " 6   SedentaryActiveDistance   940 non-null    float64\n",
      " 7   LightActiveDistance       940 non-null    float64\n",
      " 8   ModeratelyActiveDistance  940 non-null    float64\n",
      " 9   VeryActiveDistance        940 non-null    float64\n",
      "dtypes: float64(4), int64(5), object(1)\n",
      "memory usage: 73.6+ KB\n"
     ]
    },
    {
     "data": {
      "text/html": [
       "<div>\n",
       "<style scoped>\n",
       "    .dataframe tbody tr th:only-of-type {\n",
       "        vertical-align: middle;\n",
       "    }\n",
       "\n",
       "    .dataframe tbody tr th {\n",
       "        vertical-align: top;\n",
       "    }\n",
       "\n",
       "    .dataframe thead th {\n",
       "        text-align: right;\n",
       "    }\n",
       "</style>\n",
       "<table border=\"1\" class=\"dataframe\">\n",
       "  <thead>\n",
       "    <tr style=\"text-align: right;\">\n",
       "      <th></th>\n",
       "      <th>Id</th>\n",
       "      <th>ActivityDay</th>\n",
       "      <th>SedentaryMinutes</th>\n",
       "      <th>LightlyActiveMinutes</th>\n",
       "      <th>FairlyActiveMinutes</th>\n",
       "      <th>VeryActiveMinutes</th>\n",
       "      <th>SedentaryActiveDistance</th>\n",
       "      <th>LightActiveDistance</th>\n",
       "      <th>ModeratelyActiveDistance</th>\n",
       "      <th>VeryActiveDistance</th>\n",
       "    </tr>\n",
       "  </thead>\n",
       "  <tbody>\n",
       "    <tr>\n",
       "      <th>0</th>\n",
       "      <td>1503960366</td>\n",
       "      <td>4/12/2016</td>\n",
       "      <td>728</td>\n",
       "      <td>328</td>\n",
       "      <td>13</td>\n",
       "      <td>25</td>\n",
       "      <td>0.0</td>\n",
       "      <td>6.06</td>\n",
       "      <td>0.55</td>\n",
       "      <td>1.88</td>\n",
       "    </tr>\n",
       "    <tr>\n",
       "      <th>1</th>\n",
       "      <td>1503960366</td>\n",
       "      <td>4/13/2016</td>\n",
       "      <td>776</td>\n",
       "      <td>217</td>\n",
       "      <td>19</td>\n",
       "      <td>21</td>\n",
       "      <td>0.0</td>\n",
       "      <td>4.71</td>\n",
       "      <td>0.69</td>\n",
       "      <td>1.57</td>\n",
       "    </tr>\n",
       "    <tr>\n",
       "      <th>2</th>\n",
       "      <td>1503960366</td>\n",
       "      <td>4/14/2016</td>\n",
       "      <td>1218</td>\n",
       "      <td>181</td>\n",
       "      <td>11</td>\n",
       "      <td>30</td>\n",
       "      <td>0.0</td>\n",
       "      <td>3.91</td>\n",
       "      <td>0.40</td>\n",
       "      <td>2.44</td>\n",
       "    </tr>\n",
       "    <tr>\n",
       "      <th>3</th>\n",
       "      <td>1503960366</td>\n",
       "      <td>4/15/2016</td>\n",
       "      <td>726</td>\n",
       "      <td>209</td>\n",
       "      <td>34</td>\n",
       "      <td>29</td>\n",
       "      <td>0.0</td>\n",
       "      <td>2.83</td>\n",
       "      <td>1.26</td>\n",
       "      <td>2.14</td>\n",
       "    </tr>\n",
       "    <tr>\n",
       "      <th>4</th>\n",
       "      <td>1503960366</td>\n",
       "      <td>4/16/2016</td>\n",
       "      <td>773</td>\n",
       "      <td>221</td>\n",
       "      <td>10</td>\n",
       "      <td>36</td>\n",
       "      <td>0.0</td>\n",
       "      <td>5.04</td>\n",
       "      <td>0.41</td>\n",
       "      <td>2.71</td>\n",
       "    </tr>\n",
       "  </tbody>\n",
       "</table>\n",
       "</div>"
      ],
      "text/plain": [
       "           Id ActivityDay  SedentaryMinutes  LightlyActiveMinutes  \\\n",
       "0  1503960366   4/12/2016               728                   328   \n",
       "1  1503960366   4/13/2016               776                   217   \n",
       "2  1503960366   4/14/2016              1218                   181   \n",
       "3  1503960366   4/15/2016               726                   209   \n",
       "4  1503960366   4/16/2016               773                   221   \n",
       "\n",
       "   FairlyActiveMinutes  VeryActiveMinutes  SedentaryActiveDistance  \\\n",
       "0                   13                 25                      0.0   \n",
       "1                   19                 21                      0.0   \n",
       "2                   11                 30                      0.0   \n",
       "3                   34                 29                      0.0   \n",
       "4                   10                 36                      0.0   \n",
       "\n",
       "   LightActiveDistance  ModeratelyActiveDistance  VeryActiveDistance  \n",
       "0                 6.06                      0.55                1.88  \n",
       "1                 4.71                      0.69                1.57  \n",
       "2                 3.91                      0.40                2.44  \n",
       "3                 2.83                      1.26                2.14  \n",
       "4                 5.04                      0.41                2.71  "
      ]
     },
     "execution_count": 6,
     "metadata": {},
     "output_type": "execute_result"
    }
   ],
   "source": [
    "daily_intensities.info()\n",
    "daily_intensities.head()"
   ]
  },
  {
   "cell_type": "code",
   "execution_count": 7,
   "id": "178911eb",
   "metadata": {
    "execution": {
     "iopub.execute_input": "2024-09-05T04:48:12.138756Z",
     "iopub.status.busy": "2024-09-05T04:48:12.137703Z",
     "iopub.status.idle": "2024-09-05T04:48:12.156278Z",
     "shell.execute_reply": "2024-09-05T04:48:12.154666Z"
    },
    "papermill": {
     "duration": 0.039933,
     "end_time": "2024-09-05T04:48:12.159487",
     "exception": false,
     "start_time": "2024-09-05T04:48:12.119554",
     "status": "completed"
    },
    "tags": []
   },
   "outputs": [
    {
     "name": "stdout",
     "output_type": "stream",
     "text": [
      "<class 'pandas.core.frame.DataFrame'>\n",
      "RangeIndex: 413 entries, 0 to 412\n",
      "Data columns (total 5 columns):\n",
      " #   Column              Non-Null Count  Dtype \n",
      "---  ------              --------------  ----- \n",
      " 0   Id                  413 non-null    int64 \n",
      " 1   SleepDay            413 non-null    object\n",
      " 2   TotalSleepRecords   413 non-null    int64 \n",
      " 3   TotalMinutesAsleep  413 non-null    int64 \n",
      " 4   TotalTimeInBed      413 non-null    int64 \n",
      "dtypes: int64(4), object(1)\n",
      "memory usage: 16.3+ KB\n"
     ]
    },
    {
     "data": {
      "text/html": [
       "<div>\n",
       "<style scoped>\n",
       "    .dataframe tbody tr th:only-of-type {\n",
       "        vertical-align: middle;\n",
       "    }\n",
       "\n",
       "    .dataframe tbody tr th {\n",
       "        vertical-align: top;\n",
       "    }\n",
       "\n",
       "    .dataframe thead th {\n",
       "        text-align: right;\n",
       "    }\n",
       "</style>\n",
       "<table border=\"1\" class=\"dataframe\">\n",
       "  <thead>\n",
       "    <tr style=\"text-align: right;\">\n",
       "      <th></th>\n",
       "      <th>Id</th>\n",
       "      <th>SleepDay</th>\n",
       "      <th>TotalSleepRecords</th>\n",
       "      <th>TotalMinutesAsleep</th>\n",
       "      <th>TotalTimeInBed</th>\n",
       "    </tr>\n",
       "  </thead>\n",
       "  <tbody>\n",
       "    <tr>\n",
       "      <th>0</th>\n",
       "      <td>1503960366</td>\n",
       "      <td>4/12/2016 12:00:00 AM</td>\n",
       "      <td>1</td>\n",
       "      <td>327</td>\n",
       "      <td>346</td>\n",
       "    </tr>\n",
       "    <tr>\n",
       "      <th>1</th>\n",
       "      <td>1503960366</td>\n",
       "      <td>4/13/2016 12:00:00 AM</td>\n",
       "      <td>2</td>\n",
       "      <td>384</td>\n",
       "      <td>407</td>\n",
       "    </tr>\n",
       "    <tr>\n",
       "      <th>2</th>\n",
       "      <td>1503960366</td>\n",
       "      <td>4/15/2016 12:00:00 AM</td>\n",
       "      <td>1</td>\n",
       "      <td>412</td>\n",
       "      <td>442</td>\n",
       "    </tr>\n",
       "    <tr>\n",
       "      <th>3</th>\n",
       "      <td>1503960366</td>\n",
       "      <td>4/16/2016 12:00:00 AM</td>\n",
       "      <td>2</td>\n",
       "      <td>340</td>\n",
       "      <td>367</td>\n",
       "    </tr>\n",
       "    <tr>\n",
       "      <th>4</th>\n",
       "      <td>1503960366</td>\n",
       "      <td>4/17/2016 12:00:00 AM</td>\n",
       "      <td>1</td>\n",
       "      <td>700</td>\n",
       "      <td>712</td>\n",
       "    </tr>\n",
       "  </tbody>\n",
       "</table>\n",
       "</div>"
      ],
      "text/plain": [
       "           Id               SleepDay  TotalSleepRecords  TotalMinutesAsleep  \\\n",
       "0  1503960366  4/12/2016 12:00:00 AM                  1                 327   \n",
       "1  1503960366  4/13/2016 12:00:00 AM                  2                 384   \n",
       "2  1503960366  4/15/2016 12:00:00 AM                  1                 412   \n",
       "3  1503960366  4/16/2016 12:00:00 AM                  2                 340   \n",
       "4  1503960366  4/17/2016 12:00:00 AM                  1                 700   \n",
       "\n",
       "   TotalTimeInBed  \n",
       "0             346  \n",
       "1             407  \n",
       "2             442  \n",
       "3             367  \n",
       "4             712  "
      ]
     },
     "execution_count": 7,
     "metadata": {},
     "output_type": "execute_result"
    }
   ],
   "source": [
    "daily_sleep.info()\n",
    "daily_sleep.head()"
   ]
  },
  {
   "cell_type": "code",
   "execution_count": 8,
   "id": "bb5570e8",
   "metadata": {
    "execution": {
     "iopub.execute_input": "2024-09-05T04:48:12.195724Z",
     "iopub.status.busy": "2024-09-05T04:48:12.195298Z",
     "iopub.status.idle": "2024-09-05T04:48:12.217551Z",
     "shell.execute_reply": "2024-09-05T04:48:12.216114Z"
    },
    "papermill": {
     "duration": 0.044212,
     "end_time": "2024-09-05T04:48:12.220795",
     "exception": false,
     "start_time": "2024-09-05T04:48:12.176583",
     "status": "completed"
    },
    "tags": []
   },
   "outputs": [
    {
     "name": "stdout",
     "output_type": "stream",
     "text": [
      "<class 'pandas.core.frame.DataFrame'>\n",
      "RangeIndex: 22099 entries, 0 to 22098\n",
      "Data columns (total 4 columns):\n",
      " #   Column            Non-Null Count  Dtype  \n",
      "---  ------            --------------  -----  \n",
      " 0   Id                22099 non-null  int64  \n",
      " 1   ActivityHour      22099 non-null  object \n",
      " 2   TotalIntensity    22099 non-null  int64  \n",
      " 3   AverageIntensity  22099 non-null  float64\n",
      "dtypes: float64(1), int64(2), object(1)\n",
      "memory usage: 690.7+ KB\n"
     ]
    },
    {
     "data": {
      "text/html": [
       "<div>\n",
       "<style scoped>\n",
       "    .dataframe tbody tr th:only-of-type {\n",
       "        vertical-align: middle;\n",
       "    }\n",
       "\n",
       "    .dataframe tbody tr th {\n",
       "        vertical-align: top;\n",
       "    }\n",
       "\n",
       "    .dataframe thead th {\n",
       "        text-align: right;\n",
       "    }\n",
       "</style>\n",
       "<table border=\"1\" class=\"dataframe\">\n",
       "  <thead>\n",
       "    <tr style=\"text-align: right;\">\n",
       "      <th></th>\n",
       "      <th>Id</th>\n",
       "      <th>ActivityHour</th>\n",
       "      <th>TotalIntensity</th>\n",
       "      <th>AverageIntensity</th>\n",
       "    </tr>\n",
       "  </thead>\n",
       "  <tbody>\n",
       "    <tr>\n",
       "      <th>0</th>\n",
       "      <td>1503960366</td>\n",
       "      <td>4/12/2016 12:00:00 AM</td>\n",
       "      <td>20</td>\n",
       "      <td>0.333333</td>\n",
       "    </tr>\n",
       "    <tr>\n",
       "      <th>1</th>\n",
       "      <td>1503960366</td>\n",
       "      <td>4/12/2016 1:00:00 AM</td>\n",
       "      <td>8</td>\n",
       "      <td>0.133333</td>\n",
       "    </tr>\n",
       "    <tr>\n",
       "      <th>2</th>\n",
       "      <td>1503960366</td>\n",
       "      <td>4/12/2016 2:00:00 AM</td>\n",
       "      <td>7</td>\n",
       "      <td>0.116667</td>\n",
       "    </tr>\n",
       "    <tr>\n",
       "      <th>3</th>\n",
       "      <td>1503960366</td>\n",
       "      <td>4/12/2016 3:00:00 AM</td>\n",
       "      <td>0</td>\n",
       "      <td>0.000000</td>\n",
       "    </tr>\n",
       "    <tr>\n",
       "      <th>4</th>\n",
       "      <td>1503960366</td>\n",
       "      <td>4/12/2016 4:00:00 AM</td>\n",
       "      <td>0</td>\n",
       "      <td>0.000000</td>\n",
       "    </tr>\n",
       "  </tbody>\n",
       "</table>\n",
       "</div>"
      ],
      "text/plain": [
       "           Id           ActivityHour  TotalIntensity  AverageIntensity\n",
       "0  1503960366  4/12/2016 12:00:00 AM              20          0.333333\n",
       "1  1503960366   4/12/2016 1:00:00 AM               8          0.133333\n",
       "2  1503960366   4/12/2016 2:00:00 AM               7          0.116667\n",
       "3  1503960366   4/12/2016 3:00:00 AM               0          0.000000\n",
       "4  1503960366   4/12/2016 4:00:00 AM               0          0.000000"
      ]
     },
     "execution_count": 8,
     "metadata": {},
     "output_type": "execute_result"
    }
   ],
   "source": [
    "hourly_intensities.info()\n",
    "hourly_intensities.head()"
   ]
  },
  {
   "cell_type": "markdown",
   "id": "aca7caa6",
   "metadata": {
    "papermill": {
     "duration": 0.017111,
     "end_time": "2024-09-05T04:48:12.256010",
     "exception": false,
     "start_time": "2024-09-05T04:48:12.238899",
     "status": "completed"
    },
    "tags": []
   },
   "source": [
    "The `ActivityHour` is of type **object** but we would want it to be of type **datetime**. We can use the function `to_datetime()` to change the object type to **datetime**."
   ]
  },
  {
   "cell_type": "code",
   "execution_count": 9,
   "id": "b7f0fb51",
   "metadata": {
    "execution": {
     "iopub.execute_input": "2024-09-05T04:48:12.293645Z",
     "iopub.status.busy": "2024-09-05T04:48:12.293164Z",
     "iopub.status.idle": "2024-09-05T04:48:15.350326Z",
     "shell.execute_reply": "2024-09-05T04:48:15.349193Z"
    },
    "papermill": {
     "duration": 3.079525,
     "end_time": "2024-09-05T04:48:15.352958",
     "exception": false,
     "start_time": "2024-09-05T04:48:12.273433",
     "status": "completed"
    },
    "tags": []
   },
   "outputs": [
    {
     "name": "stderr",
     "output_type": "stream",
     "text": [
      "/tmp/ipykernel_17/2242407805.py:1: UserWarning: Could not infer format, so each element will be parsed individually, falling back to `dateutil`. To ensure parsing is consistent and as-expected, please specify a format.\n",
      "  hourly_intensities['ActivityHour'] = pd.to_datetime(hourly_intensities['ActivityHour'])\n"
     ]
    },
    {
     "name": "stdout",
     "output_type": "stream",
     "text": [
      "<class 'pandas.core.frame.DataFrame'>\n",
      "RangeIndex: 22099 entries, 0 to 22098\n",
      "Data columns (total 4 columns):\n",
      " #   Column            Non-Null Count  Dtype         \n",
      "---  ------            --------------  -----         \n",
      " 0   Id                22099 non-null  int64         \n",
      " 1   ActivityHour      22099 non-null  datetime64[ns]\n",
      " 2   TotalIntensity    22099 non-null  int64         \n",
      " 3   AverageIntensity  22099 non-null  float64       \n",
      "dtypes: datetime64[ns](1), float64(1), int64(2)\n",
      "memory usage: 690.7 KB\n"
     ]
    }
   ],
   "source": [
    "hourly_intensities['ActivityHour'] = pd.to_datetime(hourly_intensities['ActivityHour'])\n",
    "hourly_intensities.info()"
   ]
  },
  {
   "cell_type": "code",
   "execution_count": 10,
   "id": "d2d1397b",
   "metadata": {
    "execution": {
     "iopub.execute_input": "2024-09-05T04:48:15.390738Z",
     "iopub.status.busy": "2024-09-05T04:48:15.390302Z",
     "iopub.status.idle": "2024-09-05T04:48:15.405350Z",
     "shell.execute_reply": "2024-09-05T04:48:15.403812Z"
    },
    "papermill": {
     "duration": 0.03717,
     "end_time": "2024-09-05T04:48:15.408105",
     "exception": false,
     "start_time": "2024-09-05T04:48:15.370935",
     "status": "completed"
    },
    "tags": []
   },
   "outputs": [
    {
     "data": {
      "text/html": [
       "<div>\n",
       "<style scoped>\n",
       "    .dataframe tbody tr th:only-of-type {\n",
       "        vertical-align: middle;\n",
       "    }\n",
       "\n",
       "    .dataframe tbody tr th {\n",
       "        vertical-align: top;\n",
       "    }\n",
       "\n",
       "    .dataframe thead th {\n",
       "        text-align: right;\n",
       "    }\n",
       "</style>\n",
       "<table border=\"1\" class=\"dataframe\">\n",
       "  <thead>\n",
       "    <tr style=\"text-align: right;\">\n",
       "      <th></th>\n",
       "      <th>Id</th>\n",
       "      <th>ActivityHour</th>\n",
       "      <th>TotalIntensity</th>\n",
       "      <th>AverageIntensity</th>\n",
       "    </tr>\n",
       "  </thead>\n",
       "  <tbody>\n",
       "    <tr>\n",
       "      <th>22094</th>\n",
       "      <td>8877689391</td>\n",
       "      <td>2016-05-12 10:00:00</td>\n",
       "      <td>12</td>\n",
       "      <td>0.200000</td>\n",
       "    </tr>\n",
       "    <tr>\n",
       "      <th>22095</th>\n",
       "      <td>8877689391</td>\n",
       "      <td>2016-05-12 11:00:00</td>\n",
       "      <td>29</td>\n",
       "      <td>0.483333</td>\n",
       "    </tr>\n",
       "    <tr>\n",
       "      <th>22096</th>\n",
       "      <td>8877689391</td>\n",
       "      <td>2016-05-12 12:00:00</td>\n",
       "      <td>93</td>\n",
       "      <td>1.550000</td>\n",
       "    </tr>\n",
       "    <tr>\n",
       "      <th>22097</th>\n",
       "      <td>8877689391</td>\n",
       "      <td>2016-05-12 13:00:00</td>\n",
       "      <td>6</td>\n",
       "      <td>0.100000</td>\n",
       "    </tr>\n",
       "    <tr>\n",
       "      <th>22098</th>\n",
       "      <td>8877689391</td>\n",
       "      <td>2016-05-12 14:00:00</td>\n",
       "      <td>9</td>\n",
       "      <td>0.150000</td>\n",
       "    </tr>\n",
       "  </tbody>\n",
       "</table>\n",
       "</div>"
      ],
      "text/plain": [
       "               Id        ActivityHour  TotalIntensity  AverageIntensity\n",
       "22094  8877689391 2016-05-12 10:00:00              12          0.200000\n",
       "22095  8877689391 2016-05-12 11:00:00              29          0.483333\n",
       "22096  8877689391 2016-05-12 12:00:00              93          1.550000\n",
       "22097  8877689391 2016-05-12 13:00:00               6          0.100000\n",
       "22098  8877689391 2016-05-12 14:00:00               9          0.150000"
      ]
     },
     "execution_count": 10,
     "metadata": {},
     "output_type": "execute_result"
    }
   ],
   "source": [
    "hourly_intensities.tail()"
   ]
  },
  {
   "cell_type": "markdown",
   "id": "c74e830f",
   "metadata": {
    "papermill": {
     "duration": 0.017784,
     "end_time": "2024-09-05T04:48:15.444123",
     "exception": false,
     "start_time": "2024-09-05T04:48:15.426339",
     "status": "completed"
    },
    "tags": []
   },
   "source": [
    "We have converted the **object** type to **datetime** type. This would make it much easier to study time frames and perform date wise analysis."
   ]
  },
  {
   "cell_type": "code",
   "execution_count": 11,
   "id": "fd64eabb",
   "metadata": {
    "execution": {
     "iopub.execute_input": "2024-09-05T04:48:15.483289Z",
     "iopub.status.busy": "2024-09-05T04:48:15.482813Z",
     "iopub.status.idle": "2024-09-05T04:48:15.495899Z",
     "shell.execute_reply": "2024-09-05T04:48:15.494607Z"
    },
    "papermill": {
     "duration": 0.03629,
     "end_time": "2024-09-05T04:48:15.498664",
     "exception": false,
     "start_time": "2024-09-05T04:48:15.462374",
     "status": "completed"
    },
    "tags": []
   },
   "outputs": [
    {
     "name": "stdout",
     "output_type": "stream",
     "text": [
      "Total contributors in table  daily_activity :  33\n",
      "Total contributors in table  daily_steps :  33\n",
      "Total contributors in table  daily_calories :  33\n",
      "Total contributors in table  daily_intensities :  33\n",
      "Total contributors in table  daily_sleep :  24\n"
     ]
    }
   ],
   "source": [
    "value_count = [\n",
    "    daily_activity['Id'].value_counts().count(), \n",
    "    daily_steps['Id'].value_counts().count(),\n",
    "    daily_calories['Id'].value_counts().count(),\n",
    "    daily_intensities['Id'].value_counts().count(),\n",
    "    daily_sleep['Id'].value_counts().count(),\n",
    "]\n",
    "\n",
    "table_name = [\"daily_activity\", \"daily_steps\", \"daily_calories\", \"daily_intensities\", \"daily_sleep\"]\n",
    "\n",
    "i = 0;\n",
    "\n",
    "for x in value_count:\n",
    "    print(\"Total contributors in table \", table_name[i], \": \", x)\n",
    "    i += 1"
   ]
  },
  {
   "cell_type": "markdown",
   "id": "14ece2f4",
   "metadata": {
    "papermill": {
     "duration": 0.017566,
     "end_time": "2024-09-05T04:48:15.534661",
     "exception": false,
     "start_time": "2024-09-05T04:48:15.517095",
     "status": "completed"
    },
    "tags": []
   },
   "source": [
    "As we can see the number of participants are less in the `daily_sleep` table. This could be due to the reason that 9 of the participants didn't intend to use the tracker while sleeping."
   ]
  },
  {
   "cell_type": "markdown",
   "id": "40bbf4a6",
   "metadata": {
    "papermill": {
     "duration": 0.01782,
     "end_time": "2024-09-05T04:48:15.570646",
     "exception": false,
     "start_time": "2024-09-05T04:48:15.552826",
     "status": "completed"
    },
    "tags": []
   },
   "source": [
    "We can start our analysis from the statistical details of our table and how they would comply with the set standards for good health."
   ]
  },
  {
   "cell_type": "code",
   "execution_count": 12,
   "id": "dfb5e4e1",
   "metadata": {
    "execution": {
     "iopub.execute_input": "2024-09-05T04:48:15.609826Z",
     "iopub.status.busy": "2024-09-05T04:48:15.609357Z",
     "iopub.status.idle": "2024-09-05T04:48:15.664820Z",
     "shell.execute_reply": "2024-09-05T04:48:15.663648Z"
    },
    "papermill": {
     "duration": 0.078079,
     "end_time": "2024-09-05T04:48:15.667813",
     "exception": false,
     "start_time": "2024-09-05T04:48:15.589734",
     "status": "completed"
    },
    "tags": []
   },
   "outputs": [
    {
     "data": {
      "text/html": [
       "<div>\n",
       "<style scoped>\n",
       "    .dataframe tbody tr th:only-of-type {\n",
       "        vertical-align: middle;\n",
       "    }\n",
       "\n",
       "    .dataframe tbody tr th {\n",
       "        vertical-align: top;\n",
       "    }\n",
       "\n",
       "    .dataframe thead th {\n",
       "        text-align: right;\n",
       "    }\n",
       "</style>\n",
       "<table border=\"1\" class=\"dataframe\">\n",
       "  <thead>\n",
       "    <tr style=\"text-align: right;\">\n",
       "      <th></th>\n",
       "      <th>Id</th>\n",
       "      <th>TotalSteps</th>\n",
       "      <th>TotalDistance</th>\n",
       "      <th>TrackerDistance</th>\n",
       "      <th>LoggedActivitiesDistance</th>\n",
       "      <th>VeryActiveDistance</th>\n",
       "      <th>ModeratelyActiveDistance</th>\n",
       "      <th>LightActiveDistance</th>\n",
       "      <th>SedentaryActiveDistance</th>\n",
       "      <th>VeryActiveMinutes</th>\n",
       "      <th>FairlyActiveMinutes</th>\n",
       "      <th>LightlyActiveMinutes</th>\n",
       "      <th>SedentaryMinutes</th>\n",
       "      <th>Calories</th>\n",
       "    </tr>\n",
       "  </thead>\n",
       "  <tbody>\n",
       "    <tr>\n",
       "      <th>count</th>\n",
       "      <td>9.400000e+02</td>\n",
       "      <td>940.000000</td>\n",
       "      <td>940.000000</td>\n",
       "      <td>940.000000</td>\n",
       "      <td>940.000000</td>\n",
       "      <td>940.000000</td>\n",
       "      <td>940.000000</td>\n",
       "      <td>940.000000</td>\n",
       "      <td>940.000000</td>\n",
       "      <td>940.000000</td>\n",
       "      <td>940.000000</td>\n",
       "      <td>940.000000</td>\n",
       "      <td>940.000000</td>\n",
       "      <td>940.000000</td>\n",
       "    </tr>\n",
       "    <tr>\n",
       "      <th>mean</th>\n",
       "      <td>4.855407e+09</td>\n",
       "      <td>7637.910638</td>\n",
       "      <td>5.489702</td>\n",
       "      <td>5.475351</td>\n",
       "      <td>0.108171</td>\n",
       "      <td>1.502681</td>\n",
       "      <td>0.567543</td>\n",
       "      <td>3.340819</td>\n",
       "      <td>0.001606</td>\n",
       "      <td>21.164894</td>\n",
       "      <td>13.564894</td>\n",
       "      <td>192.812766</td>\n",
       "      <td>991.210638</td>\n",
       "      <td>2303.609574</td>\n",
       "    </tr>\n",
       "    <tr>\n",
       "      <th>std</th>\n",
       "      <td>2.424805e+09</td>\n",
       "      <td>5087.150742</td>\n",
       "      <td>3.924606</td>\n",
       "      <td>3.907276</td>\n",
       "      <td>0.619897</td>\n",
       "      <td>2.658941</td>\n",
       "      <td>0.883580</td>\n",
       "      <td>2.040655</td>\n",
       "      <td>0.007346</td>\n",
       "      <td>32.844803</td>\n",
       "      <td>19.987404</td>\n",
       "      <td>109.174700</td>\n",
       "      <td>301.267437</td>\n",
       "      <td>718.166862</td>\n",
       "    </tr>\n",
       "    <tr>\n",
       "      <th>min</th>\n",
       "      <td>1.503960e+09</td>\n",
       "      <td>0.000000</td>\n",
       "      <td>0.000000</td>\n",
       "      <td>0.000000</td>\n",
       "      <td>0.000000</td>\n",
       "      <td>0.000000</td>\n",
       "      <td>0.000000</td>\n",
       "      <td>0.000000</td>\n",
       "      <td>0.000000</td>\n",
       "      <td>0.000000</td>\n",
       "      <td>0.000000</td>\n",
       "      <td>0.000000</td>\n",
       "      <td>0.000000</td>\n",
       "      <td>0.000000</td>\n",
       "    </tr>\n",
       "    <tr>\n",
       "      <th>25%</th>\n",
       "      <td>2.320127e+09</td>\n",
       "      <td>3789.750000</td>\n",
       "      <td>2.620000</td>\n",
       "      <td>2.620000</td>\n",
       "      <td>0.000000</td>\n",
       "      <td>0.000000</td>\n",
       "      <td>0.000000</td>\n",
       "      <td>1.945000</td>\n",
       "      <td>0.000000</td>\n",
       "      <td>0.000000</td>\n",
       "      <td>0.000000</td>\n",
       "      <td>127.000000</td>\n",
       "      <td>729.750000</td>\n",
       "      <td>1828.500000</td>\n",
       "    </tr>\n",
       "    <tr>\n",
       "      <th>50%</th>\n",
       "      <td>4.445115e+09</td>\n",
       "      <td>7405.500000</td>\n",
       "      <td>5.245000</td>\n",
       "      <td>5.245000</td>\n",
       "      <td>0.000000</td>\n",
       "      <td>0.210000</td>\n",
       "      <td>0.240000</td>\n",
       "      <td>3.365000</td>\n",
       "      <td>0.000000</td>\n",
       "      <td>4.000000</td>\n",
       "      <td>6.000000</td>\n",
       "      <td>199.000000</td>\n",
       "      <td>1057.500000</td>\n",
       "      <td>2134.000000</td>\n",
       "    </tr>\n",
       "    <tr>\n",
       "      <th>75%</th>\n",
       "      <td>6.962181e+09</td>\n",
       "      <td>10727.000000</td>\n",
       "      <td>7.712500</td>\n",
       "      <td>7.710000</td>\n",
       "      <td>0.000000</td>\n",
       "      <td>2.052500</td>\n",
       "      <td>0.800000</td>\n",
       "      <td>4.782500</td>\n",
       "      <td>0.000000</td>\n",
       "      <td>32.000000</td>\n",
       "      <td>19.000000</td>\n",
       "      <td>264.000000</td>\n",
       "      <td>1229.500000</td>\n",
       "      <td>2793.250000</td>\n",
       "    </tr>\n",
       "    <tr>\n",
       "      <th>max</th>\n",
       "      <td>8.877689e+09</td>\n",
       "      <td>36019.000000</td>\n",
       "      <td>28.030001</td>\n",
       "      <td>28.030001</td>\n",
       "      <td>4.942142</td>\n",
       "      <td>21.920000</td>\n",
       "      <td>6.480000</td>\n",
       "      <td>10.710000</td>\n",
       "      <td>0.110000</td>\n",
       "      <td>210.000000</td>\n",
       "      <td>143.000000</td>\n",
       "      <td>518.000000</td>\n",
       "      <td>1440.000000</td>\n",
       "      <td>4900.000000</td>\n",
       "    </tr>\n",
       "  </tbody>\n",
       "</table>\n",
       "</div>"
      ],
      "text/plain": [
       "                 Id    TotalSteps  TotalDistance  TrackerDistance  \\\n",
       "count  9.400000e+02    940.000000     940.000000       940.000000   \n",
       "mean   4.855407e+09   7637.910638       5.489702         5.475351   \n",
       "std    2.424805e+09   5087.150742       3.924606         3.907276   \n",
       "min    1.503960e+09      0.000000       0.000000         0.000000   \n",
       "25%    2.320127e+09   3789.750000       2.620000         2.620000   \n",
       "50%    4.445115e+09   7405.500000       5.245000         5.245000   \n",
       "75%    6.962181e+09  10727.000000       7.712500         7.710000   \n",
       "max    8.877689e+09  36019.000000      28.030001        28.030001   \n",
       "\n",
       "       LoggedActivitiesDistance  VeryActiveDistance  ModeratelyActiveDistance  \\\n",
       "count                940.000000          940.000000                940.000000   \n",
       "mean                   0.108171            1.502681                  0.567543   \n",
       "std                    0.619897            2.658941                  0.883580   \n",
       "min                    0.000000            0.000000                  0.000000   \n",
       "25%                    0.000000            0.000000                  0.000000   \n",
       "50%                    0.000000            0.210000                  0.240000   \n",
       "75%                    0.000000            2.052500                  0.800000   \n",
       "max                    4.942142           21.920000                  6.480000   \n",
       "\n",
       "       LightActiveDistance  SedentaryActiveDistance  VeryActiveMinutes  \\\n",
       "count           940.000000               940.000000         940.000000   \n",
       "mean              3.340819                 0.001606          21.164894   \n",
       "std               2.040655                 0.007346          32.844803   \n",
       "min               0.000000                 0.000000           0.000000   \n",
       "25%               1.945000                 0.000000           0.000000   \n",
       "50%               3.365000                 0.000000           4.000000   \n",
       "75%               4.782500                 0.000000          32.000000   \n",
       "max              10.710000                 0.110000         210.000000   \n",
       "\n",
       "       FairlyActiveMinutes  LightlyActiveMinutes  SedentaryMinutes  \\\n",
       "count           940.000000            940.000000        940.000000   \n",
       "mean             13.564894            192.812766        991.210638   \n",
       "std              19.987404            109.174700        301.267437   \n",
       "min               0.000000              0.000000          0.000000   \n",
       "25%               0.000000            127.000000        729.750000   \n",
       "50%               6.000000            199.000000       1057.500000   \n",
       "75%              19.000000            264.000000       1229.500000   \n",
       "max             143.000000            518.000000       1440.000000   \n",
       "\n",
       "          Calories  \n",
       "count   940.000000  \n",
       "mean   2303.609574  \n",
       "std     718.166862  \n",
       "min       0.000000  \n",
       "25%    1828.500000  \n",
       "50%    2134.000000  \n",
       "75%    2793.250000  \n",
       "max    4900.000000  "
      ]
     },
     "execution_count": 12,
     "metadata": {},
     "output_type": "execute_result"
    }
   ],
   "source": [
    "daily_activity.describe()"
   ]
  },
  {
   "cell_type": "code",
   "execution_count": 13,
   "id": "81d4c893",
   "metadata": {
    "execution": {
     "iopub.execute_input": "2024-09-05T04:48:15.707931Z",
     "iopub.status.busy": "2024-09-05T04:48:15.707469Z",
     "iopub.status.idle": "2024-09-05T04:48:15.732510Z",
     "shell.execute_reply": "2024-09-05T04:48:15.731088Z"
    },
    "papermill": {
     "duration": 0.048336,
     "end_time": "2024-09-05T04:48:15.735210",
     "exception": false,
     "start_time": "2024-09-05T04:48:15.686874",
     "status": "completed"
    },
    "tags": []
   },
   "outputs": [
    {
     "data": {
      "text/html": [
       "<div>\n",
       "<style scoped>\n",
       "    .dataframe tbody tr th:only-of-type {\n",
       "        vertical-align: middle;\n",
       "    }\n",
       "\n",
       "    .dataframe tbody tr th {\n",
       "        vertical-align: top;\n",
       "    }\n",
       "\n",
       "    .dataframe thead th {\n",
       "        text-align: right;\n",
       "    }\n",
       "</style>\n",
       "<table border=\"1\" class=\"dataframe\">\n",
       "  <thead>\n",
       "    <tr style=\"text-align: right;\">\n",
       "      <th></th>\n",
       "      <th>Id</th>\n",
       "      <th>TotalSleepRecords</th>\n",
       "      <th>TotalMinutesAsleep</th>\n",
       "      <th>TotalTimeInBed</th>\n",
       "    </tr>\n",
       "  </thead>\n",
       "  <tbody>\n",
       "    <tr>\n",
       "      <th>count</th>\n",
       "      <td>4.130000e+02</td>\n",
       "      <td>413.000000</td>\n",
       "      <td>413.000000</td>\n",
       "      <td>413.000000</td>\n",
       "    </tr>\n",
       "    <tr>\n",
       "      <th>mean</th>\n",
       "      <td>5.000979e+09</td>\n",
       "      <td>1.118644</td>\n",
       "      <td>419.467312</td>\n",
       "      <td>458.639225</td>\n",
       "    </tr>\n",
       "    <tr>\n",
       "      <th>std</th>\n",
       "      <td>2.060360e+09</td>\n",
       "      <td>0.345521</td>\n",
       "      <td>118.344679</td>\n",
       "      <td>127.101607</td>\n",
       "    </tr>\n",
       "    <tr>\n",
       "      <th>min</th>\n",
       "      <td>1.503960e+09</td>\n",
       "      <td>1.000000</td>\n",
       "      <td>58.000000</td>\n",
       "      <td>61.000000</td>\n",
       "    </tr>\n",
       "    <tr>\n",
       "      <th>25%</th>\n",
       "      <td>3.977334e+09</td>\n",
       "      <td>1.000000</td>\n",
       "      <td>361.000000</td>\n",
       "      <td>403.000000</td>\n",
       "    </tr>\n",
       "    <tr>\n",
       "      <th>50%</th>\n",
       "      <td>4.702922e+09</td>\n",
       "      <td>1.000000</td>\n",
       "      <td>433.000000</td>\n",
       "      <td>463.000000</td>\n",
       "    </tr>\n",
       "    <tr>\n",
       "      <th>75%</th>\n",
       "      <td>6.962181e+09</td>\n",
       "      <td>1.000000</td>\n",
       "      <td>490.000000</td>\n",
       "      <td>526.000000</td>\n",
       "    </tr>\n",
       "    <tr>\n",
       "      <th>max</th>\n",
       "      <td>8.792010e+09</td>\n",
       "      <td>3.000000</td>\n",
       "      <td>796.000000</td>\n",
       "      <td>961.000000</td>\n",
       "    </tr>\n",
       "  </tbody>\n",
       "</table>\n",
       "</div>"
      ],
      "text/plain": [
       "                 Id  TotalSleepRecords  TotalMinutesAsleep  TotalTimeInBed\n",
       "count  4.130000e+02         413.000000          413.000000      413.000000\n",
       "mean   5.000979e+09           1.118644          419.467312      458.639225\n",
       "std    2.060360e+09           0.345521          118.344679      127.101607\n",
       "min    1.503960e+09           1.000000           58.000000       61.000000\n",
       "25%    3.977334e+09           1.000000          361.000000      403.000000\n",
       "50%    4.702922e+09           1.000000          433.000000      463.000000\n",
       "75%    6.962181e+09           1.000000          490.000000      526.000000\n",
       "max    8.792010e+09           3.000000          796.000000      961.000000"
      ]
     },
     "execution_count": 13,
     "metadata": {},
     "output_type": "execute_result"
    }
   ],
   "source": [
    "daily_sleep.describe()"
   ]
  },
  {
   "cell_type": "markdown",
   "id": "f3f85fd4",
   "metadata": {
    "papermill": {
     "duration": 0.018787,
     "end_time": "2024-09-05T04:48:15.773024",
     "exception": false,
     "start_time": "2024-09-05T04:48:15.754237",
     "status": "completed"
    },
    "tags": []
   },
   "source": [
    "* The mean total steps is 7637 which is below the recomended daily activity or steps requirement, which stands at 8000 - 10000 daily steps (CDC).\n",
    "* More than 50% of the subjects we are working with fail to meet the requirements.\n",
    "* Majority of the people are only lightly active.\n",
    "* The average sedentary minutes is around 940 minutes which is quite a lot and can have adverse health effects on the people in the long run.\n",
    "* Most people slept for about 7 hours once a day. \n"
   ]
  },
  {
   "cell_type": "code",
   "execution_count": 14,
   "id": "1211e6fd",
   "metadata": {
    "execution": {
     "iopub.execute_input": "2024-09-05T04:48:15.812878Z",
     "iopub.status.busy": "2024-09-05T04:48:15.812400Z",
     "iopub.status.idle": "2024-09-05T04:48:15.826389Z",
     "shell.execute_reply": "2024-09-05T04:48:15.825224Z"
    },
    "papermill": {
     "duration": 0.036896,
     "end_time": "2024-09-05T04:48:15.828963",
     "exception": false,
     "start_time": "2024-09-05T04:48:15.792067",
     "status": "completed"
    },
    "tags": []
   },
   "outputs": [],
   "source": [
    "# converting the object type to datetime\n",
    "daily_activity['ActivityDate'] = pd.to_datetime(daily_activity['ActivityDate'])\n",
    "# creating a new column that would consist of the day of the week corresponding to the dates\n",
    "daily_activity['DayOfWeek'] = daily_activity['ActivityDate'].dt.day_name()"
   ]
  },
  {
   "cell_type": "code",
   "execution_count": 15,
   "id": "36dfccd4",
   "metadata": {
    "execution": {
     "iopub.execute_input": "2024-09-05T04:48:15.869021Z",
     "iopub.status.busy": "2024-09-05T04:48:15.868563Z",
     "iopub.status.idle": "2024-09-05T04:48:15.891410Z",
     "shell.execute_reply": "2024-09-05T04:48:15.890225Z"
    },
    "papermill": {
     "duration": 0.04603,
     "end_time": "2024-09-05T04:48:15.894048",
     "exception": false,
     "start_time": "2024-09-05T04:48:15.848018",
     "status": "completed"
    },
    "tags": []
   },
   "outputs": [
    {
     "data": {
      "text/html": [
       "<div>\n",
       "<style scoped>\n",
       "    .dataframe tbody tr th:only-of-type {\n",
       "        vertical-align: middle;\n",
       "    }\n",
       "\n",
       "    .dataframe tbody tr th {\n",
       "        vertical-align: top;\n",
       "    }\n",
       "\n",
       "    .dataframe thead th {\n",
       "        text-align: right;\n",
       "    }\n",
       "</style>\n",
       "<table border=\"1\" class=\"dataframe\">\n",
       "  <thead>\n",
       "    <tr style=\"text-align: right;\">\n",
       "      <th></th>\n",
       "      <th>Id</th>\n",
       "      <th>ActivityDate</th>\n",
       "      <th>TotalSteps</th>\n",
       "      <th>TotalDistance</th>\n",
       "      <th>TrackerDistance</th>\n",
       "      <th>LoggedActivitiesDistance</th>\n",
       "      <th>VeryActiveDistance</th>\n",
       "      <th>ModeratelyActiveDistance</th>\n",
       "      <th>LightActiveDistance</th>\n",
       "      <th>SedentaryActiveDistance</th>\n",
       "      <th>VeryActiveMinutes</th>\n",
       "      <th>FairlyActiveMinutes</th>\n",
       "      <th>LightlyActiveMinutes</th>\n",
       "      <th>SedentaryMinutes</th>\n",
       "      <th>Calories</th>\n",
       "      <th>DayOfWeek</th>\n",
       "    </tr>\n",
       "  </thead>\n",
       "  <tbody>\n",
       "    <tr>\n",
       "      <th>0</th>\n",
       "      <td>1503960366</td>\n",
       "      <td>2016-04-12</td>\n",
       "      <td>13162</td>\n",
       "      <td>8.50</td>\n",
       "      <td>8.50</td>\n",
       "      <td>0.0</td>\n",
       "      <td>1.88</td>\n",
       "      <td>0.55</td>\n",
       "      <td>6.06</td>\n",
       "      <td>0.0</td>\n",
       "      <td>25</td>\n",
       "      <td>13</td>\n",
       "      <td>328</td>\n",
       "      <td>728</td>\n",
       "      <td>1985</td>\n",
       "      <td>Tuesday</td>\n",
       "    </tr>\n",
       "    <tr>\n",
       "      <th>1</th>\n",
       "      <td>1503960366</td>\n",
       "      <td>2016-04-13</td>\n",
       "      <td>10735</td>\n",
       "      <td>6.97</td>\n",
       "      <td>6.97</td>\n",
       "      <td>0.0</td>\n",
       "      <td>1.57</td>\n",
       "      <td>0.69</td>\n",
       "      <td>4.71</td>\n",
       "      <td>0.0</td>\n",
       "      <td>21</td>\n",
       "      <td>19</td>\n",
       "      <td>217</td>\n",
       "      <td>776</td>\n",
       "      <td>1797</td>\n",
       "      <td>Wednesday</td>\n",
       "    </tr>\n",
       "    <tr>\n",
       "      <th>2</th>\n",
       "      <td>1503960366</td>\n",
       "      <td>2016-04-14</td>\n",
       "      <td>10460</td>\n",
       "      <td>6.74</td>\n",
       "      <td>6.74</td>\n",
       "      <td>0.0</td>\n",
       "      <td>2.44</td>\n",
       "      <td>0.40</td>\n",
       "      <td>3.91</td>\n",
       "      <td>0.0</td>\n",
       "      <td>30</td>\n",
       "      <td>11</td>\n",
       "      <td>181</td>\n",
       "      <td>1218</td>\n",
       "      <td>1776</td>\n",
       "      <td>Thursday</td>\n",
       "    </tr>\n",
       "    <tr>\n",
       "      <th>3</th>\n",
       "      <td>1503960366</td>\n",
       "      <td>2016-04-15</td>\n",
       "      <td>9762</td>\n",
       "      <td>6.28</td>\n",
       "      <td>6.28</td>\n",
       "      <td>0.0</td>\n",
       "      <td>2.14</td>\n",
       "      <td>1.26</td>\n",
       "      <td>2.83</td>\n",
       "      <td>0.0</td>\n",
       "      <td>29</td>\n",
       "      <td>34</td>\n",
       "      <td>209</td>\n",
       "      <td>726</td>\n",
       "      <td>1745</td>\n",
       "      <td>Friday</td>\n",
       "    </tr>\n",
       "    <tr>\n",
       "      <th>4</th>\n",
       "      <td>1503960366</td>\n",
       "      <td>2016-04-16</td>\n",
       "      <td>12669</td>\n",
       "      <td>8.16</td>\n",
       "      <td>8.16</td>\n",
       "      <td>0.0</td>\n",
       "      <td>2.71</td>\n",
       "      <td>0.41</td>\n",
       "      <td>5.04</td>\n",
       "      <td>0.0</td>\n",
       "      <td>36</td>\n",
       "      <td>10</td>\n",
       "      <td>221</td>\n",
       "      <td>773</td>\n",
       "      <td>1863</td>\n",
       "      <td>Saturday</td>\n",
       "    </tr>\n",
       "  </tbody>\n",
       "</table>\n",
       "</div>"
      ],
      "text/plain": [
       "           Id ActivityDate  TotalSteps  TotalDistance  TrackerDistance  \\\n",
       "0  1503960366   2016-04-12       13162           8.50             8.50   \n",
       "1  1503960366   2016-04-13       10735           6.97             6.97   \n",
       "2  1503960366   2016-04-14       10460           6.74             6.74   \n",
       "3  1503960366   2016-04-15        9762           6.28             6.28   \n",
       "4  1503960366   2016-04-16       12669           8.16             8.16   \n",
       "\n",
       "   LoggedActivitiesDistance  VeryActiveDistance  ModeratelyActiveDistance  \\\n",
       "0                       0.0                1.88                      0.55   \n",
       "1                       0.0                1.57                      0.69   \n",
       "2                       0.0                2.44                      0.40   \n",
       "3                       0.0                2.14                      1.26   \n",
       "4                       0.0                2.71                      0.41   \n",
       "\n",
       "   LightActiveDistance  SedentaryActiveDistance  VeryActiveMinutes  \\\n",
       "0                 6.06                      0.0                 25   \n",
       "1                 4.71                      0.0                 21   \n",
       "2                 3.91                      0.0                 30   \n",
       "3                 2.83                      0.0                 29   \n",
       "4                 5.04                      0.0                 36   \n",
       "\n",
       "   FairlyActiveMinutes  LightlyActiveMinutes  SedentaryMinutes  Calories  \\\n",
       "0                   13                   328               728      1985   \n",
       "1                   19                   217               776      1797   \n",
       "2                   11                   181              1218      1776   \n",
       "3                   34                   209               726      1745   \n",
       "4                   10                   221               773      1863   \n",
       "\n",
       "   DayOfWeek  \n",
       "0    Tuesday  \n",
       "1  Wednesday  \n",
       "2   Thursday  \n",
       "3     Friday  \n",
       "4   Saturday  "
      ]
     },
     "execution_count": 15,
     "metadata": {},
     "output_type": "execute_result"
    }
   ],
   "source": [
    "daily_activity.head()"
   ]
  },
  {
   "cell_type": "markdown",
   "id": "5fbdf87e",
   "metadata": {
    "papermill": {
     "duration": 0.019488,
     "end_time": "2024-09-05T04:48:15.932750",
     "exception": false,
     "start_time": "2024-09-05T04:48:15.913262",
     "status": "completed"
    },
    "tags": []
   },
   "source": [
    "We can find the days, people walked most steps and remained most active. This can help the company strategise it's marketting notifications."
   ]
  },
  {
   "cell_type": "code",
   "execution_count": 16,
   "id": "a53fb2c3",
   "metadata": {
    "execution": {
     "iopub.execute_input": "2024-09-05T04:48:15.974629Z",
     "iopub.status.busy": "2024-09-05T04:48:15.973789Z",
     "iopub.status.idle": "2024-09-05T04:48:15.983183Z",
     "shell.execute_reply": "2024-09-05T04:48:15.982046Z"
    },
    "papermill": {
     "duration": 0.033471,
     "end_time": "2024-09-05T04:48:15.986046",
     "exception": false,
     "start_time": "2024-09-05T04:48:15.952575",
     "status": "completed"
    },
    "tags": []
   },
   "outputs": [],
   "source": [
    "daily_steps_by_day = daily_activity.groupby('DayOfWeek')['TotalSteps'].mean().reset_index()"
   ]
  },
  {
   "cell_type": "code",
   "execution_count": 17,
   "id": "a71e60dd",
   "metadata": {
    "execution": {
     "iopub.execute_input": "2024-09-05T04:48:16.027570Z",
     "iopub.status.busy": "2024-09-05T04:48:16.027084Z",
     "iopub.status.idle": "2024-09-05T04:48:16.439328Z",
     "shell.execute_reply": "2024-09-05T04:48:16.437856Z"
    },
    "papermill": {
     "duration": 0.436589,
     "end_time": "2024-09-05T04:48:16.442095",
     "exception": false,
     "start_time": "2024-09-05T04:48:16.005506",
     "status": "completed"
    },
    "tags": []
   },
   "outputs": [
    {
     "data": {
      "text/plain": [
       "Text(0.5, 1.0, 'Average steps by day of the week')"
      ]
     },
     "execution_count": 17,
     "metadata": {},
     "output_type": "execute_result"
    },
    {
     "data": {
      "image/png": "[encoded data removed]",
      "text/plain": [
       "<Figure size 800x400 with 1 Axes>"
      ]
     },
     "metadata": {},
     "output_type": "display_data"
    }
   ],
   "source": [
    "day_order = ['Monday', 'Tuesday', 'Wednesday', 'Thursday', 'Friday', 'Saturday', 'Sunday']\n",
    "\n",
    "plt.figure(figsize=(8, 4))\n",
    "sns.barplot(x = 'DayOfWeek', y = 'TotalSteps', data = daily_steps_by_day, order = day_order, palette = \"husl\")\n",
    "plt.xlabel('Day of the week')\n",
    "plt.ylabel('Average Steps')\n",
    "plt.title('Average steps by day of the week')"
   ]
  },
  {
   "cell_type": "markdown",
   "id": "be2a0152",
   "metadata": {
    "papermill": {
     "duration": 0.021778,
     "end_time": "2024-09-05T04:48:16.484314",
     "exception": false,
     "start_time": "2024-09-05T04:48:16.462536",
     "status": "completed"
    },
    "tags": []
   },
   "source": [
    "One thing we are clear about is people walk the least on Sundays, during this day the company can send a report of how they have been doing great the rest of the week and keeping it up would make them hit their daily target or how they can start of their week by hitting the target, if Sunday is considered the first day of the week."
   ]
  },
  {
   "cell_type": "markdown",
   "id": "018916b3",
   "metadata": {
    "papermill": {
     "duration": 0.020049,
     "end_time": "2024-09-05T04:48:16.525098",
     "exception": false,
     "start_time": "2024-09-05T04:48:16.505049",
     "status": "completed"
    },
    "tags": []
   },
   "source": [
    "Let's also take a look how activity fairs among days. We will consider only for the "
   ]
  },
  {
   "cell_type": "code",
   "execution_count": 18,
   "id": "8c0ee8f1",
   "metadata": {
    "execution": {
     "iopub.execute_input": "2024-09-05T04:48:16.567629Z",
     "iopub.status.busy": "2024-09-05T04:48:16.567178Z",
     "iopub.status.idle": "2024-09-05T04:48:16.575357Z",
     "shell.execute_reply": "2024-09-05T04:48:16.574098Z"
    },
    "papermill": {
     "duration": 0.032624,
     "end_time": "2024-09-05T04:48:16.577998",
     "exception": false,
     "start_time": "2024-09-05T04:48:16.545374",
     "status": "completed"
    },
    "tags": []
   },
   "outputs": [],
   "source": [
    "total_activity = daily_activity.copy()\n",
    "total_activity['TotalActivity'] = daily_activity['VeryActiveMinutes'] + daily_activity['FairlyActiveMinutes']"
   ]
  },
  {
   "cell_type": "code",
   "execution_count": 19,
   "id": "31aa45f2",
   "metadata": {
    "execution": {
     "iopub.execute_input": "2024-09-05T04:48:16.621007Z",
     "iopub.status.busy": "2024-09-05T04:48:16.620526Z",
     "iopub.status.idle": "2024-09-05T04:48:16.629132Z",
     "shell.execute_reply": "2024-09-05T04:48:16.627848Z"
    },
    "papermill": {
     "duration": 0.03314,
     "end_time": "2024-09-05T04:48:16.631804",
     "exception": false,
     "start_time": "2024-09-05T04:48:16.598664",
     "status": "completed"
    },
    "tags": []
   },
   "outputs": [],
   "source": [
    "total_activity_by_day = total_activity.groupby('DayOfWeek')['TotalActivity'].mean().reset_index()"
   ]
  },
  {
   "cell_type": "code",
   "execution_count": 20,
   "id": "fd8506a1",
   "metadata": {
    "execution": {
     "iopub.execute_input": "2024-09-05T04:48:16.674629Z",
     "iopub.status.busy": "2024-09-05T04:48:16.673736Z",
     "iopub.status.idle": "2024-09-05T04:48:17.050948Z",
     "shell.execute_reply": "2024-09-05T04:48:17.049624Z"
    },
    "papermill": {
     "duration": 0.401425,
     "end_time": "2024-09-05T04:48:17.053537",
     "exception": false,
     "start_time": "2024-09-05T04:48:16.652112",
     "status": "completed"
    },
    "tags": []
   },
   "outputs": [
    {
     "data": {
      "text/plain": [
       "Text(0.5, 1.0, 'Average activity minutes by day of the week')"
      ]
     },
     "execution_count": 20,
     "metadata": {},
     "output_type": "execute_result"
    },
    {
     "data": {
      "image/png": "[encoded data removed]",
      "text/plain": [
       "<Figure size 1000x500 with 1 Axes>"
      ]
     },
     "metadata": {},
     "output_type": "display_data"
    }
   ],
   "source": [
    "plt.figure(figsize=(10, 5))\n",
    "sns.barplot(x = 'DayOfWeek', y = 'TotalActivity', data = total_activity_by_day, order = day_order)\n",
    "plt.xlabel('Day of the week')\n",
    "plt.ylabel('Activity Minutes')\n",
    "plt.title('Average activity minutes by day of the week')"
   ]
  },
  {
   "cell_type": "markdown",
   "id": "63d09e60",
   "metadata": {
    "papermill": {
     "duration": 0.020613,
     "end_time": "2024-09-05T04:48:17.095320",
     "exception": false,
     "start_time": "2024-09-05T04:48:17.074707",
     "status": "completed"
    },
    "tags": []
   },
   "source": [
    "it's quite interesting that, though Sunday had the least average step count the same doesn't apply to activity minutes when we consider only **VeryActiveMinutes** and **FairlyActiveMinutes** column. \n",
    "\n",
    "Also it is important to note that, 60 minutes of moderate to vigorous physical activity is recommended daily by WHO and 30 mins 5 times a week by CDC (Centers for Disease Control and Prevention). And clearly the participants don't meet WHO's intended target on an average. This awareness can be spread among the people to help them make it a habit to exercise daily for about 60 minutes. Some well established and trusted research organizations say that 30 to 60 minutes of exercises per week can reduce the risk of premature death by 40%, heart disease by 46%, and death from cancer by 28%.\n",
    "\n",
    "**60 minutes workout a day keeps your obesity away 😉**"
   ]
  },
  {
   "cell_type": "markdown",
   "id": "e64d0665",
   "metadata": {
    "papermill": {
     "duration": 0.080522,
     "end_time": "2024-09-05T04:48:17.196930",
     "exception": false,
     "start_time": "2024-09-05T04:48:17.116408",
     "status": "completed"
    },
    "tags": []
   },
   "source": [
    "Let's now take a look at what time of the day most people are active. We can use the `hourly_intensities` table. It will help us recognise when is the fitness tracker mostly used, which can further help us to reach more people through marketting notifications or recommendations or spreading awareness. \n",
    "\n",
    "We can achive this by first making a new column **Hour** in `hourly_intensities` table and then:\n",
    "* extracting the value or hour from **ActivityHour** and keepin it in the newly created **Hour** columnn.\n",
    "* Grouping the data by the hour and calculate the average total intensity for each hour.\n",
    "* Plotting the results to visualize the average intensity for each hour."
   ]
  },
  {
   "cell_type": "code",
   "execution_count": 21,
   "id": "74b22929",
   "metadata": {
    "execution": {
     "iopub.execute_input": "2024-09-05T04:48:17.242857Z",
     "iopub.status.busy": "2024-09-05T04:48:17.242414Z",
     "iopub.status.idle": "2024-09-05T04:48:17.252449Z",
     "shell.execute_reply": "2024-09-05T04:48:17.251294Z"
    },
    "papermill": {
     "duration": 0.035875,
     "end_time": "2024-09-05T04:48:17.255188",
     "exception": false,
     "start_time": "2024-09-05T04:48:17.219313",
     "status": "completed"
    },
    "tags": []
   },
   "outputs": [],
   "source": [
    "hourly_intensities['Hour'] = hourly_intensities['ActivityHour'].dt.hour\n",
    "average_intensity_by_hour = hourly_intensities.groupby('Hour')['TotalIntensity'].mean().reset_index()"
   ]
  },
  {
   "cell_type": "code",
   "execution_count": 22,
   "id": "201e8667",
   "metadata": {
    "execution": {
     "iopub.execute_input": "2024-09-05T04:48:17.299844Z",
     "iopub.status.busy": "2024-09-05T04:48:17.298845Z",
     "iopub.status.idle": "2024-09-05T04:48:18.136832Z",
     "shell.execute_reply": "2024-09-05T04:48:18.135482Z"
    },
    "papermill": {
     "duration": 0.863933,
     "end_time": "2024-09-05T04:48:18.140043",
     "exception": false,
     "start_time": "2024-09-05T04:48:17.276110",
     "status": "completed"
    },
    "tags": []
   },
   "outputs": [
    {
     "data": {
      "image/png": "[encoded data removed]",
      "text/plain": [
       "<Figure size 1800x600 with 2 Axes>"
      ]
     },
     "metadata": {},
     "output_type": "display_data"
    }
   ],
   "source": [
    "# Create a figure with two subplots side by side\n",
    "fig, axs = plt.subplots(1, 2, figsize=(18, 6))\n",
    "\n",
    "# Line plot with continuous time on the x-axis\n",
    "axs[0].plot(average_intensity_by_hour['Hour'], average_intensity_by_hour['TotalIntensity'], marker='o')\n",
    "axs[0].set_xlabel('Hour of the Day')\n",
    "axs[0].set_ylabel('Average Total Intensity')\n",
    "axs[0].set_title('Line Plot: Average Total Intensity by Hour of the Day')\n",
    "axs[0].grid(True)\n",
    "\n",
    "# Bar plot with discrete hourly values on the x-axis\n",
    "sns.barplot(x=average_intensity_by_hour['Hour'], y='TotalIntensity', data=average_intensity_by_hour, ax=axs[1])\n",
    "axs[1].set_xlabel('Hour of the Day')\n",
    "axs[1].set_ylabel('Average Total Intensity')\n",
    "axs[1].set_title('Bar Plot: Average Total Intensity by Hour of the Day')\n",
    "axs[1].set_xticks(range(24))\n",
    "\n",
    "plt.tight_layout()\n",
    "plt.show()\n"
   ]
  },
  {
   "cell_type": "markdown",
   "id": "cc6258c0",
   "metadata": {
    "papermill": {
     "duration": 0.021793,
     "end_time": "2024-09-05T04:48:18.184412",
     "exception": false,
     "start_time": "2024-09-05T04:48:18.162619",
     "status": "completed"
    },
    "tags": []
   },
   "source": [
    "We can clearly see that most of the activity takes place between **9** to **20** i.e **9 AM** to **8 PM**\n",
    "\n",
    "This would be the best time to get in touch with the people with product and health related recommendations."
   ]
  },
  {
   "cell_type": "markdown",
   "id": "e9175d17",
   "metadata": {
    "papermill": {
     "duration": 0.021604,
     "end_time": "2024-09-05T04:48:18.228271",
     "exception": false,
     "start_time": "2024-09-05T04:48:18.206667",
     "status": "completed"
    },
    "tags": []
   },
   "source": [
    "Another crucial part of our analysis is to determine how many people actually used the fitness devices reglarly and how we can seggregate these users based on their activity levels. This could give us a brief idea about how many of the people that would desire for Bellabeat's products would use them regularly and would also help the company to send personalized notifications to the user based on that particular user's data, habits and needs.\n",
    "\n",
    "* Firstly We can check for our `daily_activity` table to segregate our users into four categories, active, moderately active, lightly active and not very active types where:\n",
    "    * acive users have step count >= 10000\n",
    "    * moderately active users have step count >= 7000\n",
    "    * lightly active users have step count >= 5000\n",
    "    * not very active users have step count < 5000\n",
    "* Secondly we can use the `daily_calories` or any day based table to segregate the users based on how actively they used their smart devices. We can categorise them as follows (considering total days of data collection to be 31):\n",
    "    * Active users >= 24 days\n",
    "    * Moderate users >= 10 days\n",
    "    * Inactive users < 10 days"
   ]
  },
  {
   "cell_type": "code",
   "execution_count": 23,
   "id": "724658d5",
   "metadata": {
    "execution": {
     "iopub.execute_input": "2024-09-05T04:48:18.275366Z",
     "iopub.status.busy": "2024-09-05T04:48:18.274923Z",
     "iopub.status.idle": "2024-09-05T04:48:18.286531Z",
     "shell.execute_reply": "2024-09-05T04:48:18.285274Z"
    },
    "papermill": {
     "duration": 0.038066,
     "end_time": "2024-09-05T04:48:18.289165",
     "exception": false,
     "start_time": "2024-09-05T04:48:18.251099",
     "status": "completed"
    },
    "tags": []
   },
   "outputs": [],
   "source": [
    "average_steps_per_user = daily_activity.groupby('Id')['TotalSteps'].mean().reset_index()\n",
    "\n",
    "# categorizing based on steps\n",
    "def categorize_active_users(steps):\n",
    "    if steps >= 10000:\n",
    "        return 'Active'\n",
    "    elif steps >= 7000:\n",
    "        return 'Moderately Active'\n",
    "    elif steps >= 5000:\n",
    "        return 'Lightly Active'\n",
    "    else: \n",
    "        return 'Not Active'\n",
    "    \n",
    "# Adding a column that represents and categorizes the user to an activity type\n",
    "average_steps_per_user['ActivityCategory'] = average_steps_per_user['TotalSteps'].apply(categorize_active_users)\n",
    "\n",
    "# Counting the number of users in each category\n",
    "category_counts = average_steps_per_user['ActivityCategory'].value_counts()"
   ]
  },
  {
   "cell_type": "code",
   "execution_count": 24,
   "id": "e875a0dc",
   "metadata": {
    "execution": {
     "iopub.execute_input": "2024-09-05T04:48:18.335921Z",
     "iopub.status.busy": "2024-09-05T04:48:18.335435Z",
     "iopub.status.idle": "2024-09-05T04:48:18.484982Z",
     "shell.execute_reply": "2024-09-05T04:48:18.483534Z"
    },
    "papermill": {
     "duration": 0.178084,
     "end_time": "2024-09-05T04:48:18.489488",
     "exception": false,
     "start_time": "2024-09-05T04:48:18.311404",
     "status": "completed"
    },
    "tags": []
   },
   "outputs": [
    {
     "data": {
      "image/png": "[encoded data removed]",
      "text/plain": [
       "<Figure size 640x480 with 1 Axes>"
      ]
     },
     "metadata": {},
     "output_type": "display_data"
    }
   ],
   "source": [
    "plt.pie(category_counts, labels=category_counts.index, autopct='%1.1f%%', startangle=140)\n",
    "plt.title('Distribution of Users by Activity Level')\n",
    "plt.show()"
   ]
  },
  {
   "cell_type": "code",
   "execution_count": 25,
   "id": "4f0ef3cb",
   "metadata": {
    "execution": {
     "iopub.execute_input": "2024-09-05T04:48:18.538490Z",
     "iopub.status.busy": "2024-09-05T04:48:18.538046Z",
     "iopub.status.idle": "2024-09-05T04:48:18.549228Z",
     "shell.execute_reply": "2024-09-05T04:48:18.548017Z"
    },
    "papermill": {
     "duration": 0.038915,
     "end_time": "2024-09-05T04:48:18.551987",
     "exception": false,
     "start_time": "2024-09-05T04:48:18.513072",
     "status": "completed"
    },
    "tags": []
   },
   "outputs": [],
   "source": [
    "user_activity = daily_calories.groupby('Id').size().reset_index(name='Count')\n",
    "\n",
    "# Categorizing based on user activity\n",
    "def categorize_users_activity(user):\n",
    "    if user >= 21:\n",
    "        return 'Active User'\n",
    "    elif user >= 11:\n",
    "        return 'Moderate users'\n",
    "    else:\n",
    "        return 'Inactive users'\n",
    "    \n",
    "# Adding a column that represents and categorizes the user based on device usage activity\n",
    "user_activity['UserType'] = user_activity['Count'].apply(categorize_users_activity)\n",
    "\n",
    "# Counting the number of users in each category\n",
    "user_type_counts = user_activity['UserType'].value_counts()"
   ]
  },
  {
   "cell_type": "code",
   "execution_count": 26,
   "id": "8ddea9a3",
   "metadata": {
    "execution": {
     "iopub.execute_input": "2024-09-05T04:48:18.600946Z",
     "iopub.status.busy": "2024-09-05T04:48:18.599651Z",
     "iopub.status.idle": "2024-09-05T04:48:18.777956Z",
     "shell.execute_reply": "2024-09-05T04:48:18.775995Z"
    },
    "papermill": {
     "duration": 0.209907,
     "end_time": "2024-09-05T04:48:18.785017",
     "exception": false,
     "start_time": "2024-09-05T04:48:18.575110",
     "status": "completed"
    },
    "tags": []
   },
   "outputs": [
    {
     "data": {
      "image/png": "[encoded data removed]",
      "text/plain": [
       "<Figure size 640x480 with 1 Axes>"
      ]
     },
     "metadata": {},
     "output_type": "display_data"
    }
   ],
   "source": [
    "plt.pie(user_type_counts, labels=user_type_counts.index, autopct='%1.1f%%', startangle=140)\n",
    "plt.title('Distribution of User Types Based on Device Usage Activity')\n",
    "plt.show()"
   ]
  },
  {
   "cell_type": "markdown",
   "id": "9be60acd",
   "metadata": {
    "papermill": {
     "duration": 0.024775,
     "end_time": "2024-09-05T04:48:18.852658",
     "exception": false,
     "start_time": "2024-09-05T04:48:18.827883",
     "status": "completed"
    },
    "tags": []
   },
   "source": [
    "It shows clearly that the most people were active users of the device."
   ]
  },
  {
   "cell_type": "markdown",
   "id": "2d55f95f",
   "metadata": {
    "papermill": {
     "duration": 0.02441,
     "end_time": "2024-09-05T04:48:18.901865",
     "exception": false,
     "start_time": "2024-09-05T04:48:18.877455",
     "status": "completed"
    },
    "tags": []
   },
   "source": [
    "Let us also have a look whether there is any relation between sleep and activity levels of individuals. Since health experts suggest that physical activity leads to better sleep. "
   ]
  },
  {
   "cell_type": "code",
   "execution_count": 27,
   "id": "dfa8180c",
   "metadata": {
    "execution": {
     "iopub.execute_input": "2024-09-05T04:48:18.953968Z",
     "iopub.status.busy": "2024-09-05T04:48:18.953494Z",
     "iopub.status.idle": "2024-09-05T04:48:18.972679Z",
     "shell.execute_reply": "2024-09-05T04:48:18.971378Z"
    },
    "papermill": {
     "duration": 0.049583,
     "end_time": "2024-09-05T04:48:18.975959",
     "exception": false,
     "start_time": "2024-09-05T04:48:18.926376",
     "status": "completed"
    },
    "tags": []
   },
   "outputs": [],
   "source": [
    "activity_sleep_merged = pd.merge(daily_activity, daily_sleep, how = 'inner')"
   ]
  },
  {
   "cell_type": "code",
   "execution_count": 28,
   "id": "fc834cb2",
   "metadata": {
    "execution": {
     "iopub.execute_input": "2024-09-05T04:48:19.029663Z",
     "iopub.status.busy": "2024-09-05T04:48:19.028587Z",
     "iopub.status.idle": "2024-09-05T04:48:20.157584Z",
     "shell.execute_reply": "2024-09-05T04:48:20.156235Z"
    },
    "papermill": {
     "duration": 1.160678,
     "end_time": "2024-09-05T04:48:20.161620",
     "exception": false,
     "start_time": "2024-09-05T04:48:19.000942",
     "status": "completed"
    },
    "tags": []
   },
   "outputs": [
    {
     "data": {
      "image/png": "[encoded data removed]",
      "text/plain": [
       "<Figure size 640x480 with 1 Axes>"
      ]
     },
     "metadata": {},
     "output_type": "display_data"
    }
   ],
   "source": [
    "import seaborn as sns\n",
    "import matplotlib.pyplot as plt\n",
    "\n",
    "# Create a scatter plot with regression line for 'TotalMinutesAsleep' vs 'SedentaryMinutes'\n",
    "sns.regplot(x='TotalMinutesAsleep', y='SedentaryMinutes', data=activity_sleep_merged, \n",
    "            scatter_kws={'color': 'darkblue'}, line_kws={'color': 'red'})\n",
    "\n",
    "# Adding title and labels\n",
    "plt.title('Minutes Asleep vs. Sedentary Minutes')\n",
    "plt.xlabel('Total Minutes Asleep')\n",
    "plt.ylabel('Sedentary Minutes')\n",
    "\n",
    "# Show the plot\n",
    "plt.show()\n",
    "\n"
   ]
  },
  {
   "cell_type": "code",
   "execution_count": 29,
   "id": "8bab5f42",
   "metadata": {
    "execution": {
     "iopub.execute_input": "2024-09-05T04:48:20.219465Z",
     "iopub.status.busy": "2024-09-05T04:48:20.218999Z",
     "iopub.status.idle": "2024-09-05T04:48:20.632320Z",
     "shell.execute_reply": "2024-09-05T04:48:20.630940Z"
    },
    "papermill": {
     "duration": 0.445837,
     "end_time": "2024-09-05T04:48:20.635373",
     "exception": false,
     "start_time": "2024-09-05T04:48:20.189536",
     "status": "completed"
    },
    "tags": []
   },
   "outputs": [
    {
     "data": {
      "image/png": "[encoded data removed]",
      "text/plain": [
       "<Figure size 800x600 with 2 Axes>"
      ]
     },
     "metadata": {},
     "output_type": "display_data"
    }
   ],
   "source": [
    "# Selecting only the relevant columns for correlation\n",
    "corr_data = activity_sleep_merged[['VeryActiveMinutes', 'FairlyActiveMinutes', 'LightlyActiveMinutes', 'SedentaryMinutes', 'TotalMinutesAsleep']]\n",
    "\n",
    "# Calculating the correlation matrix\n",
    "corr_matrix = corr_data.corr()\n",
    "\n",
    "# Plotting the correlation matrix as a heatmap\n",
    "plt.figure(figsize=(8, 6))\n",
    "sns.heatmap(corr_matrix, annot=True, cmap='coolwarm', linewidths=0.5)\n",
    "\n",
    "# Adding title\n",
    "plt.title('Correlation Matrix between Activity Types and Sleep Minutes')\n",
    "plt.show()\n"
   ]
  },
  {
   "cell_type": "code",
   "execution_count": 30,
   "id": "349f0b0a",
   "metadata": {
    "execution": {
     "iopub.execute_input": "2024-09-05T04:48:20.696898Z",
     "iopub.status.busy": "2024-09-05T04:48:20.695636Z",
     "iopub.status.idle": "2024-09-05T04:48:20.720832Z",
     "shell.execute_reply": "2024-09-05T04:48:20.719675Z"
    },
    "papermill": {
     "duration": 0.058011,
     "end_time": "2024-09-05T04:48:20.723294",
     "exception": false,
     "start_time": "2024-09-05T04:48:20.665283",
     "status": "completed"
    },
    "tags": []
   },
   "outputs": [
    {
     "data": {
      "text/html": [
       "<div>\n",
       "<style scoped>\n",
       "    .dataframe tbody tr th:only-of-type {\n",
       "        vertical-align: middle;\n",
       "    }\n",
       "\n",
       "    .dataframe tbody tr th {\n",
       "        vertical-align: top;\n",
       "    }\n",
       "\n",
       "    .dataframe thead th {\n",
       "        text-align: right;\n",
       "    }\n",
       "</style>\n",
       "<table border=\"1\" class=\"dataframe\">\n",
       "  <thead>\n",
       "    <tr style=\"text-align: right;\">\n",
       "      <th></th>\n",
       "      <th>Id</th>\n",
       "      <th>ActivityDate</th>\n",
       "      <th>TotalSteps</th>\n",
       "      <th>TotalDistance</th>\n",
       "      <th>TrackerDistance</th>\n",
       "      <th>LoggedActivitiesDistance</th>\n",
       "      <th>VeryActiveDistance</th>\n",
       "      <th>ModeratelyActiveDistance</th>\n",
       "      <th>LightActiveDistance</th>\n",
       "      <th>SedentaryActiveDistance</th>\n",
       "      <th>VeryActiveMinutes</th>\n",
       "      <th>FairlyActiveMinutes</th>\n",
       "      <th>LightlyActiveMinutes</th>\n",
       "      <th>SedentaryMinutes</th>\n",
       "      <th>Calories</th>\n",
       "      <th>DayOfWeek</th>\n",
       "      <th>SleepDay</th>\n",
       "      <th>TotalSleepRecords</th>\n",
       "      <th>TotalMinutesAsleep</th>\n",
       "      <th>TotalTimeInBed</th>\n",
       "    </tr>\n",
       "  </thead>\n",
       "  <tbody>\n",
       "    <tr>\n",
       "      <th>0</th>\n",
       "      <td>1503960366</td>\n",
       "      <td>2016-04-12</td>\n",
       "      <td>13162</td>\n",
       "      <td>8.5</td>\n",
       "      <td>8.5</td>\n",
       "      <td>0.0</td>\n",
       "      <td>1.88</td>\n",
       "      <td>0.55</td>\n",
       "      <td>6.06</td>\n",
       "      <td>0.0</td>\n",
       "      <td>25</td>\n",
       "      <td>13</td>\n",
       "      <td>328</td>\n",
       "      <td>728</td>\n",
       "      <td>1985</td>\n",
       "      <td>Tuesday</td>\n",
       "      <td>4/12/2016 12:00:00 AM</td>\n",
       "      <td>1</td>\n",
       "      <td>327</td>\n",
       "      <td>346</td>\n",
       "    </tr>\n",
       "    <tr>\n",
       "      <th>1</th>\n",
       "      <td>1503960366</td>\n",
       "      <td>2016-04-12</td>\n",
       "      <td>13162</td>\n",
       "      <td>8.5</td>\n",
       "      <td>8.5</td>\n",
       "      <td>0.0</td>\n",
       "      <td>1.88</td>\n",
       "      <td>0.55</td>\n",
       "      <td>6.06</td>\n",
       "      <td>0.0</td>\n",
       "      <td>25</td>\n",
       "      <td>13</td>\n",
       "      <td>328</td>\n",
       "      <td>728</td>\n",
       "      <td>1985</td>\n",
       "      <td>Tuesday</td>\n",
       "      <td>4/13/2016 12:00:00 AM</td>\n",
       "      <td>2</td>\n",
       "      <td>384</td>\n",
       "      <td>407</td>\n",
       "    </tr>\n",
       "    <tr>\n",
       "      <th>2</th>\n",
       "      <td>1503960366</td>\n",
       "      <td>2016-04-12</td>\n",
       "      <td>13162</td>\n",
       "      <td>8.5</td>\n",
       "      <td>8.5</td>\n",
       "      <td>0.0</td>\n",
       "      <td>1.88</td>\n",
       "      <td>0.55</td>\n",
       "      <td>6.06</td>\n",
       "      <td>0.0</td>\n",
       "      <td>25</td>\n",
       "      <td>13</td>\n",
       "      <td>328</td>\n",
       "      <td>728</td>\n",
       "      <td>1985</td>\n",
       "      <td>Tuesday</td>\n",
       "      <td>4/15/2016 12:00:00 AM</td>\n",
       "      <td>1</td>\n",
       "      <td>412</td>\n",
       "      <td>442</td>\n",
       "    </tr>\n",
       "    <tr>\n",
       "      <th>3</th>\n",
       "      <td>1503960366</td>\n",
       "      <td>2016-04-12</td>\n",
       "      <td>13162</td>\n",
       "      <td>8.5</td>\n",
       "      <td>8.5</td>\n",
       "      <td>0.0</td>\n",
       "      <td>1.88</td>\n",
       "      <td>0.55</td>\n",
       "      <td>6.06</td>\n",
       "      <td>0.0</td>\n",
       "      <td>25</td>\n",
       "      <td>13</td>\n",
       "      <td>328</td>\n",
       "      <td>728</td>\n",
       "      <td>1985</td>\n",
       "      <td>Tuesday</td>\n",
       "      <td>4/16/2016 12:00:00 AM</td>\n",
       "      <td>2</td>\n",
       "      <td>340</td>\n",
       "      <td>367</td>\n",
       "    </tr>\n",
       "    <tr>\n",
       "      <th>4</th>\n",
       "      <td>1503960366</td>\n",
       "      <td>2016-04-12</td>\n",
       "      <td>13162</td>\n",
       "      <td>8.5</td>\n",
       "      <td>8.5</td>\n",
       "      <td>0.0</td>\n",
       "      <td>1.88</td>\n",
       "      <td>0.55</td>\n",
       "      <td>6.06</td>\n",
       "      <td>0.0</td>\n",
       "      <td>25</td>\n",
       "      <td>13</td>\n",
       "      <td>328</td>\n",
       "      <td>728</td>\n",
       "      <td>1985</td>\n",
       "      <td>Tuesday</td>\n",
       "      <td>4/17/2016 12:00:00 AM</td>\n",
       "      <td>1</td>\n",
       "      <td>700</td>\n",
       "      <td>712</td>\n",
       "    </tr>\n",
       "  </tbody>\n",
       "</table>\n",
       "</div>"
      ],
      "text/plain": [
       "           Id ActivityDate  TotalSteps  TotalDistance  TrackerDistance  \\\n",
       "0  1503960366   2016-04-12       13162            8.5              8.5   \n",
       "1  1503960366   2016-04-12       13162            8.5              8.5   \n",
       "2  1503960366   2016-04-12       13162            8.5              8.5   \n",
       "3  1503960366   2016-04-12       13162            8.5              8.5   \n",
       "4  1503960366   2016-04-12       13162            8.5              8.5   \n",
       "\n",
       "   LoggedActivitiesDistance  VeryActiveDistance  ModeratelyActiveDistance  \\\n",
       "0                       0.0                1.88                      0.55   \n",
       "1                       0.0                1.88                      0.55   \n",
       "2                       0.0                1.88                      0.55   \n",
       "3                       0.0                1.88                      0.55   \n",
       "4                       0.0                1.88                      0.55   \n",
       "\n",
       "   LightActiveDistance  SedentaryActiveDistance  VeryActiveMinutes  \\\n",
       "0                 6.06                      0.0                 25   \n",
       "1                 6.06                      0.0                 25   \n",
       "2                 6.06                      0.0                 25   \n",
       "3                 6.06                      0.0                 25   \n",
       "4                 6.06                      0.0                 25   \n",
       "\n",
       "   FairlyActiveMinutes  LightlyActiveMinutes  SedentaryMinutes  Calories  \\\n",
       "0                   13                   328               728      1985   \n",
       "1                   13                   328               728      1985   \n",
       "2                   13                   328               728      1985   \n",
       "3                   13                   328               728      1985   \n",
       "4                   13                   328               728      1985   \n",
       "\n",
       "  DayOfWeek               SleepDay  TotalSleepRecords  TotalMinutesAsleep  \\\n",
       "0   Tuesday  4/12/2016 12:00:00 AM                  1                 327   \n",
       "1   Tuesday  4/13/2016 12:00:00 AM                  2                 384   \n",
       "2   Tuesday  4/15/2016 12:00:00 AM                  1                 412   \n",
       "3   Tuesday  4/16/2016 12:00:00 AM                  2                 340   \n",
       "4   Tuesday  4/17/2016 12:00:00 AM                  1                 700   \n",
       "\n",
       "   TotalTimeInBed  \n",
       "0             346  \n",
       "1             407  \n",
       "2             442  \n",
       "3             367  \n",
       "4             712  "
      ]
     },
     "execution_count": 30,
     "metadata": {},
     "output_type": "execute_result"
    }
   ],
   "source": [
    "activity_sleep_merged.head()"
   ]
  },
  {
   "cell_type": "markdown",
   "id": "e5210428",
   "metadata": {
    "papermill": {
     "duration": 0.028956,
     "end_time": "2024-09-05T04:48:20.781665",
     "exception": false,
     "start_time": "2024-09-05T04:48:20.752709",
     "status": "completed"
    },
    "tags": []
   },
   "source": [
    "# <span style=\"color: #20beff;\">4. SHARE Phase</span>\n",
    "\n"
   ]
  },
  {
   "cell_type": "code",
   "execution_count": null,
   "id": "3e678b73",
   "metadata": {
    "papermill": {
     "duration": 0.028887,
     "end_time": "2024-09-05T04:48:20.839786",
     "exception": false,
     "start_time": "2024-09-05T04:48:20.810899",
     "status": "completed"
    },
    "tags": []
   },
   "outputs": [],
   "source": []
  },
  {
   "cell_type": "code",
   "execution_count": null,
   "id": "69a0665c",
   "metadata": {
    "papermill": {
     "duration": 0.028947,
     "end_time": "2024-09-05T04:48:20.897934",
     "exception": false,
     "start_time": "2024-09-05T04:48:20.868987",
     "status": "completed"
    },
    "tags": []
   },
   "outputs": [],
   "source": []
  }
 ],
 "metadata": {
  "kaggle": {
   "accelerator": "none",
   "dataSources": [
    {
     "datasetId": 1041311,
     "sourceId": 7746251,
     "sourceType": "datasetVersion"
    }
   ],
   "dockerImageVersionId": 30761,
   "isGpuEnabled": false,
   "isInternetEnabled": true,
   "language": "python",
   "sourceType": "notebook"
  },
  "kernelspec": {
   "display_name": "Python 3",
   "language": "python",
   "name": "python3"
  },
  "language_info": {
   "codemirror_mode": {
    "name": "ipython",
    "version": 3
   },
   "file_extension": ".py",
   "mimetype": "text/x-python",
   "name": "python",
   "nbconvert_exporter": "python",
   "pygments_lexer": "ipython3",
   "version": "3.10.14"
  },
  "papermill": {
   "default_parameters": {},
   "duration": 15.748478,
   "end_time": "2024-09-05T04:48:21.650269",
   "environment_variables": {},
   "exception": null,
   "input_path": "__notebook__.ipynb",
   "output_path": "__notebook__.ipynb",
   "parameters": {},
   "start_time": "2024-09-05T04:48:05.901791",
   "version": "2.6.0"
  }
 },
 "nbformat": 4,
 "nbformat_minor": 5
}
