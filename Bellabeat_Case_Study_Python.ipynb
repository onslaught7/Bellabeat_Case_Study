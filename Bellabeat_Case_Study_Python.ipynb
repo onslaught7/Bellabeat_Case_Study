{
 "cells": [
  {
   "cell_type": "markdown",
   "id": "cf6a08a9",
   "metadata": {
    "papermill": {
     "duration": 0.003166,
     "end_time": "2024-09-01T02:58:02.136110",
     "exception": false,
     "start_time": "2024-09-01T02:58:02.132944",
     "status": "completed"
    },
    "tags": []
   },
   "source": [
    "# Bellabeat Case Study (Google Data Analytics Professional Certificate Capstone)\n",
    "\n",
    "Urška Sršen and Sando Mur founded Bellabeat, a high-tech company that manufactures health-focused smart products. Collecting data on activity, sleep, stress, and reproductive health has allowed Bellabeat to empower women with knowledge about their own health and habits. Since it was founded in .2013, Bellabeat has grown rapidly and quickly positioned  itself as a tech-driven wellness company for women.\n",
    "\n",
    "By 2016, Bellabeat had opened offices around the world and launched multiple products. Bellabeat products became available through a growing number of online retailers in addition to their own e-commerce channel on their website. The company has invested in traditional advertising media, such as radio, out-of-home billboards, print, and television, but focuses on digital marketing extensively. Bellabeat invests year-round in Google Search, maintaining active Facebook and Instagram pages, and consistently engages consumers on Twitter. Additionally, Bellabeat runs video ads on Youtube and display ads on the Google Display Network to support campaigns around key marketing dates.\n",
    "\n",
    "Sršen knows that an analysis of Bellabeat’s available consumer data would reveal more opportunities for growth. She has\n",
    "asked the marketing analytics team to focus on a Bellabeat product and analyze smart device usage data in order to gain\n",
    "insight into how people are already using their smart devices. Then, using this information, she would like high-level\n",
    "recommendations for how these trends can inform Bellabeat marketing strategy.\n",
    "\n",
    "## Scenario\n",
    "\n",
    "* I am a **Junior Data Analyst** working on the marketing analyst team at Bellabeat, a high-tech manufacturer of health-focused products for women. \n",
    "* Bellabeat has the potential to become even larger than what it is in the global smart device market.\n",
    "* I have been asked to  focus on one of Bellabeat’s products and analyze smart device data to gain insight into how consumers are using their smart devices\n",
    "* Finally I present my analysis to the executive team along with my recommendations for improving Bellabeat's marketing strategy.\n"
   ]
  },
  {
   "cell_type": "markdown",
   "id": "6a4c165a",
   "metadata": {
    "papermill": {
     "duration": 0.002299,
     "end_time": "2024-09-01T02:58:02.141317",
     "exception": false,
     "start_time": "2024-09-01T02:58:02.139018",
     "status": "completed"
    },
    "tags": []
   },
   "source": [
    "# The complete analysis process\n",
    "\n",
    "We perform the complete analysis process of this case study based of Google's six steps procedure for data analysis, namely:\n",
    "* **Ask**: Identifying the business task, considering the key stakeholders\n",
    "* **Prepare**: Preparing the dataset to be used including checking (ROCCC)\n",
    "* **Process**: The cleaning, sorting and filtering process to prep the data for calculations and analysis\n",
    "* **Analyze**: Putting the clean data to work, performing calculations and searching for trends or insights\n",
    "* **Share**: Communicating your high-level insights and recommendations, this is where visualization comes into action\n",
    "* **Act**: The final conclusion, how the team and business should apply you insights and what next steps can be taken"
   ]
  },
  {
   "cell_type": "markdown",
   "id": "329aad74",
   "metadata": {
    "papermill": {
     "duration": 0.002221,
     "end_time": "2024-09-01T02:58:02.146070",
     "exception": false,
     "start_time": "2024-09-01T02:58:02.143849",
     "status": "completed"
    },
    "tags": []
   },
   "source": [
    "# ASK Phase (Identifying the business task and the key stakeholders)\n",
    "\n",
    "## Business Task\n",
    "Help Bella make better marketting decisions through analysis of fitness data from non bellabeat smart devices. In our case we use the **FitBit Fitness Tracker Data** \n",
    "\n",
    "## Key Stakeholders\n",
    "* **Urška Sršen**: Bellabeat’s cofounder and Chief Creative Officer\n",
    "* **Sando Mur**: Mathematician and Bellabeat’s cofounder; key member of the Bellabeat executive team\n"
   ]
  },
  {
   "cell_type": "code",
   "execution_count": 1,
   "id": "d80df473",
   "metadata": {
    "_cell_guid": "b1076dfc-b9ad-4769-8c92-a6c4dae69d19",
    "_uuid": "8f2839f25d086af736a60e9eeb907d3b93b6e0e5",
    "execution": {
     "iopub.execute_input": "2024-09-01T02:58:02.153159Z",
     "iopub.status.busy": "2024-09-01T02:58:02.152566Z",
     "iopub.status.idle": "2024-09-01T02:58:02.627889Z",
     "shell.execute_reply": "2024-09-01T02:58:02.626681Z"
    },
    "papermill": {
     "duration": 0.482431,
     "end_time": "2024-09-01T02:58:02.630964",
     "exception": false,
     "start_time": "2024-09-01T02:58:02.148533",
     "status": "completed"
    },
    "tags": []
   },
   "outputs": [
    {
     "name": "stdout",
     "output_type": "stream",
     "text": [
      "/kaggle/input/fitbit/mturkfitbit_export_3.12.16-4.11.16/Fitabase Data 3.12.16-4.11.16/minuteCaloriesNarrow_merged.csv\n",
      "/kaggle/input/fitbit/mturkfitbit_export_3.12.16-4.11.16/Fitabase Data 3.12.16-4.11.16/weightLogInfo_merged.csv\n",
      "/kaggle/input/fitbit/mturkfitbit_export_3.12.16-4.11.16/Fitabase Data 3.12.16-4.11.16/minuteMETsNarrow_merged.csv\n",
      "/kaggle/input/fitbit/mturkfitbit_export_3.12.16-4.11.16/Fitabase Data 3.12.16-4.11.16/hourlyCalories_merged.csv\n",
      "/kaggle/input/fitbit/mturkfitbit_export_3.12.16-4.11.16/Fitabase Data 3.12.16-4.11.16/heartrate_seconds_merged.csv\n",
      "/kaggle/input/fitbit/mturkfitbit_export_3.12.16-4.11.16/Fitabase Data 3.12.16-4.11.16/minuteSleep_merged.csv\n",
      "/kaggle/input/fitbit/mturkfitbit_export_3.12.16-4.11.16/Fitabase Data 3.12.16-4.11.16/hourlyIntensities_merged.csv\n",
      "/kaggle/input/fitbit/mturkfitbit_export_3.12.16-4.11.16/Fitabase Data 3.12.16-4.11.16/hourlySteps_merged.csv\n",
      "/kaggle/input/fitbit/mturkfitbit_export_3.12.16-4.11.16/Fitabase Data 3.12.16-4.11.16/minuteStepsNarrow_merged.csv\n",
      "/kaggle/input/fitbit/mturkfitbit_export_3.12.16-4.11.16/Fitabase Data 3.12.16-4.11.16/minuteIntensitiesNarrow_merged.csv\n",
      "/kaggle/input/fitbit/mturkfitbit_export_3.12.16-4.11.16/Fitabase Data 3.12.16-4.11.16/dailyActivity_merged.csv\n",
      "/kaggle/input/fitbit/mturkfitbit_export_4.12.16-5.12.16/Fitabase Data 4.12.16-5.12.16/minuteCaloriesNarrow_merged.csv\n",
      "/kaggle/input/fitbit/mturkfitbit_export_4.12.16-5.12.16/Fitabase Data 4.12.16-5.12.16/weightLogInfo_merged.csv\n",
      "/kaggle/input/fitbit/mturkfitbit_export_4.12.16-5.12.16/Fitabase Data 4.12.16-5.12.16/sleepDay_merged.csv\n",
      "/kaggle/input/fitbit/mturkfitbit_export_4.12.16-5.12.16/Fitabase Data 4.12.16-5.12.16/dailyIntensities_merged.csv\n",
      "/kaggle/input/fitbit/mturkfitbit_export_4.12.16-5.12.16/Fitabase Data 4.12.16-5.12.16/minuteIntensitiesWide_merged.csv\n",
      "/kaggle/input/fitbit/mturkfitbit_export_4.12.16-5.12.16/Fitabase Data 4.12.16-5.12.16/minuteMETsNarrow_merged.csv\n",
      "/kaggle/input/fitbit/mturkfitbit_export_4.12.16-5.12.16/Fitabase Data 4.12.16-5.12.16/dailyCalories_merged.csv\n",
      "/kaggle/input/fitbit/mturkfitbit_export_4.12.16-5.12.16/Fitabase Data 4.12.16-5.12.16/hourlyCalories_merged.csv\n",
      "/kaggle/input/fitbit/mturkfitbit_export_4.12.16-5.12.16/Fitabase Data 4.12.16-5.12.16/heartrate_seconds_merged.csv\n",
      "/kaggle/input/fitbit/mturkfitbit_export_4.12.16-5.12.16/Fitabase Data 4.12.16-5.12.16/minuteSleep_merged.csv\n",
      "/kaggle/input/fitbit/mturkfitbit_export_4.12.16-5.12.16/Fitabase Data 4.12.16-5.12.16/hourlyIntensities_merged.csv\n",
      "/kaggle/input/fitbit/mturkfitbit_export_4.12.16-5.12.16/Fitabase Data 4.12.16-5.12.16/hourlySteps_merged.csv\n",
      "/kaggle/input/fitbit/mturkfitbit_export_4.12.16-5.12.16/Fitabase Data 4.12.16-5.12.16/minuteStepsNarrow_merged.csv\n",
      "/kaggle/input/fitbit/mturkfitbit_export_4.12.16-5.12.16/Fitabase Data 4.12.16-5.12.16/dailySteps_merged.csv\n",
      "/kaggle/input/fitbit/mturkfitbit_export_4.12.16-5.12.16/Fitabase Data 4.12.16-5.12.16/minuteStepsWide_merged.csv\n",
      "/kaggle/input/fitbit/mturkfitbit_export_4.12.16-5.12.16/Fitabase Data 4.12.16-5.12.16/minuteIntensitiesNarrow_merged.csv\n",
      "/kaggle/input/fitbit/mturkfitbit_export_4.12.16-5.12.16/Fitabase Data 4.12.16-5.12.16/minuteCaloriesWide_merged.csv\n",
      "/kaggle/input/fitbit/mturkfitbit_export_4.12.16-5.12.16/Fitabase Data 4.12.16-5.12.16/dailyActivity_merged.csv\n"
     ]
    }
   ],
   "source": [
    "import numpy as np \n",
    "import pandas as pd \n",
    "import os\n",
    "for dirname, _, filenames in os.walk('/kaggle/input'):\n",
    "    for filename in filenames:\n",
    "        print(os.path.join(dirname, filename))"
   ]
  },
  {
   "cell_type": "code",
   "execution_count": null,
   "id": "8bf984c2",
   "metadata": {
    "papermill": {
     "duration": 0.002582,
     "end_time": "2024-09-01T02:58:02.636470",
     "exception": false,
     "start_time": "2024-09-01T02:58:02.633888",
     "status": "completed"
    },
    "tags": []
   },
   "outputs": [],
   "source": []
  }
 ],
 "metadata": {
  "kaggle": {
   "accelerator": "none",
   "dataSources": [
    {
     "datasetId": 1041311,
     "sourceId": 7746251,
     "sourceType": "datasetVersion"
    }
   ],
   "dockerImageVersionId": 30761,
   "isGpuEnabled": false,
   "isInternetEnabled": true,
   "language": "python",
   "sourceType": "notebook"
  },
  "kernelspec": {
   "display_name": "Python 3",
   "language": "python",
   "name": "python3"
  },
  "language_info": {
   "codemirror_mode": {
    "name": "ipython",
    "version": 3
   },
   "file_extension": ".py",
   "mimetype": "text/x-python",
   "name": "python",
   "nbconvert_exporter": "python",
   "pygments_lexer": "ipython3",
   "version": "3.10.14"
  },
  "papermill": {
   "default_parameters": {},
   "duration": 3.963948,
   "end_time": "2024-09-01T02:58:03.160278",
   "environment_variables": {},
   "exception": null,
   "input_path": "__notebook__.ipynb",
   "output_path": "__notebook__.ipynb",
   "parameters": {},
   "start_time": "2024-09-01T02:57:59.196330",
   "version": "2.6.0"
  }
 },
 "nbformat": 4,
 "nbformat_minor": 5
}
