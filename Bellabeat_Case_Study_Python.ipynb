{
 "cells": [
  {
   "cell_type": "markdown",
   "id": "2b7c051f",
   "metadata": {
    "papermill": {
     "duration": 0.007589,
     "end_time": "2024-09-01T07:34:57.687173",
     "exception": false,
     "start_time": "2024-09-01T07:34:57.679584",
     "status": "completed"
    },
    "tags": []
   },
   "source": [
    "# <span style=\"color: #20beff;\">Bellabeat Case Study (Google Data Analytics Professional Certificate Capstone)</span>\n",
    "\n",
    "Urška Sršen and Sando Mur founded Bellabeat, a high-tech company that manufactures health-focused smart products. Collecting data on activity, sleep, stress, and reproductive health has allowed Bellabeat to empower women with knowledge about their own health and habits. Since it was founded in .2013, Bellabeat has grown rapidly and quickly positioned  itself as a tech-driven wellness company for women.\n",
    "\n",
    "By 2016, Bellabeat had opened offices around the world and launched multiple products. Bellabeat products became available through a growing number of online retailers in addition to their own e-commerce channel on their website. The company has invested in traditional advertising media, such as radio, out-of-home billboards, print, and television, but focuses on digital marketing extensively. Bellabeat invests year-round in Google Search, maintaining active Facebook and Instagram pages, and consistently engages consumers on Twitter. Additionally, Bellabeat runs video ads on Youtube and display ads on the Google Display Network to support campaigns around key marketing dates.\n",
    "\n",
    "Sršen knows that an analysis of Bellabeat’s available consumer data would reveal more opportunities for growth. She has\n",
    "asked the marketing analytics team to focus on a Bellabeat product and analyze smart device usage data in order to gain\n",
    "insight into how people are already using their smart devices. Then, using this information, she would like high-level\n",
    "recommendations for how these trends can inform Bellabeat marketing strategy.\n",
    "\n",
    "## Scenario\n",
    "\n",
    "* I am a **Junior Data Analyst** working on the marketing analyst team at Bellabeat, a high-tech manufacturer of health-focused products for women. \n",
    "* Bellabeat has the potential to become even larger than what it is in the global smart device market.\n",
    "* I have been asked to  focus on one of Bellabeat’s products and analyze smart device data to gain insight into how consumers are using their smart devices\n",
    "* Finally I present my analysis to the executive team along with my recommendations for improving Bellabeat's marketing strategy.\n"
   ]
  },
  {
   "cell_type": "markdown",
   "id": "16c9cdaf",
   "metadata": {
    "papermill": {
     "duration": 0.006343,
     "end_time": "2024-09-01T07:34:57.700652",
     "exception": false,
     "start_time": "2024-09-01T07:34:57.694309",
     "status": "completed"
    },
    "tags": []
   },
   "source": [
    "# <span style=\"color: #20beff;\">The complete analysis process</span>\n",
    "\n",
    "We perform the complete analysis process of this case study based of Google's six steps procedure for data analysis, namely:\n",
    "* **Ask**: Identifying the business task, considering the key stakeholders\n",
    "* **Prepare**: Preparing the dataset to be used including checking (ROCCC)\n",
    "* **Process**: The cleaning, sorting and filtering process to prep the data for calculations and analysis\n",
    "* **Analyze**: Putting the clean data to work, performing calculations and searching for trends or insights\n",
    "* **Share**: Communicating your high-level insights and recommendations, this is where visualization comes into action\n",
    "* **Act**: The final conclusion, how the team and business should apply you insights and what next steps can be taken"
   ]
  },
  {
   "cell_type": "markdown",
   "id": "2eec339e",
   "metadata": {
    "papermill": {
     "duration": 0.006219,
     "end_time": "2024-09-01T07:34:57.713496",
     "exception": false,
     "start_time": "2024-09-01T07:34:57.707277",
     "status": "completed"
    },
    "tags": []
   },
   "source": [
    "# <span style=\"color: #20beff;\">1. ASK Phase </span>\n",
    "\n",
    "## Business Task\n",
    "Help Bellabeat make better marketting decisions through analysis of fitness data from non bellabeat smart devices. In our case we use the **FitBit Fitness Tracker Data** \n",
    "\n",
    "## Key Stakeholders\n",
    "* **Urška Sršen**: Bellabeat’s cofounder and Chief Creative Officer\n",
    "* **Sando Mur**: Mathematician and Bellabeat’s cofounder; key member of the Bellabeat executive team\n"
   ]
  },
  {
   "cell_type": "markdown",
   "id": "33ed6e15",
   "metadata": {
    "papermill": {
     "duration": 0.00626,
     "end_time": "2024-09-01T07:34:57.726302",
     "exception": false,
     "start_time": "2024-09-01T07:34:57.720042",
     "status": "completed"
    },
    "tags": []
   },
   "source": [
    "# <span style=\"color: #20beff;\">2. PREPARE Phase </span>\n",
    "\n",
    "## Dataset Used:\n",
    "The dataset used for this case study is the FitBit Fitness Tracker Dataset. \n",
    "\n",
    "## Accessibility: \n",
    "It is an open-source dataset made available to the public domain.\n",
    "\n",
    "## Data collection description: \n",
    "It was generated by respondents to a distributed survey via Amazon Mechanical Turk between 03.12.2016-05.12.2016. Thirty eligible Fitbit users consented to the submission of personal tracker data, including minute-level output for physical activity, heart rate, and sleep monitoring."
   ]
  },
  {
   "cell_type": "code",
   "execution_count": 1,
   "id": "997c47a8",
   "metadata": {
    "_cell_guid": "b1076dfc-b9ad-4769-8c92-a6c4dae69d19",
    "_uuid": "8f2839f25d086af736a60e9eeb907d3b93b6e0e5",
    "execution": {
     "iopub.execute_input": "2024-09-01T07:34:57.741587Z",
     "iopub.status.busy": "2024-09-01T07:34:57.740997Z",
     "iopub.status.idle": "2024-09-01T07:34:58.238765Z",
     "shell.execute_reply": "2024-09-01T07:34:58.237676Z"
    },
    "papermill": {
     "duration": 0.508777,
     "end_time": "2024-09-01T07:34:58.241693",
     "exception": false,
     "start_time": "2024-09-01T07:34:57.732916",
     "status": "completed"
    },
    "tags": []
   },
   "outputs": [
    {
     "name": "stdout",
     "output_type": "stream",
     "text": [
      "/kaggle/input/fitbit/mturkfitbit_export_3.12.16-4.11.16/Fitabase Data 3.12.16-4.11.16/minuteCaloriesNarrow_merged.csv\n",
      "/kaggle/input/fitbit/mturkfitbit_export_3.12.16-4.11.16/Fitabase Data 3.12.16-4.11.16/weightLogInfo_merged.csv\n",
      "/kaggle/input/fitbit/mturkfitbit_export_3.12.16-4.11.16/Fitabase Data 3.12.16-4.11.16/minuteMETsNarrow_merged.csv\n",
      "/kaggle/input/fitbit/mturkfitbit_export_3.12.16-4.11.16/Fitabase Data 3.12.16-4.11.16/hourlyCalories_merged.csv\n",
      "/kaggle/input/fitbit/mturkfitbit_export_3.12.16-4.11.16/Fitabase Data 3.12.16-4.11.16/heartrate_seconds_merged.csv\n",
      "/kaggle/input/fitbit/mturkfitbit_export_3.12.16-4.11.16/Fitabase Data 3.12.16-4.11.16/minuteSleep_merged.csv\n",
      "/kaggle/input/fitbit/mturkfitbit_export_3.12.16-4.11.16/Fitabase Data 3.12.16-4.11.16/hourlyIntensities_merged.csv\n",
      "/kaggle/input/fitbit/mturkfitbit_export_3.12.16-4.11.16/Fitabase Data 3.12.16-4.11.16/hourlySteps_merged.csv\n",
      "/kaggle/input/fitbit/mturkfitbit_export_3.12.16-4.11.16/Fitabase Data 3.12.16-4.11.16/minuteStepsNarrow_merged.csv\n",
      "/kaggle/input/fitbit/mturkfitbit_export_3.12.16-4.11.16/Fitabase Data 3.12.16-4.11.16/minuteIntensitiesNarrow_merged.csv\n",
      "/kaggle/input/fitbit/mturkfitbit_export_3.12.16-4.11.16/Fitabase Data 3.12.16-4.11.16/dailyActivity_merged.csv\n",
      "/kaggle/input/fitbit/mturkfitbit_export_4.12.16-5.12.16/Fitabase Data 4.12.16-5.12.16/minuteCaloriesNarrow_merged.csv\n",
      "/kaggle/input/fitbit/mturkfitbit_export_4.12.16-5.12.16/Fitabase Data 4.12.16-5.12.16/weightLogInfo_merged.csv\n",
      "/kaggle/input/fitbit/mturkfitbit_export_4.12.16-5.12.16/Fitabase Data 4.12.16-5.12.16/sleepDay_merged.csv\n",
      "/kaggle/input/fitbit/mturkfitbit_export_4.12.16-5.12.16/Fitabase Data 4.12.16-5.12.16/dailyIntensities_merged.csv\n",
      "/kaggle/input/fitbit/mturkfitbit_export_4.12.16-5.12.16/Fitabase Data 4.12.16-5.12.16/minuteIntensitiesWide_merged.csv\n",
      "/kaggle/input/fitbit/mturkfitbit_export_4.12.16-5.12.16/Fitabase Data 4.12.16-5.12.16/minuteMETsNarrow_merged.csv\n",
      "/kaggle/input/fitbit/mturkfitbit_export_4.12.16-5.12.16/Fitabase Data 4.12.16-5.12.16/dailyCalories_merged.csv\n",
      "/kaggle/input/fitbit/mturkfitbit_export_4.12.16-5.12.16/Fitabase Data 4.12.16-5.12.16/hourlyCalories_merged.csv\n",
      "/kaggle/input/fitbit/mturkfitbit_export_4.12.16-5.12.16/Fitabase Data 4.12.16-5.12.16/heartrate_seconds_merged.csv\n",
      "/kaggle/input/fitbit/mturkfitbit_export_4.12.16-5.12.16/Fitabase Data 4.12.16-5.12.16/minuteSleep_merged.csv\n",
      "/kaggle/input/fitbit/mturkfitbit_export_4.12.16-5.12.16/Fitabase Data 4.12.16-5.12.16/hourlyIntensities_merged.csv\n",
      "/kaggle/input/fitbit/mturkfitbit_export_4.12.16-5.12.16/Fitabase Data 4.12.16-5.12.16/hourlySteps_merged.csv\n",
      "/kaggle/input/fitbit/mturkfitbit_export_4.12.16-5.12.16/Fitabase Data 4.12.16-5.12.16/minuteStepsNarrow_merged.csv\n",
      "/kaggle/input/fitbit/mturkfitbit_export_4.12.16-5.12.16/Fitabase Data 4.12.16-5.12.16/dailySteps_merged.csv\n",
      "/kaggle/input/fitbit/mturkfitbit_export_4.12.16-5.12.16/Fitabase Data 4.12.16-5.12.16/minuteStepsWide_merged.csv\n",
      "/kaggle/input/fitbit/mturkfitbit_export_4.12.16-5.12.16/Fitabase Data 4.12.16-5.12.16/minuteIntensitiesNarrow_merged.csv\n",
      "/kaggle/input/fitbit/mturkfitbit_export_4.12.16-5.12.16/Fitabase Data 4.12.16-5.12.16/minuteCaloriesWide_merged.csv\n",
      "/kaggle/input/fitbit/mturkfitbit_export_4.12.16-5.12.16/Fitabase Data 4.12.16-5.12.16/dailyActivity_merged.csv\n"
     ]
    }
   ],
   "source": [
    "import numpy as np \n",
    "import pandas as pd \n",
    "import os\n",
    "for dirname, _, filenames in os.walk('/kaggle/input'):\n",
    "    for filename in filenames:\n",
    "        print(os.path.join(dirname, filename))"
   ]
  },
  {
   "cell_type": "markdown",
   "id": "2825243a",
   "metadata": {
    "papermill": {
     "duration": 0.006539,
     "end_time": "2024-09-01T07:34:58.255118",
     "exception": false,
     "start_time": "2024-09-01T07:34:58.248579",
     "status": "completed"
    },
    "tags": []
   },
   "source": [
    "## Importing the required datasets"
   ]
  },
  {
   "cell_type": "code",
   "execution_count": 2,
   "id": "e07cce62",
   "metadata": {
    "execution": {
     "iopub.execute_input": "2024-09-01T07:34:58.270578Z",
     "iopub.status.busy": "2024-09-01T07:34:58.269955Z",
     "iopub.status.idle": "2024-09-01T07:34:58.340859Z",
     "shell.execute_reply": "2024-09-01T07:34:58.339802Z"
    },
    "papermill": {
     "duration": 0.081866,
     "end_time": "2024-09-01T07:34:58.343677",
     "exception": false,
     "start_time": "2024-09-01T07:34:58.261811",
     "status": "completed"
    },
    "tags": []
   },
   "outputs": [],
   "source": [
    "daily_activity = pd.read_csv('/kaggle/input/fitbit/mturkfitbit_export_4.12.16-5.12.16/Fitabase Data 4.12.16-5.12.16/dailyActivity_merged.csv')\n",
    "daily_calories = pd.read_csv('/kaggle/input/fitbit/mturkfitbit_export_4.12.16-5.12.16/Fitabase Data 4.12.16-5.12.16/dailyCalories_merged.csv')\n",
    "daily_steps = pd.read_csv('/kaggle/input/fitbit/mturkfitbit_export_4.12.16-5.12.16/Fitabase Data 4.12.16-5.12.16/dailySteps_merged.csv')\n",
    "daily_intensities = pd.read_csv('/kaggle/input/fitbit/mturkfitbit_export_4.12.16-5.12.16/Fitabase Data 4.12.16-5.12.16/dailyIntensities_merged.csv')\n",
    "daily_sleep = pd.read_csv('/kaggle/input/fitbit/mturkfitbit_export_4.12.16-5.12.16/Fitabase Data 4.12.16-5.12.16/sleepDay_merged.csv')"
   ]
  },
  {
   "cell_type": "markdown",
   "id": "7ce2af50",
   "metadata": {
    "papermill": {
     "duration": 0.006603,
     "end_time": "2024-09-01T07:34:58.357233",
     "exception": false,
     "start_time": "2024-09-01T07:34:58.350630",
     "status": "completed"
    },
    "tags": []
   },
   "source": [
    "# <span style=\"color: #20beff;\">2. PROCESS Phase </span>\n",
    "\n",
    "## Tools Used: \n",
    "I am using Python for this case study due to it's effective data analysis and processing libraries such as pandas. It also supports for great visualization through packages and libraries like Matplotlib and seaborn. I have done the same case study using R as well, which is equally as great in terms of tools for this analysis task and probably more effective for visualization."
   ]
  },
  {
   "cell_type": "code",
   "execution_count": 3,
   "id": "e11c953b",
   "metadata": {
    "execution": {
     "iopub.execute_input": "2024-09-01T07:34:58.372497Z",
     "iopub.status.busy": "2024-09-01T07:34:58.372047Z",
     "iopub.status.idle": "2024-09-01T07:34:58.428844Z",
     "shell.execute_reply": "2024-09-01T07:34:58.427415Z"
    },
    "papermill": {
     "duration": 0.067619,
     "end_time": "2024-09-01T07:34:58.431616",
     "exception": false,
     "start_time": "2024-09-01T07:34:58.363997",
     "status": "completed"
    },
    "tags": []
   },
   "outputs": [
    {
     "name": "stdout",
     "output_type": "stream",
     "text": [
      "<class 'pandas.core.frame.DataFrame'>\n",
      "RangeIndex: 940 entries, 0 to 939\n",
      "Data columns (total 15 columns):\n",
      " #   Column                    Non-Null Count  Dtype  \n",
      "---  ------                    --------------  -----  \n",
      " 0   Id                        940 non-null    int64  \n",
      " 1   ActivityDate              940 non-null    object \n",
      " 2   TotalSteps                940 non-null    int64  \n",
      " 3   TotalDistance             940 non-null    float64\n",
      " 4   TrackerDistance           940 non-null    float64\n",
      " 5   LoggedActivitiesDistance  940 non-null    float64\n",
      " 6   VeryActiveDistance        940 non-null    float64\n",
      " 7   ModeratelyActiveDistance  940 non-null    float64\n",
      " 8   LightActiveDistance       940 non-null    float64\n",
      " 9   SedentaryActiveDistance   940 non-null    float64\n",
      " 10  VeryActiveMinutes         940 non-null    int64  \n",
      " 11  FairlyActiveMinutes       940 non-null    int64  \n",
      " 12  LightlyActiveMinutes      940 non-null    int64  \n",
      " 13  SedentaryMinutes          940 non-null    int64  \n",
      " 14  Calories                  940 non-null    int64  \n",
      "dtypes: float64(7), int64(7), object(1)\n",
      "memory usage: 110.3+ KB\n"
     ]
    },
    {
     "data": {
      "text/html": [
       "<div>\n",
       "<style scoped>\n",
       "    .dataframe tbody tr th:only-of-type {\n",
       "        vertical-align: middle;\n",
       "    }\n",
       "\n",
       "    .dataframe tbody tr th {\n",
       "        vertical-align: top;\n",
       "    }\n",
       "\n",
       "    .dataframe thead th {\n",
       "        text-align: right;\n",
       "    }\n",
       "</style>\n",
       "<table border=\"1\" class=\"dataframe\">\n",
       "  <thead>\n",
       "    <tr style=\"text-align: right;\">\n",
       "      <th></th>\n",
       "      <th>Id</th>\n",
       "      <th>ActivityDate</th>\n",
       "      <th>TotalSteps</th>\n",
       "      <th>TotalDistance</th>\n",
       "      <th>TrackerDistance</th>\n",
       "      <th>LoggedActivitiesDistance</th>\n",
       "      <th>VeryActiveDistance</th>\n",
       "      <th>ModeratelyActiveDistance</th>\n",
       "      <th>LightActiveDistance</th>\n",
       "      <th>SedentaryActiveDistance</th>\n",
       "      <th>VeryActiveMinutes</th>\n",
       "      <th>FairlyActiveMinutes</th>\n",
       "      <th>LightlyActiveMinutes</th>\n",
       "      <th>SedentaryMinutes</th>\n",
       "      <th>Calories</th>\n",
       "    </tr>\n",
       "  </thead>\n",
       "  <tbody>\n",
       "    <tr>\n",
       "      <th>0</th>\n",
       "      <td>1503960366</td>\n",
       "      <td>4/12/2016</td>\n",
       "      <td>13162</td>\n",
       "      <td>8.50</td>\n",
       "      <td>8.50</td>\n",
       "      <td>0.0</td>\n",
       "      <td>1.88</td>\n",
       "      <td>0.55</td>\n",
       "      <td>6.06</td>\n",
       "      <td>0.0</td>\n",
       "      <td>25</td>\n",
       "      <td>13</td>\n",
       "      <td>328</td>\n",
       "      <td>728</td>\n",
       "      <td>1985</td>\n",
       "    </tr>\n",
       "    <tr>\n",
       "      <th>1</th>\n",
       "      <td>1503960366</td>\n",
       "      <td>4/13/2016</td>\n",
       "      <td>10735</td>\n",
       "      <td>6.97</td>\n",
       "      <td>6.97</td>\n",
       "      <td>0.0</td>\n",
       "      <td>1.57</td>\n",
       "      <td>0.69</td>\n",
       "      <td>4.71</td>\n",
       "      <td>0.0</td>\n",
       "      <td>21</td>\n",
       "      <td>19</td>\n",
       "      <td>217</td>\n",
       "      <td>776</td>\n",
       "      <td>1797</td>\n",
       "    </tr>\n",
       "    <tr>\n",
       "      <th>2</th>\n",
       "      <td>1503960366</td>\n",
       "      <td>4/14/2016</td>\n",
       "      <td>10460</td>\n",
       "      <td>6.74</td>\n",
       "      <td>6.74</td>\n",
       "      <td>0.0</td>\n",
       "      <td>2.44</td>\n",
       "      <td>0.40</td>\n",
       "      <td>3.91</td>\n",
       "      <td>0.0</td>\n",
       "      <td>30</td>\n",
       "      <td>11</td>\n",
       "      <td>181</td>\n",
       "      <td>1218</td>\n",
       "      <td>1776</td>\n",
       "    </tr>\n",
       "    <tr>\n",
       "      <th>3</th>\n",
       "      <td>1503960366</td>\n",
       "      <td>4/15/2016</td>\n",
       "      <td>9762</td>\n",
       "      <td>6.28</td>\n",
       "      <td>6.28</td>\n",
       "      <td>0.0</td>\n",
       "      <td>2.14</td>\n",
       "      <td>1.26</td>\n",
       "      <td>2.83</td>\n",
       "      <td>0.0</td>\n",
       "      <td>29</td>\n",
       "      <td>34</td>\n",
       "      <td>209</td>\n",
       "      <td>726</td>\n",
       "      <td>1745</td>\n",
       "    </tr>\n",
       "    <tr>\n",
       "      <th>4</th>\n",
       "      <td>1503960366</td>\n",
       "      <td>4/16/2016</td>\n",
       "      <td>12669</td>\n",
       "      <td>8.16</td>\n",
       "      <td>8.16</td>\n",
       "      <td>0.0</td>\n",
       "      <td>2.71</td>\n",
       "      <td>0.41</td>\n",
       "      <td>5.04</td>\n",
       "      <td>0.0</td>\n",
       "      <td>36</td>\n",
       "      <td>10</td>\n",
       "      <td>221</td>\n",
       "      <td>773</td>\n",
       "      <td>1863</td>\n",
       "    </tr>\n",
       "  </tbody>\n",
       "</table>\n",
       "</div>"
      ],
      "text/plain": [
       "           Id ActivityDate  TotalSteps  TotalDistance  TrackerDistance  \\\n",
       "0  1503960366    4/12/2016       13162           8.50             8.50   \n",
       "1  1503960366    4/13/2016       10735           6.97             6.97   \n",
       "2  1503960366    4/14/2016       10460           6.74             6.74   \n",
       "3  1503960366    4/15/2016        9762           6.28             6.28   \n",
       "4  1503960366    4/16/2016       12669           8.16             8.16   \n",
       "\n",
       "   LoggedActivitiesDistance  VeryActiveDistance  ModeratelyActiveDistance  \\\n",
       "0                       0.0                1.88                      0.55   \n",
       "1                       0.0                1.57                      0.69   \n",
       "2                       0.0                2.44                      0.40   \n",
       "3                       0.0                2.14                      1.26   \n",
       "4                       0.0                2.71                      0.41   \n",
       "\n",
       "   LightActiveDistance  SedentaryActiveDistance  VeryActiveMinutes  \\\n",
       "0                 6.06                      0.0                 25   \n",
       "1                 4.71                      0.0                 21   \n",
       "2                 3.91                      0.0                 30   \n",
       "3                 2.83                      0.0                 29   \n",
       "4                 5.04                      0.0                 36   \n",
       "\n",
       "   FairlyActiveMinutes  LightlyActiveMinutes  SedentaryMinutes  Calories  \n",
       "0                   13                   328               728      1985  \n",
       "1                   19                   217               776      1797  \n",
       "2                   11                   181              1218      1776  \n",
       "3                   34                   209               726      1745  \n",
       "4                   10                   221               773      1863  "
      ]
     },
     "execution_count": 3,
     "metadata": {},
     "output_type": "execute_result"
    }
   ],
   "source": [
    "daily_activity.info()\n",
    "daily_activity.head()"
   ]
  },
  {
   "cell_type": "code",
   "execution_count": 4,
   "id": "65fbfda4",
   "metadata": {
    "execution": {
     "iopub.execute_input": "2024-09-01T07:34:58.448351Z",
     "iopub.status.busy": "2024-09-01T07:34:58.447901Z",
     "iopub.status.idle": "2024-09-01T07:34:58.465949Z",
     "shell.execute_reply": "2024-09-01T07:34:58.464523Z"
    },
    "papermill": {
     "duration": 0.029717,
     "end_time": "2024-09-01T07:34:58.468795",
     "exception": false,
     "start_time": "2024-09-01T07:34:58.439078",
     "status": "completed"
    },
    "tags": []
   },
   "outputs": [
    {
     "name": "stdout",
     "output_type": "stream",
     "text": [
      "<class 'pandas.core.frame.DataFrame'>\n",
      "RangeIndex: 940 entries, 0 to 939\n",
      "Data columns (total 3 columns):\n",
      " #   Column       Non-Null Count  Dtype \n",
      "---  ------       --------------  ----- \n",
      " 0   Id           940 non-null    int64 \n",
      " 1   ActivityDay  940 non-null    object\n",
      " 2   Calories     940 non-null    int64 \n",
      "dtypes: int64(2), object(1)\n",
      "memory usage: 22.2+ KB\n"
     ]
    },
    {
     "data": {
      "text/html": [
       "<div>\n",
       "<style scoped>\n",
       "    .dataframe tbody tr th:only-of-type {\n",
       "        vertical-align: middle;\n",
       "    }\n",
       "\n",
       "    .dataframe tbody tr th {\n",
       "        vertical-align: top;\n",
       "    }\n",
       "\n",
       "    .dataframe thead th {\n",
       "        text-align: right;\n",
       "    }\n",
       "</style>\n",
       "<table border=\"1\" class=\"dataframe\">\n",
       "  <thead>\n",
       "    <tr style=\"text-align: right;\">\n",
       "      <th></th>\n",
       "      <th>Id</th>\n",
       "      <th>ActivityDay</th>\n",
       "      <th>Calories</th>\n",
       "    </tr>\n",
       "  </thead>\n",
       "  <tbody>\n",
       "    <tr>\n",
       "      <th>0</th>\n",
       "      <td>1503960366</td>\n",
       "      <td>4/12/2016</td>\n",
       "      <td>1985</td>\n",
       "    </tr>\n",
       "    <tr>\n",
       "      <th>1</th>\n",
       "      <td>1503960366</td>\n",
       "      <td>4/13/2016</td>\n",
       "      <td>1797</td>\n",
       "    </tr>\n",
       "    <tr>\n",
       "      <th>2</th>\n",
       "      <td>1503960366</td>\n",
       "      <td>4/14/2016</td>\n",
       "      <td>1776</td>\n",
       "    </tr>\n",
       "    <tr>\n",
       "      <th>3</th>\n",
       "      <td>1503960366</td>\n",
       "      <td>4/15/2016</td>\n",
       "      <td>1745</td>\n",
       "    </tr>\n",
       "    <tr>\n",
       "      <th>4</th>\n",
       "      <td>1503960366</td>\n",
       "      <td>4/16/2016</td>\n",
       "      <td>1863</td>\n",
       "    </tr>\n",
       "  </tbody>\n",
       "</table>\n",
       "</div>"
      ],
      "text/plain": [
       "           Id ActivityDay  Calories\n",
       "0  1503960366   4/12/2016      1985\n",
       "1  1503960366   4/13/2016      1797\n",
       "2  1503960366   4/14/2016      1776\n",
       "3  1503960366   4/15/2016      1745\n",
       "4  1503960366   4/16/2016      1863"
      ]
     },
     "execution_count": 4,
     "metadata": {},
     "output_type": "execute_result"
    }
   ],
   "source": [
    "daily_calories.info()\n",
    "daily_calories.head()"
   ]
  },
  {
   "cell_type": "code",
   "execution_count": 5,
   "id": "ea60711c",
   "metadata": {
    "execution": {
     "iopub.execute_input": "2024-09-01T07:34:58.486074Z",
     "iopub.status.busy": "2024-09-01T07:34:58.485657Z",
     "iopub.status.idle": "2024-09-01T07:34:58.503749Z",
     "shell.execute_reply": "2024-09-01T07:34:58.502570Z"
    },
    "papermill": {
     "duration": 0.02947,
     "end_time": "2024-09-01T07:34:58.506041",
     "exception": false,
     "start_time": "2024-09-01T07:34:58.476571",
     "status": "completed"
    },
    "tags": []
   },
   "outputs": [
    {
     "name": "stdout",
     "output_type": "stream",
     "text": [
      "<class 'pandas.core.frame.DataFrame'>\n",
      "RangeIndex: 940 entries, 0 to 939\n",
      "Data columns (total 3 columns):\n",
      " #   Column       Non-Null Count  Dtype \n",
      "---  ------       --------------  ----- \n",
      " 0   Id           940 non-null    int64 \n",
      " 1   ActivityDay  940 non-null    object\n",
      " 2   StepTotal    940 non-null    int64 \n",
      "dtypes: int64(2), object(1)\n",
      "memory usage: 22.2+ KB\n"
     ]
    },
    {
     "data": {
      "text/html": [
       "<div>\n",
       "<style scoped>\n",
       "    .dataframe tbody tr th:only-of-type {\n",
       "        vertical-align: middle;\n",
       "    }\n",
       "\n",
       "    .dataframe tbody tr th {\n",
       "        vertical-align: top;\n",
       "    }\n",
       "\n",
       "    .dataframe thead th {\n",
       "        text-align: right;\n",
       "    }\n",
       "</style>\n",
       "<table border=\"1\" class=\"dataframe\">\n",
       "  <thead>\n",
       "    <tr style=\"text-align: right;\">\n",
       "      <th></th>\n",
       "      <th>Id</th>\n",
       "      <th>ActivityDay</th>\n",
       "      <th>StepTotal</th>\n",
       "    </tr>\n",
       "  </thead>\n",
       "  <tbody>\n",
       "    <tr>\n",
       "      <th>0</th>\n",
       "      <td>1503960366</td>\n",
       "      <td>4/12/2016</td>\n",
       "      <td>13162</td>\n",
       "    </tr>\n",
       "    <tr>\n",
       "      <th>1</th>\n",
       "      <td>1503960366</td>\n",
       "      <td>4/13/2016</td>\n",
       "      <td>10735</td>\n",
       "    </tr>\n",
       "    <tr>\n",
       "      <th>2</th>\n",
       "      <td>1503960366</td>\n",
       "      <td>4/14/2016</td>\n",
       "      <td>10460</td>\n",
       "    </tr>\n",
       "    <tr>\n",
       "      <th>3</th>\n",
       "      <td>1503960366</td>\n",
       "      <td>4/15/2016</td>\n",
       "      <td>9762</td>\n",
       "    </tr>\n",
       "    <tr>\n",
       "      <th>4</th>\n",
       "      <td>1503960366</td>\n",
       "      <td>4/16/2016</td>\n",
       "      <td>12669</td>\n",
       "    </tr>\n",
       "  </tbody>\n",
       "</table>\n",
       "</div>"
      ],
      "text/plain": [
       "           Id ActivityDay  StepTotal\n",
       "0  1503960366   4/12/2016      13162\n",
       "1  1503960366   4/13/2016      10735\n",
       "2  1503960366   4/14/2016      10460\n",
       "3  1503960366   4/15/2016       9762\n",
       "4  1503960366   4/16/2016      12669"
      ]
     },
     "execution_count": 5,
     "metadata": {},
     "output_type": "execute_result"
    }
   ],
   "source": [
    "daily_steps.info()\n",
    "daily_steps.head()"
   ]
  },
  {
   "cell_type": "code",
   "execution_count": 6,
   "id": "4e3cf789",
   "metadata": {
    "execution": {
     "iopub.execute_input": "2024-09-01T07:34:58.524336Z",
     "iopub.status.busy": "2024-09-01T07:34:58.523905Z",
     "iopub.status.idle": "2024-09-01T07:34:58.548438Z",
     "shell.execute_reply": "2024-09-01T07:34:58.546780Z"
    },
    "papermill": {
     "duration": 0.036821,
     "end_time": "2024-09-01T07:34:58.550936",
     "exception": false,
     "start_time": "2024-09-01T07:34:58.514115",
     "status": "completed"
    },
    "tags": []
   },
   "outputs": [
    {
     "name": "stdout",
     "output_type": "stream",
     "text": [
      "<class 'pandas.core.frame.DataFrame'>\n",
      "RangeIndex: 940 entries, 0 to 939\n",
      "Data columns (total 10 columns):\n",
      " #   Column                    Non-Null Count  Dtype  \n",
      "---  ------                    --------------  -----  \n",
      " 0   Id                        940 non-null    int64  \n",
      " 1   ActivityDay               940 non-null    object \n",
      " 2   SedentaryMinutes          940 non-null    int64  \n",
      " 3   LightlyActiveMinutes      940 non-null    int64  \n",
      " 4   FairlyActiveMinutes       940 non-null    int64  \n",
      " 5   VeryActiveMinutes         940 non-null    int64  \n",
      " 6   SedentaryActiveDistance   940 non-null    float64\n",
      " 7   LightActiveDistance       940 non-null    float64\n",
      " 8   ModeratelyActiveDistance  940 non-null    float64\n",
      " 9   VeryActiveDistance        940 non-null    float64\n",
      "dtypes: float64(4), int64(5), object(1)\n",
      "memory usage: 73.6+ KB\n"
     ]
    },
    {
     "data": {
      "text/html": [
       "<div>\n",
       "<style scoped>\n",
       "    .dataframe tbody tr th:only-of-type {\n",
       "        vertical-align: middle;\n",
       "    }\n",
       "\n",
       "    .dataframe tbody tr th {\n",
       "        vertical-align: top;\n",
       "    }\n",
       "\n",
       "    .dataframe thead th {\n",
       "        text-align: right;\n",
       "    }\n",
       "</style>\n",
       "<table border=\"1\" class=\"dataframe\">\n",
       "  <thead>\n",
       "    <tr style=\"text-align: right;\">\n",
       "      <th></th>\n",
       "      <th>Id</th>\n",
       "      <th>ActivityDay</th>\n",
       "      <th>SedentaryMinutes</th>\n",
       "      <th>LightlyActiveMinutes</th>\n",
       "      <th>FairlyActiveMinutes</th>\n",
       "      <th>VeryActiveMinutes</th>\n",
       "      <th>SedentaryActiveDistance</th>\n",
       "      <th>LightActiveDistance</th>\n",
       "      <th>ModeratelyActiveDistance</th>\n",
       "      <th>VeryActiveDistance</th>\n",
       "    </tr>\n",
       "  </thead>\n",
       "  <tbody>\n",
       "    <tr>\n",
       "      <th>0</th>\n",
       "      <td>1503960366</td>\n",
       "      <td>4/12/2016</td>\n",
       "      <td>728</td>\n",
       "      <td>328</td>\n",
       "      <td>13</td>\n",
       "      <td>25</td>\n",
       "      <td>0.0</td>\n",
       "      <td>6.06</td>\n",
       "      <td>0.55</td>\n",
       "      <td>1.88</td>\n",
       "    </tr>\n",
       "    <tr>\n",
       "      <th>1</th>\n",
       "      <td>1503960366</td>\n",
       "      <td>4/13/2016</td>\n",
       "      <td>776</td>\n",
       "      <td>217</td>\n",
       "      <td>19</td>\n",
       "      <td>21</td>\n",
       "      <td>0.0</td>\n",
       "      <td>4.71</td>\n",
       "      <td>0.69</td>\n",
       "      <td>1.57</td>\n",
       "    </tr>\n",
       "    <tr>\n",
       "      <th>2</th>\n",
       "      <td>1503960366</td>\n",
       "      <td>4/14/2016</td>\n",
       "      <td>1218</td>\n",
       "      <td>181</td>\n",
       "      <td>11</td>\n",
       "      <td>30</td>\n",
       "      <td>0.0</td>\n",
       "      <td>3.91</td>\n",
       "      <td>0.40</td>\n",
       "      <td>2.44</td>\n",
       "    </tr>\n",
       "    <tr>\n",
       "      <th>3</th>\n",
       "      <td>1503960366</td>\n",
       "      <td>4/15/2016</td>\n",
       "      <td>726</td>\n",
       "      <td>209</td>\n",
       "      <td>34</td>\n",
       "      <td>29</td>\n",
       "      <td>0.0</td>\n",
       "      <td>2.83</td>\n",
       "      <td>1.26</td>\n",
       "      <td>2.14</td>\n",
       "    </tr>\n",
       "    <tr>\n",
       "      <th>4</th>\n",
       "      <td>1503960366</td>\n",
       "      <td>4/16/2016</td>\n",
       "      <td>773</td>\n",
       "      <td>221</td>\n",
       "      <td>10</td>\n",
       "      <td>36</td>\n",
       "      <td>0.0</td>\n",
       "      <td>5.04</td>\n",
       "      <td>0.41</td>\n",
       "      <td>2.71</td>\n",
       "    </tr>\n",
       "  </tbody>\n",
       "</table>\n",
       "</div>"
      ],
      "text/plain": [
       "           Id ActivityDay  SedentaryMinutes  LightlyActiveMinutes  \\\n",
       "0  1503960366   4/12/2016               728                   328   \n",
       "1  1503960366   4/13/2016               776                   217   \n",
       "2  1503960366   4/14/2016              1218                   181   \n",
       "3  1503960366   4/15/2016               726                   209   \n",
       "4  1503960366   4/16/2016               773                   221   \n",
       "\n",
       "   FairlyActiveMinutes  VeryActiveMinutes  SedentaryActiveDistance  \\\n",
       "0                   13                 25                      0.0   \n",
       "1                   19                 21                      0.0   \n",
       "2                   11                 30                      0.0   \n",
       "3                   34                 29                      0.0   \n",
       "4                   10                 36                      0.0   \n",
       "\n",
       "   LightActiveDistance  ModeratelyActiveDistance  VeryActiveDistance  \n",
       "0                 6.06                      0.55                1.88  \n",
       "1                 4.71                      0.69                1.57  \n",
       "2                 3.91                      0.40                2.44  \n",
       "3                 2.83                      1.26                2.14  \n",
       "4                 5.04                      0.41                2.71  "
      ]
     },
     "execution_count": 6,
     "metadata": {},
     "output_type": "execute_result"
    }
   ],
   "source": [
    "daily_intensities.info()\n",
    "daily_intensities.head()"
   ]
  },
  {
   "cell_type": "code",
   "execution_count": 7,
   "id": "00c3f9af",
   "metadata": {
    "execution": {
     "iopub.execute_input": "2024-09-01T07:34:58.569667Z",
     "iopub.status.busy": "2024-09-01T07:34:58.569239Z",
     "iopub.status.idle": "2024-09-01T07:34:58.587217Z",
     "shell.execute_reply": "2024-09-01T07:34:58.585712Z"
    },
    "papermill": {
     "duration": 0.030341,
     "end_time": "2024-09-01T07:34:58.589831",
     "exception": false,
     "start_time": "2024-09-01T07:34:58.559490",
     "status": "completed"
    },
    "tags": []
   },
   "outputs": [
    {
     "name": "stdout",
     "output_type": "stream",
     "text": [
      "<class 'pandas.core.frame.DataFrame'>\n",
      "RangeIndex: 413 entries, 0 to 412\n",
      "Data columns (total 5 columns):\n",
      " #   Column              Non-Null Count  Dtype \n",
      "---  ------              --------------  ----- \n",
      " 0   Id                  413 non-null    int64 \n",
      " 1   SleepDay            413 non-null    object\n",
      " 2   TotalSleepRecords   413 non-null    int64 \n",
      " 3   TotalMinutesAsleep  413 non-null    int64 \n",
      " 4   TotalTimeInBed      413 non-null    int64 \n",
      "dtypes: int64(4), object(1)\n",
      "memory usage: 16.3+ KB\n"
     ]
    },
    {
     "data": {
      "text/html": [
       "<div>\n",
       "<style scoped>\n",
       "    .dataframe tbody tr th:only-of-type {\n",
       "        vertical-align: middle;\n",
       "    }\n",
       "\n",
       "    .dataframe tbody tr th {\n",
       "        vertical-align: top;\n",
       "    }\n",
       "\n",
       "    .dataframe thead th {\n",
       "        text-align: right;\n",
       "    }\n",
       "</style>\n",
       "<table border=\"1\" class=\"dataframe\">\n",
       "  <thead>\n",
       "    <tr style=\"text-align: right;\">\n",
       "      <th></th>\n",
       "      <th>Id</th>\n",
       "      <th>SleepDay</th>\n",
       "      <th>TotalSleepRecords</th>\n",
       "      <th>TotalMinutesAsleep</th>\n",
       "      <th>TotalTimeInBed</th>\n",
       "    </tr>\n",
       "  </thead>\n",
       "  <tbody>\n",
       "    <tr>\n",
       "      <th>0</th>\n",
       "      <td>1503960366</td>\n",
       "      <td>4/12/2016 12:00:00 AM</td>\n",
       "      <td>1</td>\n",
       "      <td>327</td>\n",
       "      <td>346</td>\n",
       "    </tr>\n",
       "    <tr>\n",
       "      <th>1</th>\n",
       "      <td>1503960366</td>\n",
       "      <td>4/13/2016 12:00:00 AM</td>\n",
       "      <td>2</td>\n",
       "      <td>384</td>\n",
       "      <td>407</td>\n",
       "    </tr>\n",
       "    <tr>\n",
       "      <th>2</th>\n",
       "      <td>1503960366</td>\n",
       "      <td>4/15/2016 12:00:00 AM</td>\n",
       "      <td>1</td>\n",
       "      <td>412</td>\n",
       "      <td>442</td>\n",
       "    </tr>\n",
       "    <tr>\n",
       "      <th>3</th>\n",
       "      <td>1503960366</td>\n",
       "      <td>4/16/2016 12:00:00 AM</td>\n",
       "      <td>2</td>\n",
       "      <td>340</td>\n",
       "      <td>367</td>\n",
       "    </tr>\n",
       "    <tr>\n",
       "      <th>4</th>\n",
       "      <td>1503960366</td>\n",
       "      <td>4/17/2016 12:00:00 AM</td>\n",
       "      <td>1</td>\n",
       "      <td>700</td>\n",
       "      <td>712</td>\n",
       "    </tr>\n",
       "  </tbody>\n",
       "</table>\n",
       "</div>"
      ],
      "text/plain": [
       "           Id               SleepDay  TotalSleepRecords  TotalMinutesAsleep  \\\n",
       "0  1503960366  4/12/2016 12:00:00 AM                  1                 327   \n",
       "1  1503960366  4/13/2016 12:00:00 AM                  2                 384   \n",
       "2  1503960366  4/15/2016 12:00:00 AM                  1                 412   \n",
       "3  1503960366  4/16/2016 12:00:00 AM                  2                 340   \n",
       "4  1503960366  4/17/2016 12:00:00 AM                  1                 700   \n",
       "\n",
       "   TotalTimeInBed  \n",
       "0             346  \n",
       "1             407  \n",
       "2             442  \n",
       "3             367  \n",
       "4             712  "
      ]
     },
     "execution_count": 7,
     "metadata": {},
     "output_type": "execute_result"
    }
   ],
   "source": [
    "daily_sleep.info()\n",
    "daily_sleep.head()"
   ]
  },
  {
   "cell_type": "markdown",
   "id": "3d820fd4",
   "metadata": {
    "papermill": {
     "duration": 0.00871,
     "end_time": "2024-09-01T07:34:58.607414",
     "exception": false,
     "start_time": "2024-09-01T07:34:58.598704",
     "status": "completed"
    },
    "tags": []
   },
   "source": [
    "We can see that the tables have no null values and `dailly_activities` is a merger of `daily_intensities`, `daily_steps` and `daily_calories` \n",
    "We might as well merge the daily sleep to daily activity to create a single table that can keep track of all our daily activities."
   ]
  },
  {
   "cell_type": "code",
   "execution_count": 8,
   "id": "4371a71c",
   "metadata": {
    "execution": {
     "iopub.execute_input": "2024-09-01T07:34:58.626878Z",
     "iopub.status.busy": "2024-09-01T07:34:58.626480Z",
     "iopub.status.idle": "2024-09-01T07:34:58.638731Z",
     "shell.execute_reply": "2024-09-01T07:34:58.637636Z"
    },
    "papermill": {
     "duration": 0.025004,
     "end_time": "2024-09-01T07:34:58.641347",
     "exception": false,
     "start_time": "2024-09-01T07:34:58.616343",
     "status": "completed"
    },
    "tags": []
   },
   "outputs": [
    {
     "name": "stdout",
     "output_type": "stream",
     "text": [
      "Total contributors in table  daily_activity :  33\n",
      "Total contributors in table  daily_steps :  33\n",
      "Total contributors in table  daily_calories :  33\n",
      "Total contributors in table  daily_intensities :  33\n",
      "Total contributors in table  daily_sleep :  24\n"
     ]
    }
   ],
   "source": [
    "value_count = [\n",
    "    daily_activity['Id'].value_counts().count(), \n",
    "    daily_steps['Id'].value_counts().count(),\n",
    "    daily_calories['Id'].value_counts().count(),\n",
    "    daily_intensities['Id'].value_counts().count(),\n",
    "    daily_sleep['Id'].value_counts().count(),\n",
    "]\n",
    "\n",
    "table_name = [\"daily_activity\", \"daily_steps\", \"daily_calories\", \"daily_intensities\", \"daily_sleep\"]\n",
    "\n",
    "i = 0;\n",
    "\n",
    "for x in value_count:\n",
    "    print(\"Total contributors in table \", table_name[i], \": \", x)\n",
    "    i += 1"
   ]
  },
  {
   "cell_type": "markdown",
   "id": "9501ebb6",
   "metadata": {
    "papermill": {
     "duration": 0.008733,
     "end_time": "2024-09-01T07:34:58.659121",
     "exception": false,
     "start_time": "2024-09-01T07:34:58.650388",
     "status": "completed"
    },
    "tags": []
   },
   "source": [
    "As we can see entries in the `daily_sleep` table are 24 instead of 33 as in the other cases, so we will have empty cases of sleep values for 9 participants. Our results for sleep related analysis would mostly not hold true for the ones without sleep data. We will deal with the missing values either by dropping the rows all together or by averaging, which ever would suit better."
   ]
  },
  {
   "cell_type": "code",
   "execution_count": 9,
   "id": "a7a88018",
   "metadata": {
    "execution": {
     "iopub.execute_input": "2024-09-01T07:34:58.679106Z",
     "iopub.status.busy": "2024-09-01T07:34:58.678422Z",
     "iopub.status.idle": "2024-09-01T07:34:58.700021Z",
     "shell.execute_reply": "2024-09-01T07:34:58.698797Z"
    },
    "papermill": {
     "duration": 0.034678,
     "end_time": "2024-09-01T07:34:58.702929",
     "exception": false,
     "start_time": "2024-09-01T07:34:58.668251",
     "status": "completed"
    },
    "tags": []
   },
   "outputs": [],
   "source": [
    "# merging the daily activity table with the sleep table\n",
    "merged_daily_activity = pd.merge(daily_activity, daily_sleep, on = 'Id', how = 'left')"
   ]
  },
  {
   "cell_type": "code",
   "execution_count": 10,
   "id": "1d937685",
   "metadata": {
    "execution": {
     "iopub.execute_input": "2024-09-01T07:34:58.723682Z",
     "iopub.status.busy": "2024-09-01T07:34:58.723092Z",
     "iopub.status.idle": "2024-09-01T07:34:58.740038Z",
     "shell.execute_reply": "2024-09-01T07:34:58.738854Z"
    },
    "papermill": {
     "duration": 0.03094,
     "end_time": "2024-09-01T07:34:58.743091",
     "exception": false,
     "start_time": "2024-09-01T07:34:58.712151",
     "status": "completed"
    },
    "tags": []
   },
   "outputs": [
    {
     "name": "stdout",
     "output_type": "stream",
     "text": [
      "<class 'pandas.core.frame.DataFrame'>\n",
      "RangeIndex: 12668 entries, 0 to 12667\n",
      "Data columns (total 19 columns):\n",
      " #   Column                    Non-Null Count  Dtype  \n",
      "---  ------                    --------------  -----  \n",
      " 0   Id                        12668 non-null  int64  \n",
      " 1   ActivityDate              12668 non-null  object \n",
      " 2   TotalSteps                12668 non-null  int64  \n",
      " 3   TotalDistance             12668 non-null  float64\n",
      " 4   TrackerDistance           12668 non-null  float64\n",
      " 5   LoggedActivitiesDistance  12668 non-null  float64\n",
      " 6   VeryActiveDistance        12668 non-null  float64\n",
      " 7   ModeratelyActiveDistance  12668 non-null  float64\n",
      " 8   LightActiveDistance       12668 non-null  float64\n",
      " 9   SedentaryActiveDistance   12668 non-null  float64\n",
      " 10  VeryActiveMinutes         12668 non-null  int64  \n",
      " 11  FairlyActiveMinutes       12668 non-null  int64  \n",
      " 12  LightlyActiveMinutes      12668 non-null  int64  \n",
      " 13  SedentaryMinutes          12668 non-null  int64  \n",
      " 14  Calories                  12668 non-null  int64  \n",
      " 15  SleepDay                  12441 non-null  object \n",
      " 16  TotalSleepRecords         12441 non-null  float64\n",
      " 17  TotalMinutesAsleep        12441 non-null  float64\n",
      " 18  TotalTimeInBed            12441 non-null  float64\n",
      "dtypes: float64(10), int64(7), object(2)\n",
      "memory usage: 1.8+ MB\n"
     ]
    }
   ],
   "source": [
    "merged_daily_activity.info()"
   ]
  },
  {
   "cell_type": "code",
   "execution_count": 11,
   "id": "982b7b60",
   "metadata": {
    "execution": {
     "iopub.execute_input": "2024-09-01T07:34:58.763335Z",
     "iopub.status.busy": "2024-09-01T07:34:58.762527Z",
     "iopub.status.idle": "2024-09-01T07:34:58.775822Z",
     "shell.execute_reply": "2024-09-01T07:34:58.774790Z"
    },
    "papermill": {
     "duration": 0.026468,
     "end_time": "2024-09-01T07:34:58.778730",
     "exception": false,
     "start_time": "2024-09-01T07:34:58.752262",
     "status": "completed"
    },
    "tags": []
   },
   "outputs": [
    {
     "data": {
      "text/plain": [
       "Id                            0\n",
       "ActivityDate                  0\n",
       "TotalSteps                    0\n",
       "TotalDistance                 0\n",
       "TrackerDistance               0\n",
       "LoggedActivitiesDistance      0\n",
       "VeryActiveDistance            0\n",
       "ModeratelyActiveDistance      0\n",
       "LightActiveDistance           0\n",
       "SedentaryActiveDistance       0\n",
       "VeryActiveMinutes             0\n",
       "FairlyActiveMinutes           0\n",
       "LightlyActiveMinutes          0\n",
       "SedentaryMinutes              0\n",
       "Calories                      0\n",
       "SleepDay                    227\n",
       "TotalSleepRecords           227\n",
       "TotalMinutesAsleep          227\n",
       "TotalTimeInBed              227\n",
       "dtype: int64"
      ]
     },
     "execution_count": 11,
     "metadata": {},
     "output_type": "execute_result"
    }
   ],
   "source": [
    "merged_daily_activity.isnull().sum()"
   ]
  },
  {
   "cell_type": "markdown",
   "id": "56e57ded",
   "metadata": {
    "papermill": {
     "duration": 0.009223,
     "end_time": "2024-09-01T07:34:58.797389",
     "exception": false,
     "start_time": "2024-09-01T07:34:58.788166",
     "status": "completed"
    },
    "tags": []
   },
   "source": [
    "As we can see above we have about 227 rows with NaN values for the `daily_sleep` table. "
   ]
  },
  {
   "cell_type": "code",
   "execution_count": null,
   "id": "41a5b69d",
   "metadata": {
    "papermill": {
     "duration": 0.008778,
     "end_time": "2024-09-01T07:34:58.815805",
     "exception": false,
     "start_time": "2024-09-01T07:34:58.807027",
     "status": "completed"
    },
    "tags": []
   },
   "outputs": [],
   "source": []
  }
 ],
 "metadata": {
  "kaggle": {
   "accelerator": "none",
   "dataSources": [
    {
     "datasetId": 1041311,
     "sourceId": 7746251,
     "sourceType": "datasetVersion"
    }
   ],
   "dockerImageVersionId": 30761,
   "isGpuEnabled": false,
   "isInternetEnabled": true,
   "language": "python",
   "sourceType": "notebook"
  },
  "kernelspec": {
   "display_name": "Python 3",
   "language": "python",
   "name": "python3"
  },
  "language_info": {
   "codemirror_mode": {
    "name": "ipython",
    "version": 3
   },
   "file_extension": ".py",
   "mimetype": "text/x-python",
   "name": "python",
   "nbconvert_exporter": "python",
   "pygments_lexer": "ipython3",
   "version": "3.10.14"
  },
  "papermill": {
   "default_parameters": {},
   "duration": 4.642633,
   "end_time": "2024-09-01T07:34:59.345401",
   "environment_variables": {},
   "exception": null,
   "input_path": "__notebook__.ipynb",
   "output_path": "__notebook__.ipynb",
   "parameters": {},
   "start_time": "2024-09-01T07:34:54.702768",
   "version": "2.6.0"
  }
 },
 "nbformat": 4,
 "nbformat_minor": 5
}
