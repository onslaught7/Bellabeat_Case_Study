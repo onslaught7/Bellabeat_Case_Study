{
 "cells": [
  {
   "cell_type": "markdown",
   "id": "ad659da0",
   "metadata": {
    "papermill": {
     "duration": 0.014857,
     "end_time": "2024-09-04T12:41:36.392303",
     "exception": false,
     "start_time": "2024-09-04T12:41:36.377446",
     "status": "completed"
    },
    "tags": []
   },
   "source": [
    "# <span style=\"color: #20beff;\">Bellabeat Case Study (Google Data Analytics Professional Certificate Capstone)</span>\n",
    "\n",
    "Urška Sršen and Sando Mur founded Bellabeat, a high-tech company that manufactures health-focused smart products. Collecting data on activity, sleep, stress, and reproductive health has allowed Bellabeat to empower women with knowledge about their own health and habits. Since it was founded in .2013, Bellabeat has grown rapidly and quickly positioned  itself as a tech-driven wellness company for women.\n",
    "\n",
    "By 2016, Bellabeat had opened offices around the world and launched multiple products. Bellabeat products became available through a growing number of online retailers in addition to their own e-commerce channel on their website. The company has invested in traditional advertising media, such as radio, out-of-home billboards, print, and television, but focuses on digital marketing extensively. Bellabeat invests year-round in Google Search, maintaining active Facebook and Instagram pages, and consistently engages consumers on Twitter. Additionally, Bellabeat runs video ads on Youtube and display ads on the Google Display Network to support campaigns around key marketing dates.\n",
    "\n",
    "Sršen knows that an analysis of Bellabeat’s available consumer data would reveal more opportunities for growth. She has\n",
    "asked the marketing analytics team to focus on a Bellabeat product and analyze smart device usage data in order to gain\n",
    "insight into how people are already using their smart devices. Then, using this information, she would like high-level\n",
    "recommendations for how these trends can inform Bellabeat marketing strategy.\n",
    "\n",
    "## Scenario\n",
    "\n",
    "* I am a **Junior Data Analyst** working on the marketing analyst team at Bellabeat, a high-tech manufacturer of health-focused products for women. \n",
    "* Bellabeat has the potential to become even larger than what it is in the global smart device market.\n",
    "* I have been asked to  focus on one of Bellabeat’s products and analyze smart device data to gain insight into how consumers are using their smart devices\n",
    "* Finally I present my analysis to the executive team along with my recommendations for improving Bellabeat's marketing strategy.\n"
   ]
  },
  {
   "cell_type": "markdown",
   "id": "d8d35bc3",
   "metadata": {
    "papermill": {
     "duration": 0.014427,
     "end_time": "2024-09-04T12:41:36.421111",
     "exception": false,
     "start_time": "2024-09-04T12:41:36.406684",
     "status": "completed"
    },
    "tags": []
   },
   "source": [
    "# <span style=\"color: #20beff;\">The complete analysis process</span>\n",
    "\n",
    "We perform the complete analysis process of this case study based of Google's six steps procedure for data analysis, namely:\n",
    "* **Ask**: Identifying the business task, considering the key stakeholders\n",
    "* **Prepare**: Preparing the dataset to be used including checking (ROCCC)\n",
    "* **Process**: The cleaning, sorting and filtering process to prep the data for calculations and analysis\n",
    "* **Analyze**: Putting the clean data to work, performing calculations and searching for trends or insights\n",
    "* **Share**: Communicating your high-level insights and recommendations, this is where visualization comes into action\n",
    "* **Act**: The final conclusion, how the team and business should apply you insights and what next steps can be taken"
   ]
  },
  {
   "cell_type": "markdown",
   "id": "a7a51b70",
   "metadata": {
    "papermill": {
     "duration": 0.013749,
     "end_time": "2024-09-04T12:41:36.448857",
     "exception": false,
     "start_time": "2024-09-04T12:41:36.435108",
     "status": "completed"
    },
    "tags": []
   },
   "source": [
    "# <span style=\"color: #20beff;\">1. ASK Phase </span>\n",
    "\n",
    "## Business Task\n",
    "Help Bellabeat make better marketting decisions through analysis of fitness data from non bellabeat smart devices. In our case we use the **FitBit Fitness Tracker Data** \n",
    "\n",
    "## Key Stakeholders\n",
    "* **Urška Sršen**: Bellabeat’s cofounder and Chief Creative Officer\n",
    "* **Sando Mur**: Mathematician and Bellabeat’s cofounder; key member of the Bellabeat executive team\n"
   ]
  },
  {
   "cell_type": "markdown",
   "id": "4e625863",
   "metadata": {
    "papermill": {
     "duration": 0.013826,
     "end_time": "2024-09-04T12:41:36.477502",
     "exception": false,
     "start_time": "2024-09-04T12:41:36.463676",
     "status": "completed"
    },
    "tags": []
   },
   "source": [
    "# <span style=\"color: #20beff;\">2. PREPARE Phase </span>\n",
    "\n",
    "## Dataset Used:\n",
    "The dataset used for this case study is the FitBit Fitness Tracker Dataset. \n",
    "\n",
    "## Accessibility: \n",
    "It is an open-source dataset made available to the public domain.\n",
    "\n",
    "## Data collection description: \n",
    "It was generated by respondents to a distributed survey via Amazon Mechanical Turk between 03.12.2016-05.12.2016. Thirty eligible Fitbit users consented to the submission of personal tracker data, including minute-level output for physical activity, heart rate, and sleep monitoring."
   ]
  },
  {
   "cell_type": "code",
   "execution_count": 1,
   "id": "3768a7e6",
   "metadata": {
    "_cell_guid": "b1076dfc-b9ad-4769-8c92-a6c4dae69d19",
    "_uuid": "8f2839f25d086af736a60e9eeb907d3b93b6e0e5",
    "execution": {
     "iopub.execute_input": "2024-09-04T12:41:36.509250Z",
     "iopub.status.busy": "2024-09-04T12:41:36.508612Z",
     "iopub.status.idle": "2024-09-04T12:41:38.757499Z",
     "shell.execute_reply": "2024-09-04T12:41:38.756221Z"
    },
    "papermill": {
     "duration": 2.267462,
     "end_time": "2024-09-04T12:41:38.760469",
     "exception": false,
     "start_time": "2024-09-04T12:41:36.493007",
     "status": "completed"
    },
    "tags": []
   },
   "outputs": [
    {
     "name": "stdout",
     "output_type": "stream",
     "text": [
      "/kaggle/input/fitbit/mturkfitbit_export_3.12.16-4.11.16/Fitabase Data 3.12.16-4.11.16/minuteCaloriesNarrow_merged.csv\n",
      "/kaggle/input/fitbit/mturkfitbit_export_3.12.16-4.11.16/Fitabase Data 3.12.16-4.11.16/weightLogInfo_merged.csv\n",
      "/kaggle/input/fitbit/mturkfitbit_export_3.12.16-4.11.16/Fitabase Data 3.12.16-4.11.16/minuteMETsNarrow_merged.csv\n",
      "/kaggle/input/fitbit/mturkfitbit_export_3.12.16-4.11.16/Fitabase Data 3.12.16-4.11.16/hourlyCalories_merged.csv\n",
      "/kaggle/input/fitbit/mturkfitbit_export_3.12.16-4.11.16/Fitabase Data 3.12.16-4.11.16/heartrate_seconds_merged.csv\n",
      "/kaggle/input/fitbit/mturkfitbit_export_3.12.16-4.11.16/Fitabase Data 3.12.16-4.11.16/minuteSleep_merged.csv\n",
      "/kaggle/input/fitbit/mturkfitbit_export_3.12.16-4.11.16/Fitabase Data 3.12.16-4.11.16/hourlyIntensities_merged.csv\n",
      "/kaggle/input/fitbit/mturkfitbit_export_3.12.16-4.11.16/Fitabase Data 3.12.16-4.11.16/hourlySteps_merged.csv\n",
      "/kaggle/input/fitbit/mturkfitbit_export_3.12.16-4.11.16/Fitabase Data 3.12.16-4.11.16/minuteStepsNarrow_merged.csv\n",
      "/kaggle/input/fitbit/mturkfitbit_export_3.12.16-4.11.16/Fitabase Data 3.12.16-4.11.16/minuteIntensitiesNarrow_merged.csv\n",
      "/kaggle/input/fitbit/mturkfitbit_export_3.12.16-4.11.16/Fitabase Data 3.12.16-4.11.16/dailyActivity_merged.csv\n",
      "/kaggle/input/fitbit/mturkfitbit_export_4.12.16-5.12.16/Fitabase Data 4.12.16-5.12.16/minuteCaloriesNarrow_merged.csv\n",
      "/kaggle/input/fitbit/mturkfitbit_export_4.12.16-5.12.16/Fitabase Data 4.12.16-5.12.16/weightLogInfo_merged.csv\n",
      "/kaggle/input/fitbit/mturkfitbit_export_4.12.16-5.12.16/Fitabase Data 4.12.16-5.12.16/sleepDay_merged.csv\n",
      "/kaggle/input/fitbit/mturkfitbit_export_4.12.16-5.12.16/Fitabase Data 4.12.16-5.12.16/dailyIntensities_merged.csv\n",
      "/kaggle/input/fitbit/mturkfitbit_export_4.12.16-5.12.16/Fitabase Data 4.12.16-5.12.16/minuteIntensitiesWide_merged.csv\n",
      "/kaggle/input/fitbit/mturkfitbit_export_4.12.16-5.12.16/Fitabase Data 4.12.16-5.12.16/minuteMETsNarrow_merged.csv\n",
      "/kaggle/input/fitbit/mturkfitbit_export_4.12.16-5.12.16/Fitabase Data 4.12.16-5.12.16/dailyCalories_merged.csv\n",
      "/kaggle/input/fitbit/mturkfitbit_export_4.12.16-5.12.16/Fitabase Data 4.12.16-5.12.16/hourlyCalories_merged.csv\n",
      "/kaggle/input/fitbit/mturkfitbit_export_4.12.16-5.12.16/Fitabase Data 4.12.16-5.12.16/heartrate_seconds_merged.csv\n",
      "/kaggle/input/fitbit/mturkfitbit_export_4.12.16-5.12.16/Fitabase Data 4.12.16-5.12.16/minuteSleep_merged.csv\n",
      "/kaggle/input/fitbit/mturkfitbit_export_4.12.16-5.12.16/Fitabase Data 4.12.16-5.12.16/hourlyIntensities_merged.csv\n",
      "/kaggle/input/fitbit/mturkfitbit_export_4.12.16-5.12.16/Fitabase Data 4.12.16-5.12.16/hourlySteps_merged.csv\n",
      "/kaggle/input/fitbit/mturkfitbit_export_4.12.16-5.12.16/Fitabase Data 4.12.16-5.12.16/minuteStepsNarrow_merged.csv\n",
      "/kaggle/input/fitbit/mturkfitbit_export_4.12.16-5.12.16/Fitabase Data 4.12.16-5.12.16/dailySteps_merged.csv\n",
      "/kaggle/input/fitbit/mturkfitbit_export_4.12.16-5.12.16/Fitabase Data 4.12.16-5.12.16/minuteStepsWide_merged.csv\n",
      "/kaggle/input/fitbit/mturkfitbit_export_4.12.16-5.12.16/Fitabase Data 4.12.16-5.12.16/minuteIntensitiesNarrow_merged.csv\n",
      "/kaggle/input/fitbit/mturkfitbit_export_4.12.16-5.12.16/Fitabase Data 4.12.16-5.12.16/minuteCaloriesWide_merged.csv\n",
      "/kaggle/input/fitbit/mturkfitbit_export_4.12.16-5.12.16/Fitabase Data 4.12.16-5.12.16/dailyActivity_merged.csv\n"
     ]
    }
   ],
   "source": [
    "import numpy as np \n",
    "import pandas as pd \n",
    "import seaborn as sns\n",
    "import matplotlib.pyplot as plt\n",
    "\n",
    "import os\n",
    "for dirname, _, filenames in os.walk('/kaggle/input'):\n",
    "    for filename in filenames:\n",
    "        print(os.path.join(dirname, filename))"
   ]
  },
  {
   "cell_type": "markdown",
   "id": "2ab26180",
   "metadata": {
    "papermill": {
     "duration": 0.013806,
     "end_time": "2024-09-04T12:41:38.789338",
     "exception": false,
     "start_time": "2024-09-04T12:41:38.775532",
     "status": "completed"
    },
    "tags": []
   },
   "source": [
    "## Importing the required datasets"
   ]
  },
  {
   "cell_type": "code",
   "execution_count": 2,
   "id": "35f1c154",
   "metadata": {
    "execution": {
     "iopub.execute_input": "2024-09-04T12:41:38.820507Z",
     "iopub.status.busy": "2024-09-04T12:41:38.819865Z",
     "iopub.status.idle": "2024-09-04T12:41:38.939367Z",
     "shell.execute_reply": "2024-09-04T12:41:38.938093Z"
    },
    "papermill": {
     "duration": 0.138614,
     "end_time": "2024-09-04T12:41:38.942270",
     "exception": false,
     "start_time": "2024-09-04T12:41:38.803656",
     "status": "completed"
    },
    "tags": []
   },
   "outputs": [],
   "source": [
    "daily_activity = pd.read_csv('/kaggle/input/fitbit/mturkfitbit_export_4.12.16-5.12.16/Fitabase Data 4.12.16-5.12.16/dailyActivity_merged.csv')\n",
    "daily_calories = pd.read_csv('/kaggle/input/fitbit/mturkfitbit_export_4.12.16-5.12.16/Fitabase Data 4.12.16-5.12.16/dailyCalories_merged.csv')\n",
    "daily_steps = pd.read_csv('/kaggle/input/fitbit/mturkfitbit_export_4.12.16-5.12.16/Fitabase Data 4.12.16-5.12.16/dailySteps_merged.csv')\n",
    "daily_intensities = pd.read_csv('/kaggle/input/fitbit/mturkfitbit_export_4.12.16-5.12.16/Fitabase Data 4.12.16-5.12.16/dailyIntensities_merged.csv')\n",
    "daily_sleep = pd.read_csv('/kaggle/input/fitbit/mturkfitbit_export_4.12.16-5.12.16/Fitabase Data 4.12.16-5.12.16/sleepDay_merged.csv')\n",
    "hourly_intensities = pd.read_csv('/kaggle/input/fitbit/mturkfitbit_export_4.12.16-5.12.16/Fitabase Data 4.12.16-5.12.16/hourlyIntensities_merged.csv')"
   ]
  },
  {
   "cell_type": "markdown",
   "id": "6add4e7c",
   "metadata": {
    "papermill": {
     "duration": 0.013982,
     "end_time": "2024-09-04T12:41:38.970654",
     "exception": false,
     "start_time": "2024-09-04T12:41:38.956672",
     "status": "completed"
    },
    "tags": []
   },
   "source": [
    "# <span style=\"color: #20beff;\">3. PROCESS and ANALYSE Phase </span>\n",
    "\n",
    "## Tools Used: \n",
    "I am using Python for this case study due to it's effective data analysis and processing libraries such as pandas. It also supports for great visualization through packages and libraries like Matplotlib and seaborn. I have done the same case study using R as well, which is equally as great in terms of tools for this analysis task and probably more effective for visualization."
   ]
  },
  {
   "cell_type": "code",
   "execution_count": 3,
   "id": "05db87f9",
   "metadata": {
    "execution": {
     "iopub.execute_input": "2024-09-04T12:41:39.001646Z",
     "iopub.status.busy": "2024-09-04T12:41:39.001186Z",
     "iopub.status.idle": "2024-09-04T12:41:39.056726Z",
     "shell.execute_reply": "2024-09-04T12:41:39.055419Z"
    },
    "papermill": {
     "duration": 0.074388,
     "end_time": "2024-09-04T12:41:39.059755",
     "exception": false,
     "start_time": "2024-09-04T12:41:38.985367",
     "status": "completed"
    },
    "tags": []
   },
   "outputs": [
    {
     "name": "stdout",
     "output_type": "stream",
     "text": [
      "<class 'pandas.core.frame.DataFrame'>\n",
      "RangeIndex: 940 entries, 0 to 939\n",
      "Data columns (total 15 columns):\n",
      " #   Column                    Non-Null Count  Dtype  \n",
      "---  ------                    --------------  -----  \n",
      " 0   Id                        940 non-null    int64  \n",
      " 1   ActivityDate              940 non-null    object \n",
      " 2   TotalSteps                940 non-null    int64  \n",
      " 3   TotalDistance             940 non-null    float64\n",
      " 4   TrackerDistance           940 non-null    float64\n",
      " 5   LoggedActivitiesDistance  940 non-null    float64\n",
      " 6   VeryActiveDistance        940 non-null    float64\n",
      " 7   ModeratelyActiveDistance  940 non-null    float64\n",
      " 8   LightActiveDistance       940 non-null    float64\n",
      " 9   SedentaryActiveDistance   940 non-null    float64\n",
      " 10  VeryActiveMinutes         940 non-null    int64  \n",
      " 11  FairlyActiveMinutes       940 non-null    int64  \n",
      " 12  LightlyActiveMinutes      940 non-null    int64  \n",
      " 13  SedentaryMinutes          940 non-null    int64  \n",
      " 14  Calories                  940 non-null    int64  \n",
      "dtypes: float64(7), int64(7), object(1)\n",
      "memory usage: 110.3+ KB\n"
     ]
    },
    {
     "data": {
      "text/html": [
       "<div>\n",
       "<style scoped>\n",
       "    .dataframe tbody tr th:only-of-type {\n",
       "        vertical-align: middle;\n",
       "    }\n",
       "\n",
       "    .dataframe tbody tr th {\n",
       "        vertical-align: top;\n",
       "    }\n",
       "\n",
       "    .dataframe thead th {\n",
       "        text-align: right;\n",
       "    }\n",
       "</style>\n",
       "<table border=\"1\" class=\"dataframe\">\n",
       "  <thead>\n",
       "    <tr style=\"text-align: right;\">\n",
       "      <th></th>\n",
       "      <th>Id</th>\n",
       "      <th>ActivityDate</th>\n",
       "      <th>TotalSteps</th>\n",
       "      <th>TotalDistance</th>\n",
       "      <th>TrackerDistance</th>\n",
       "      <th>LoggedActivitiesDistance</th>\n",
       "      <th>VeryActiveDistance</th>\n",
       "      <th>ModeratelyActiveDistance</th>\n",
       "      <th>LightActiveDistance</th>\n",
       "      <th>SedentaryActiveDistance</th>\n",
       "      <th>VeryActiveMinutes</th>\n",
       "      <th>FairlyActiveMinutes</th>\n",
       "      <th>LightlyActiveMinutes</th>\n",
       "      <th>SedentaryMinutes</th>\n",
       "      <th>Calories</th>\n",
       "    </tr>\n",
       "  </thead>\n",
       "  <tbody>\n",
       "    <tr>\n",
       "      <th>0</th>\n",
       "      <td>1503960366</td>\n",
       "      <td>4/12/2016</td>\n",
       "      <td>13162</td>\n",
       "      <td>8.50</td>\n",
       "      <td>8.50</td>\n",
       "      <td>0.0</td>\n",
       "      <td>1.88</td>\n",
       "      <td>0.55</td>\n",
       "      <td>6.06</td>\n",
       "      <td>0.0</td>\n",
       "      <td>25</td>\n",
       "      <td>13</td>\n",
       "      <td>328</td>\n",
       "      <td>728</td>\n",
       "      <td>1985</td>\n",
       "    </tr>\n",
       "    <tr>\n",
       "      <th>1</th>\n",
       "      <td>1503960366</td>\n",
       "      <td>4/13/2016</td>\n",
       "      <td>10735</td>\n",
       "      <td>6.97</td>\n",
       "      <td>6.97</td>\n",
       "      <td>0.0</td>\n",
       "      <td>1.57</td>\n",
       "      <td>0.69</td>\n",
       "      <td>4.71</td>\n",
       "      <td>0.0</td>\n",
       "      <td>21</td>\n",
       "      <td>19</td>\n",
       "      <td>217</td>\n",
       "      <td>776</td>\n",
       "      <td>1797</td>\n",
       "    </tr>\n",
       "    <tr>\n",
       "      <th>2</th>\n",
       "      <td>1503960366</td>\n",
       "      <td>4/14/2016</td>\n",
       "      <td>10460</td>\n",
       "      <td>6.74</td>\n",
       "      <td>6.74</td>\n",
       "      <td>0.0</td>\n",
       "      <td>2.44</td>\n",
       "      <td>0.40</td>\n",
       "      <td>3.91</td>\n",
       "      <td>0.0</td>\n",
       "      <td>30</td>\n",
       "      <td>11</td>\n",
       "      <td>181</td>\n",
       "      <td>1218</td>\n",
       "      <td>1776</td>\n",
       "    </tr>\n",
       "    <tr>\n",
       "      <th>3</th>\n",
       "      <td>1503960366</td>\n",
       "      <td>4/15/2016</td>\n",
       "      <td>9762</td>\n",
       "      <td>6.28</td>\n",
       "      <td>6.28</td>\n",
       "      <td>0.0</td>\n",
       "      <td>2.14</td>\n",
       "      <td>1.26</td>\n",
       "      <td>2.83</td>\n",
       "      <td>0.0</td>\n",
       "      <td>29</td>\n",
       "      <td>34</td>\n",
       "      <td>209</td>\n",
       "      <td>726</td>\n",
       "      <td>1745</td>\n",
       "    </tr>\n",
       "    <tr>\n",
       "      <th>4</th>\n",
       "      <td>1503960366</td>\n",
       "      <td>4/16/2016</td>\n",
       "      <td>12669</td>\n",
       "      <td>8.16</td>\n",
       "      <td>8.16</td>\n",
       "      <td>0.0</td>\n",
       "      <td>2.71</td>\n",
       "      <td>0.41</td>\n",
       "      <td>5.04</td>\n",
       "      <td>0.0</td>\n",
       "      <td>36</td>\n",
       "      <td>10</td>\n",
       "      <td>221</td>\n",
       "      <td>773</td>\n",
       "      <td>1863</td>\n",
       "    </tr>\n",
       "  </tbody>\n",
       "</table>\n",
       "</div>"
      ],
      "text/plain": [
       "           Id ActivityDate  TotalSteps  TotalDistance  TrackerDistance  \\\n",
       "0  1503960366    4/12/2016       13162           8.50             8.50   \n",
       "1  1503960366    4/13/2016       10735           6.97             6.97   \n",
       "2  1503960366    4/14/2016       10460           6.74             6.74   \n",
       "3  1503960366    4/15/2016        9762           6.28             6.28   \n",
       "4  1503960366    4/16/2016       12669           8.16             8.16   \n",
       "\n",
       "   LoggedActivitiesDistance  VeryActiveDistance  ModeratelyActiveDistance  \\\n",
       "0                       0.0                1.88                      0.55   \n",
       "1                       0.0                1.57                      0.69   \n",
       "2                       0.0                2.44                      0.40   \n",
       "3                       0.0                2.14                      1.26   \n",
       "4                       0.0                2.71                      0.41   \n",
       "\n",
       "   LightActiveDistance  SedentaryActiveDistance  VeryActiveMinutes  \\\n",
       "0                 6.06                      0.0                 25   \n",
       "1                 4.71                      0.0                 21   \n",
       "2                 3.91                      0.0                 30   \n",
       "3                 2.83                      0.0                 29   \n",
       "4                 5.04                      0.0                 36   \n",
       "\n",
       "   FairlyActiveMinutes  LightlyActiveMinutes  SedentaryMinutes  Calories  \n",
       "0                   13                   328               728      1985  \n",
       "1                   19                   217               776      1797  \n",
       "2                   11                   181              1218      1776  \n",
       "3                   34                   209               726      1745  \n",
       "4                   10                   221               773      1863  "
      ]
     },
     "execution_count": 3,
     "metadata": {},
     "output_type": "execute_result"
    }
   ],
   "source": [
    "daily_activity.info()\n",
    "daily_activity.head()"
   ]
  },
  {
   "cell_type": "code",
   "execution_count": 4,
   "id": "e7429fcb",
   "metadata": {
    "execution": {
     "iopub.execute_input": "2024-09-04T12:41:39.091548Z",
     "iopub.status.busy": "2024-09-04T12:41:39.091127Z",
     "iopub.status.idle": "2024-09-04T12:41:39.109519Z",
     "shell.execute_reply": "2024-09-04T12:41:39.108182Z"
    },
    "papermill": {
     "duration": 0.037317,
     "end_time": "2024-09-04T12:41:39.112026",
     "exception": false,
     "start_time": "2024-09-04T12:41:39.074709",
     "status": "completed"
    },
    "tags": []
   },
   "outputs": [
    {
     "name": "stdout",
     "output_type": "stream",
     "text": [
      "<class 'pandas.core.frame.DataFrame'>\n",
      "RangeIndex: 940 entries, 0 to 939\n",
      "Data columns (total 3 columns):\n",
      " #   Column       Non-Null Count  Dtype \n",
      "---  ------       --------------  ----- \n",
      " 0   Id           940 non-null    int64 \n",
      " 1   ActivityDay  940 non-null    object\n",
      " 2   Calories     940 non-null    int64 \n",
      "dtypes: int64(2), object(1)\n",
      "memory usage: 22.2+ KB\n"
     ]
    },
    {
     "data": {
      "text/html": [
       "<div>\n",
       "<style scoped>\n",
       "    .dataframe tbody tr th:only-of-type {\n",
       "        vertical-align: middle;\n",
       "    }\n",
       "\n",
       "    .dataframe tbody tr th {\n",
       "        vertical-align: top;\n",
       "    }\n",
       "\n",
       "    .dataframe thead th {\n",
       "        text-align: right;\n",
       "    }\n",
       "</style>\n",
       "<table border=\"1\" class=\"dataframe\">\n",
       "  <thead>\n",
       "    <tr style=\"text-align: right;\">\n",
       "      <th></th>\n",
       "      <th>Id</th>\n",
       "      <th>ActivityDay</th>\n",
       "      <th>Calories</th>\n",
       "    </tr>\n",
       "  </thead>\n",
       "  <tbody>\n",
       "    <tr>\n",
       "      <th>0</th>\n",
       "      <td>1503960366</td>\n",
       "      <td>4/12/2016</td>\n",
       "      <td>1985</td>\n",
       "    </tr>\n",
       "    <tr>\n",
       "      <th>1</th>\n",
       "      <td>1503960366</td>\n",
       "      <td>4/13/2016</td>\n",
       "      <td>1797</td>\n",
       "    </tr>\n",
       "    <tr>\n",
       "      <th>2</th>\n",
       "      <td>1503960366</td>\n",
       "      <td>4/14/2016</td>\n",
       "      <td>1776</td>\n",
       "    </tr>\n",
       "    <tr>\n",
       "      <th>3</th>\n",
       "      <td>1503960366</td>\n",
       "      <td>4/15/2016</td>\n",
       "      <td>1745</td>\n",
       "    </tr>\n",
       "    <tr>\n",
       "      <th>4</th>\n",
       "      <td>1503960366</td>\n",
       "      <td>4/16/2016</td>\n",
       "      <td>1863</td>\n",
       "    </tr>\n",
       "  </tbody>\n",
       "</table>\n",
       "</div>"
      ],
      "text/plain": [
       "           Id ActivityDay  Calories\n",
       "0  1503960366   4/12/2016      1985\n",
       "1  1503960366   4/13/2016      1797\n",
       "2  1503960366   4/14/2016      1776\n",
       "3  1503960366   4/15/2016      1745\n",
       "4  1503960366   4/16/2016      1863"
      ]
     },
     "execution_count": 4,
     "metadata": {},
     "output_type": "execute_result"
    }
   ],
   "source": [
    "daily_calories.info()\n",
    "daily_calories.head()"
   ]
  },
  {
   "cell_type": "code",
   "execution_count": 5,
   "id": "c014d101",
   "metadata": {
    "execution": {
     "iopub.execute_input": "2024-09-04T12:41:39.143945Z",
     "iopub.status.busy": "2024-09-04T12:41:39.143545Z",
     "iopub.status.idle": "2024-09-04T12:41:39.161318Z",
     "shell.execute_reply": "2024-09-04T12:41:39.160051Z"
    },
    "papermill": {
     "duration": 0.036539,
     "end_time": "2024-09-04T12:41:39.163797",
     "exception": false,
     "start_time": "2024-09-04T12:41:39.127258",
     "status": "completed"
    },
    "tags": []
   },
   "outputs": [
    {
     "name": "stdout",
     "output_type": "stream",
     "text": [
      "<class 'pandas.core.frame.DataFrame'>\n",
      "RangeIndex: 940 entries, 0 to 939\n",
      "Data columns (total 3 columns):\n",
      " #   Column       Non-Null Count  Dtype \n",
      "---  ------       --------------  ----- \n",
      " 0   Id           940 non-null    int64 \n",
      " 1   ActivityDay  940 non-null    object\n",
      " 2   StepTotal    940 non-null    int64 \n",
      "dtypes: int64(2), object(1)\n",
      "memory usage: 22.2+ KB\n"
     ]
    },
    {
     "data": {
      "text/html": [
       "<div>\n",
       "<style scoped>\n",
       "    .dataframe tbody tr th:only-of-type {\n",
       "        vertical-align: middle;\n",
       "    }\n",
       "\n",
       "    .dataframe tbody tr th {\n",
       "        vertical-align: top;\n",
       "    }\n",
       "\n",
       "    .dataframe thead th {\n",
       "        text-align: right;\n",
       "    }\n",
       "</style>\n",
       "<table border=\"1\" class=\"dataframe\">\n",
       "  <thead>\n",
       "    <tr style=\"text-align: right;\">\n",
       "      <th></th>\n",
       "      <th>Id</th>\n",
       "      <th>ActivityDay</th>\n",
       "      <th>StepTotal</th>\n",
       "    </tr>\n",
       "  </thead>\n",
       "  <tbody>\n",
       "    <tr>\n",
       "      <th>0</th>\n",
       "      <td>1503960366</td>\n",
       "      <td>4/12/2016</td>\n",
       "      <td>13162</td>\n",
       "    </tr>\n",
       "    <tr>\n",
       "      <th>1</th>\n",
       "      <td>1503960366</td>\n",
       "      <td>4/13/2016</td>\n",
       "      <td>10735</td>\n",
       "    </tr>\n",
       "    <tr>\n",
       "      <th>2</th>\n",
       "      <td>1503960366</td>\n",
       "      <td>4/14/2016</td>\n",
       "      <td>10460</td>\n",
       "    </tr>\n",
       "    <tr>\n",
       "      <th>3</th>\n",
       "      <td>1503960366</td>\n",
       "      <td>4/15/2016</td>\n",
       "      <td>9762</td>\n",
       "    </tr>\n",
       "    <tr>\n",
       "      <th>4</th>\n",
       "      <td>1503960366</td>\n",
       "      <td>4/16/2016</td>\n",
       "      <td>12669</td>\n",
       "    </tr>\n",
       "  </tbody>\n",
       "</table>\n",
       "</div>"
      ],
      "text/plain": [
       "           Id ActivityDay  StepTotal\n",
       "0  1503960366   4/12/2016      13162\n",
       "1  1503960366   4/13/2016      10735\n",
       "2  1503960366   4/14/2016      10460\n",
       "3  1503960366   4/15/2016       9762\n",
       "4  1503960366   4/16/2016      12669"
      ]
     },
     "execution_count": 5,
     "metadata": {},
     "output_type": "execute_result"
    }
   ],
   "source": [
    "daily_steps.info()\n",
    "daily_steps.head()"
   ]
  },
  {
   "cell_type": "code",
   "execution_count": 6,
   "id": "b3448150",
   "metadata": {
    "execution": {
     "iopub.execute_input": "2024-09-04T12:41:39.196910Z",
     "iopub.status.busy": "2024-09-04T12:41:39.196123Z",
     "iopub.status.idle": "2024-09-04T12:41:39.220843Z",
     "shell.execute_reply": "2024-09-04T12:41:39.219489Z"
    },
    "papermill": {
     "duration": 0.044604,
     "end_time": "2024-09-04T12:41:39.223849",
     "exception": false,
     "start_time": "2024-09-04T12:41:39.179245",
     "status": "completed"
    },
    "tags": []
   },
   "outputs": [
    {
     "name": "stdout",
     "output_type": "stream",
     "text": [
      "<class 'pandas.core.frame.DataFrame'>\n",
      "RangeIndex: 940 entries, 0 to 939\n",
      "Data columns (total 10 columns):\n",
      " #   Column                    Non-Null Count  Dtype  \n",
      "---  ------                    --------------  -----  \n",
      " 0   Id                        940 non-null    int64  \n",
      " 1   ActivityDay               940 non-null    object \n",
      " 2   SedentaryMinutes          940 non-null    int64  \n",
      " 3   LightlyActiveMinutes      940 non-null    int64  \n",
      " 4   FairlyActiveMinutes       940 non-null    int64  \n",
      " 5   VeryActiveMinutes         940 non-null    int64  \n",
      " 6   SedentaryActiveDistance   940 non-null    float64\n",
      " 7   LightActiveDistance       940 non-null    float64\n",
      " 8   ModeratelyActiveDistance  940 non-null    float64\n",
      " 9   VeryActiveDistance        940 non-null    float64\n",
      "dtypes: float64(4), int64(5), object(1)\n",
      "memory usage: 73.6+ KB\n"
     ]
    },
    {
     "data": {
      "text/html": [
       "<div>\n",
       "<style scoped>\n",
       "    .dataframe tbody tr th:only-of-type {\n",
       "        vertical-align: middle;\n",
       "    }\n",
       "\n",
       "    .dataframe tbody tr th {\n",
       "        vertical-align: top;\n",
       "    }\n",
       "\n",
       "    .dataframe thead th {\n",
       "        text-align: right;\n",
       "    }\n",
       "</style>\n",
       "<table border=\"1\" class=\"dataframe\">\n",
       "  <thead>\n",
       "    <tr style=\"text-align: right;\">\n",
       "      <th></th>\n",
       "      <th>Id</th>\n",
       "      <th>ActivityDay</th>\n",
       "      <th>SedentaryMinutes</th>\n",
       "      <th>LightlyActiveMinutes</th>\n",
       "      <th>FairlyActiveMinutes</th>\n",
       "      <th>VeryActiveMinutes</th>\n",
       "      <th>SedentaryActiveDistance</th>\n",
       "      <th>LightActiveDistance</th>\n",
       "      <th>ModeratelyActiveDistance</th>\n",
       "      <th>VeryActiveDistance</th>\n",
       "    </tr>\n",
       "  </thead>\n",
       "  <tbody>\n",
       "    <tr>\n",
       "      <th>0</th>\n",
       "      <td>1503960366</td>\n",
       "      <td>4/12/2016</td>\n",
       "      <td>728</td>\n",
       "      <td>328</td>\n",
       "      <td>13</td>\n",
       "      <td>25</td>\n",
       "      <td>0.0</td>\n",
       "      <td>6.06</td>\n",
       "      <td>0.55</td>\n",
       "      <td>1.88</td>\n",
       "    </tr>\n",
       "    <tr>\n",
       "      <th>1</th>\n",
       "      <td>1503960366</td>\n",
       "      <td>4/13/2016</td>\n",
       "      <td>776</td>\n",
       "      <td>217</td>\n",
       "      <td>19</td>\n",
       "      <td>21</td>\n",
       "      <td>0.0</td>\n",
       "      <td>4.71</td>\n",
       "      <td>0.69</td>\n",
       "      <td>1.57</td>\n",
       "    </tr>\n",
       "    <tr>\n",
       "      <th>2</th>\n",
       "      <td>1503960366</td>\n",
       "      <td>4/14/2016</td>\n",
       "      <td>1218</td>\n",
       "      <td>181</td>\n",
       "      <td>11</td>\n",
       "      <td>30</td>\n",
       "      <td>0.0</td>\n",
       "      <td>3.91</td>\n",
       "      <td>0.40</td>\n",
       "      <td>2.44</td>\n",
       "    </tr>\n",
       "    <tr>\n",
       "      <th>3</th>\n",
       "      <td>1503960366</td>\n",
       "      <td>4/15/2016</td>\n",
       "      <td>726</td>\n",
       "      <td>209</td>\n",
       "      <td>34</td>\n",
       "      <td>29</td>\n",
       "      <td>0.0</td>\n",
       "      <td>2.83</td>\n",
       "      <td>1.26</td>\n",
       "      <td>2.14</td>\n",
       "    </tr>\n",
       "    <tr>\n",
       "      <th>4</th>\n",
       "      <td>1503960366</td>\n",
       "      <td>4/16/2016</td>\n",
       "      <td>773</td>\n",
       "      <td>221</td>\n",
       "      <td>10</td>\n",
       "      <td>36</td>\n",
       "      <td>0.0</td>\n",
       "      <td>5.04</td>\n",
       "      <td>0.41</td>\n",
       "      <td>2.71</td>\n",
       "    </tr>\n",
       "  </tbody>\n",
       "</table>\n",
       "</div>"
      ],
      "text/plain": [
       "           Id ActivityDay  SedentaryMinutes  LightlyActiveMinutes  \\\n",
       "0  1503960366   4/12/2016               728                   328   \n",
       "1  1503960366   4/13/2016               776                   217   \n",
       "2  1503960366   4/14/2016              1218                   181   \n",
       "3  1503960366   4/15/2016               726                   209   \n",
       "4  1503960366   4/16/2016               773                   221   \n",
       "\n",
       "   FairlyActiveMinutes  VeryActiveMinutes  SedentaryActiveDistance  \\\n",
       "0                   13                 25                      0.0   \n",
       "1                   19                 21                      0.0   \n",
       "2                   11                 30                      0.0   \n",
       "3                   34                 29                      0.0   \n",
       "4                   10                 36                      0.0   \n",
       "\n",
       "   LightActiveDistance  ModeratelyActiveDistance  VeryActiveDistance  \n",
       "0                 6.06                      0.55                1.88  \n",
       "1                 4.71                      0.69                1.57  \n",
       "2                 3.91                      0.40                2.44  \n",
       "3                 2.83                      1.26                2.14  \n",
       "4                 5.04                      0.41                2.71  "
      ]
     },
     "execution_count": 6,
     "metadata": {},
     "output_type": "execute_result"
    }
   ],
   "source": [
    "daily_intensities.info()\n",
    "daily_intensities.head()"
   ]
  },
  {
   "cell_type": "code",
   "execution_count": 7,
   "id": "c4512621",
   "metadata": {
    "execution": {
     "iopub.execute_input": "2024-09-04T12:41:39.257898Z",
     "iopub.status.busy": "2024-09-04T12:41:39.257505Z",
     "iopub.status.idle": "2024-09-04T12:41:39.276304Z",
     "shell.execute_reply": "2024-09-04T12:41:39.274847Z"
    },
    "papermill": {
     "duration": 0.039338,
     "end_time": "2024-09-04T12:41:39.279404",
     "exception": false,
     "start_time": "2024-09-04T12:41:39.240066",
     "status": "completed"
    },
    "tags": []
   },
   "outputs": [
    {
     "name": "stdout",
     "output_type": "stream",
     "text": [
      "<class 'pandas.core.frame.DataFrame'>\n",
      "RangeIndex: 413 entries, 0 to 412\n",
      "Data columns (total 5 columns):\n",
      " #   Column              Non-Null Count  Dtype \n",
      "---  ------              --------------  ----- \n",
      " 0   Id                  413 non-null    int64 \n",
      " 1   SleepDay            413 non-null    object\n",
      " 2   TotalSleepRecords   413 non-null    int64 \n",
      " 3   TotalMinutesAsleep  413 non-null    int64 \n",
      " 4   TotalTimeInBed      413 non-null    int64 \n",
      "dtypes: int64(4), object(1)\n",
      "memory usage: 16.3+ KB\n"
     ]
    },
    {
     "data": {
      "text/html": [
       "<div>\n",
       "<style scoped>\n",
       "    .dataframe tbody tr th:only-of-type {\n",
       "        vertical-align: middle;\n",
       "    }\n",
       "\n",
       "    .dataframe tbody tr th {\n",
       "        vertical-align: top;\n",
       "    }\n",
       "\n",
       "    .dataframe thead th {\n",
       "        text-align: right;\n",
       "    }\n",
       "</style>\n",
       "<table border=\"1\" class=\"dataframe\">\n",
       "  <thead>\n",
       "    <tr style=\"text-align: right;\">\n",
       "      <th></th>\n",
       "      <th>Id</th>\n",
       "      <th>SleepDay</th>\n",
       "      <th>TotalSleepRecords</th>\n",
       "      <th>TotalMinutesAsleep</th>\n",
       "      <th>TotalTimeInBed</th>\n",
       "    </tr>\n",
       "  </thead>\n",
       "  <tbody>\n",
       "    <tr>\n",
       "      <th>0</th>\n",
       "      <td>1503960366</td>\n",
       "      <td>4/12/2016 12:00:00 AM</td>\n",
       "      <td>1</td>\n",
       "      <td>327</td>\n",
       "      <td>346</td>\n",
       "    </tr>\n",
       "    <tr>\n",
       "      <th>1</th>\n",
       "      <td>1503960366</td>\n",
       "      <td>4/13/2016 12:00:00 AM</td>\n",
       "      <td>2</td>\n",
       "      <td>384</td>\n",
       "      <td>407</td>\n",
       "    </tr>\n",
       "    <tr>\n",
       "      <th>2</th>\n",
       "      <td>1503960366</td>\n",
       "      <td>4/15/2016 12:00:00 AM</td>\n",
       "      <td>1</td>\n",
       "      <td>412</td>\n",
       "      <td>442</td>\n",
       "    </tr>\n",
       "    <tr>\n",
       "      <th>3</th>\n",
       "      <td>1503960366</td>\n",
       "      <td>4/16/2016 12:00:00 AM</td>\n",
       "      <td>2</td>\n",
       "      <td>340</td>\n",
       "      <td>367</td>\n",
       "    </tr>\n",
       "    <tr>\n",
       "      <th>4</th>\n",
       "      <td>1503960366</td>\n",
       "      <td>4/17/2016 12:00:00 AM</td>\n",
       "      <td>1</td>\n",
       "      <td>700</td>\n",
       "      <td>712</td>\n",
       "    </tr>\n",
       "  </tbody>\n",
       "</table>\n",
       "</div>"
      ],
      "text/plain": [
       "           Id               SleepDay  TotalSleepRecords  TotalMinutesAsleep  \\\n",
       "0  1503960366  4/12/2016 12:00:00 AM                  1                 327   \n",
       "1  1503960366  4/13/2016 12:00:00 AM                  2                 384   \n",
       "2  1503960366  4/15/2016 12:00:00 AM                  1                 412   \n",
       "3  1503960366  4/16/2016 12:00:00 AM                  2                 340   \n",
       "4  1503960366  4/17/2016 12:00:00 AM                  1                 700   \n",
       "\n",
       "   TotalTimeInBed  \n",
       "0             346  \n",
       "1             407  \n",
       "2             442  \n",
       "3             367  \n",
       "4             712  "
      ]
     },
     "execution_count": 7,
     "metadata": {},
     "output_type": "execute_result"
    }
   ],
   "source": [
    "daily_sleep.info()\n",
    "daily_sleep.head()"
   ]
  },
  {
   "cell_type": "code",
   "execution_count": 8,
   "id": "18ef2709",
   "metadata": {
    "execution": {
     "iopub.execute_input": "2024-09-04T12:41:39.314589Z",
     "iopub.status.busy": "2024-09-04T12:41:39.313754Z",
     "iopub.status.idle": "2024-09-04T12:41:39.335522Z",
     "shell.execute_reply": "2024-09-04T12:41:39.334347Z"
    },
    "papermill": {
     "duration": 0.04247,
     "end_time": "2024-09-04T12:41:39.338308",
     "exception": false,
     "start_time": "2024-09-04T12:41:39.295838",
     "status": "completed"
    },
    "tags": []
   },
   "outputs": [
    {
     "name": "stdout",
     "output_type": "stream",
     "text": [
      "<class 'pandas.core.frame.DataFrame'>\n",
      "RangeIndex: 22099 entries, 0 to 22098\n",
      "Data columns (total 4 columns):\n",
      " #   Column            Non-Null Count  Dtype  \n",
      "---  ------            --------------  -----  \n",
      " 0   Id                22099 non-null  int64  \n",
      " 1   ActivityHour      22099 non-null  object \n",
      " 2   TotalIntensity    22099 non-null  int64  \n",
      " 3   AverageIntensity  22099 non-null  float64\n",
      "dtypes: float64(1), int64(2), object(1)\n",
      "memory usage: 690.7+ KB\n"
     ]
    },
    {
     "data": {
      "text/html": [
       "<div>\n",
       "<style scoped>\n",
       "    .dataframe tbody tr th:only-of-type {\n",
       "        vertical-align: middle;\n",
       "    }\n",
       "\n",
       "    .dataframe tbody tr th {\n",
       "        vertical-align: top;\n",
       "    }\n",
       "\n",
       "    .dataframe thead th {\n",
       "        text-align: right;\n",
       "    }\n",
       "</style>\n",
       "<table border=\"1\" class=\"dataframe\">\n",
       "  <thead>\n",
       "    <tr style=\"text-align: right;\">\n",
       "      <th></th>\n",
       "      <th>Id</th>\n",
       "      <th>ActivityHour</th>\n",
       "      <th>TotalIntensity</th>\n",
       "      <th>AverageIntensity</th>\n",
       "    </tr>\n",
       "  </thead>\n",
       "  <tbody>\n",
       "    <tr>\n",
       "      <th>0</th>\n",
       "      <td>1503960366</td>\n",
       "      <td>4/12/2016 12:00:00 AM</td>\n",
       "      <td>20</td>\n",
       "      <td>0.333333</td>\n",
       "    </tr>\n",
       "    <tr>\n",
       "      <th>1</th>\n",
       "      <td>1503960366</td>\n",
       "      <td>4/12/2016 1:00:00 AM</td>\n",
       "      <td>8</td>\n",
       "      <td>0.133333</td>\n",
       "    </tr>\n",
       "    <tr>\n",
       "      <th>2</th>\n",
       "      <td>1503960366</td>\n",
       "      <td>4/12/2016 2:00:00 AM</td>\n",
       "      <td>7</td>\n",
       "      <td>0.116667</td>\n",
       "    </tr>\n",
       "    <tr>\n",
       "      <th>3</th>\n",
       "      <td>1503960366</td>\n",
       "      <td>4/12/2016 3:00:00 AM</td>\n",
       "      <td>0</td>\n",
       "      <td>0.000000</td>\n",
       "    </tr>\n",
       "    <tr>\n",
       "      <th>4</th>\n",
       "      <td>1503960366</td>\n",
       "      <td>4/12/2016 4:00:00 AM</td>\n",
       "      <td>0</td>\n",
       "      <td>0.000000</td>\n",
       "    </tr>\n",
       "  </tbody>\n",
       "</table>\n",
       "</div>"
      ],
      "text/plain": [
       "           Id           ActivityHour  TotalIntensity  AverageIntensity\n",
       "0  1503960366  4/12/2016 12:00:00 AM              20          0.333333\n",
       "1  1503960366   4/12/2016 1:00:00 AM               8          0.133333\n",
       "2  1503960366   4/12/2016 2:00:00 AM               7          0.116667\n",
       "3  1503960366   4/12/2016 3:00:00 AM               0          0.000000\n",
       "4  1503960366   4/12/2016 4:00:00 AM               0          0.000000"
      ]
     },
     "execution_count": 8,
     "metadata": {},
     "output_type": "execute_result"
    }
   ],
   "source": [
    "hourly_intensities.info()\n",
    "hourly_intensities.head()"
   ]
  },
  {
   "cell_type": "markdown",
   "id": "ab63a0c8",
   "metadata": {
    "papermill": {
     "duration": 0.016529,
     "end_time": "2024-09-04T12:41:39.372326",
     "exception": false,
     "start_time": "2024-09-04T12:41:39.355797",
     "status": "completed"
    },
    "tags": []
   },
   "source": [
    "The `ActivityHour` is of type **object** but we would want it to be of type **datetime**. We can use the function `to_datetime()` to change the object type to **datetime**."
   ]
  },
  {
   "cell_type": "code",
   "execution_count": 9,
   "id": "0e045837",
   "metadata": {
    "execution": {
     "iopub.execute_input": "2024-09-04T12:41:39.408145Z",
     "iopub.status.busy": "2024-09-04T12:41:39.407083Z",
     "iopub.status.idle": "2024-09-04T12:41:42.424271Z",
     "shell.execute_reply": "2024-09-04T12:41:42.422610Z"
    },
    "papermill": {
     "duration": 3.038221,
     "end_time": "2024-09-04T12:41:42.427191",
     "exception": false,
     "start_time": "2024-09-04T12:41:39.388970",
     "status": "completed"
    },
    "tags": []
   },
   "outputs": [
    {
     "name": "stderr",
     "output_type": "stream",
     "text": [
      "/tmp/ipykernel_17/2242407805.py:1: UserWarning: Could not infer format, so each element will be parsed individually, falling back to `dateutil`. To ensure parsing is consistent and as-expected, please specify a format.\n",
      "  hourly_intensities['ActivityHour'] = pd.to_datetime(hourly_intensities['ActivityHour'])\n"
     ]
    },
    {
     "name": "stdout",
     "output_type": "stream",
     "text": [
      "<class 'pandas.core.frame.DataFrame'>\n",
      "RangeIndex: 22099 entries, 0 to 22098\n",
      "Data columns (total 4 columns):\n",
      " #   Column            Non-Null Count  Dtype         \n",
      "---  ------            --------------  -----         \n",
      " 0   Id                22099 non-null  int64         \n",
      " 1   ActivityHour      22099 non-null  datetime64[ns]\n",
      " 2   TotalIntensity    22099 non-null  int64         \n",
      " 3   AverageIntensity  22099 non-null  float64       \n",
      "dtypes: datetime64[ns](1), float64(1), int64(2)\n",
      "memory usage: 690.7 KB\n"
     ]
    }
   ],
   "source": [
    "hourly_intensities['ActivityHour'] = pd.to_datetime(hourly_intensities['ActivityHour'])\n",
    "hourly_intensities.info()"
   ]
  },
  {
   "cell_type": "code",
   "execution_count": 10,
   "id": "3021d2b1",
   "metadata": {
    "execution": {
     "iopub.execute_input": "2024-09-04T12:41:42.464241Z",
     "iopub.status.busy": "2024-09-04T12:41:42.463344Z",
     "iopub.status.idle": "2024-09-04T12:41:42.476584Z",
     "shell.execute_reply": "2024-09-04T12:41:42.475288Z"
    },
    "papermill": {
     "duration": 0.034866,
     "end_time": "2024-09-04T12:41:42.479426",
     "exception": false,
     "start_time": "2024-09-04T12:41:42.444560",
     "status": "completed"
    },
    "tags": []
   },
   "outputs": [
    {
     "data": {
      "text/html": [
       "<div>\n",
       "<style scoped>\n",
       "    .dataframe tbody tr th:only-of-type {\n",
       "        vertical-align: middle;\n",
       "    }\n",
       "\n",
       "    .dataframe tbody tr th {\n",
       "        vertical-align: top;\n",
       "    }\n",
       "\n",
       "    .dataframe thead th {\n",
       "        text-align: right;\n",
       "    }\n",
       "</style>\n",
       "<table border=\"1\" class=\"dataframe\">\n",
       "  <thead>\n",
       "    <tr style=\"text-align: right;\">\n",
       "      <th></th>\n",
       "      <th>Id</th>\n",
       "      <th>ActivityHour</th>\n",
       "      <th>TotalIntensity</th>\n",
       "      <th>AverageIntensity</th>\n",
       "    </tr>\n",
       "  </thead>\n",
       "  <tbody>\n",
       "    <tr>\n",
       "      <th>22094</th>\n",
       "      <td>8877689391</td>\n",
       "      <td>2016-05-12 10:00:00</td>\n",
       "      <td>12</td>\n",
       "      <td>0.200000</td>\n",
       "    </tr>\n",
       "    <tr>\n",
       "      <th>22095</th>\n",
       "      <td>8877689391</td>\n",
       "      <td>2016-05-12 11:00:00</td>\n",
       "      <td>29</td>\n",
       "      <td>0.483333</td>\n",
       "    </tr>\n",
       "    <tr>\n",
       "      <th>22096</th>\n",
       "      <td>8877689391</td>\n",
       "      <td>2016-05-12 12:00:00</td>\n",
       "      <td>93</td>\n",
       "      <td>1.550000</td>\n",
       "    </tr>\n",
       "    <tr>\n",
       "      <th>22097</th>\n",
       "      <td>8877689391</td>\n",
       "      <td>2016-05-12 13:00:00</td>\n",
       "      <td>6</td>\n",
       "      <td>0.100000</td>\n",
       "    </tr>\n",
       "    <tr>\n",
       "      <th>22098</th>\n",
       "      <td>8877689391</td>\n",
       "      <td>2016-05-12 14:00:00</td>\n",
       "      <td>9</td>\n",
       "      <td>0.150000</td>\n",
       "    </tr>\n",
       "  </tbody>\n",
       "</table>\n",
       "</div>"
      ],
      "text/plain": [
       "               Id        ActivityHour  TotalIntensity  AverageIntensity\n",
       "22094  8877689391 2016-05-12 10:00:00              12          0.200000\n",
       "22095  8877689391 2016-05-12 11:00:00              29          0.483333\n",
       "22096  8877689391 2016-05-12 12:00:00              93          1.550000\n",
       "22097  8877689391 2016-05-12 13:00:00               6          0.100000\n",
       "22098  8877689391 2016-05-12 14:00:00               9          0.150000"
      ]
     },
     "execution_count": 10,
     "metadata": {},
     "output_type": "execute_result"
    }
   ],
   "source": [
    "hourly_intensities.tail()"
   ]
  },
  {
   "cell_type": "markdown",
   "id": "6f887a49",
   "metadata": {
    "papermill": {
     "duration": 0.018195,
     "end_time": "2024-09-04T12:41:42.514810",
     "exception": false,
     "start_time": "2024-09-04T12:41:42.496615",
     "status": "completed"
    },
    "tags": []
   },
   "source": [
    "We have converted the **object** type to **datetime** type. This would make it much easier to study time frames and perform date wise analysis."
   ]
  },
  {
   "cell_type": "code",
   "execution_count": 11,
   "id": "a86b4a3b",
   "metadata": {
    "execution": {
     "iopub.execute_input": "2024-09-04T12:41:42.551491Z",
     "iopub.status.busy": "2024-09-04T12:41:42.551040Z",
     "iopub.status.idle": "2024-09-04T12:41:42.563949Z",
     "shell.execute_reply": "2024-09-04T12:41:42.562913Z"
    },
    "papermill": {
     "duration": 0.034623,
     "end_time": "2024-09-04T12:41:42.567080",
     "exception": false,
     "start_time": "2024-09-04T12:41:42.532457",
     "status": "completed"
    },
    "tags": []
   },
   "outputs": [
    {
     "name": "stdout",
     "output_type": "stream",
     "text": [
      "Total contributors in table  daily_activity :  33\n",
      "Total contributors in table  daily_steps :  33\n",
      "Total contributors in table  daily_calories :  33\n",
      "Total contributors in table  daily_intensities :  33\n",
      "Total contributors in table  daily_sleep :  24\n"
     ]
    }
   ],
   "source": [
    "value_count = [\n",
    "    daily_activity['Id'].value_counts().count(), \n",
    "    daily_steps['Id'].value_counts().count(),\n",
    "    daily_calories['Id'].value_counts().count(),\n",
    "    daily_intensities['Id'].value_counts().count(),\n",
    "    daily_sleep['Id'].value_counts().count(),\n",
    "]\n",
    "\n",
    "table_name = [\"daily_activity\", \"daily_steps\", \"daily_calories\", \"daily_intensities\", \"daily_sleep\"]\n",
    "\n",
    "i = 0;\n",
    "\n",
    "for x in value_count:\n",
    "    print(\"Total contributors in table \", table_name[i], \": \", x)\n",
    "    i += 1"
   ]
  },
  {
   "cell_type": "markdown",
   "id": "9097bdd5",
   "metadata": {
    "papermill": {
     "duration": 0.016969,
     "end_time": "2024-09-04T12:41:42.601370",
     "exception": false,
     "start_time": "2024-09-04T12:41:42.584401",
     "status": "completed"
    },
    "tags": []
   },
   "source": [
    "As we can see the number of participants are less in the `daily_sleep` table. This could be due to the reason that 9 of the participants didn't intend to use the tracker while sleeping."
   ]
  },
  {
   "cell_type": "markdown",
   "id": "c90f2543",
   "metadata": {
    "papermill": {
     "duration": 0.017026,
     "end_time": "2024-09-04T12:41:42.635747",
     "exception": false,
     "start_time": "2024-09-04T12:41:42.618721",
     "status": "completed"
    },
    "tags": []
   },
   "source": [
    "We can start our analysis from the statistical details of our table and how they would comply with the set standards for good health."
   ]
  },
  {
   "cell_type": "code",
   "execution_count": 12,
   "id": "9b2b7665",
   "metadata": {
    "execution": {
     "iopub.execute_input": "2024-09-04T12:41:42.672515Z",
     "iopub.status.busy": "2024-09-04T12:41:42.672051Z",
     "iopub.status.idle": "2024-09-04T12:41:42.727495Z",
     "shell.execute_reply": "2024-09-04T12:41:42.726309Z"
    },
    "papermill": {
     "duration": 0.077404,
     "end_time": "2024-09-04T12:41:42.730325",
     "exception": false,
     "start_time": "2024-09-04T12:41:42.652921",
     "status": "completed"
    },
    "tags": []
   },
   "outputs": [
    {
     "data": {
      "text/html": [
       "<div>\n",
       "<style scoped>\n",
       "    .dataframe tbody tr th:only-of-type {\n",
       "        vertical-align: middle;\n",
       "    }\n",
       "\n",
       "    .dataframe tbody tr th {\n",
       "        vertical-align: top;\n",
       "    }\n",
       "\n",
       "    .dataframe thead th {\n",
       "        text-align: right;\n",
       "    }\n",
       "</style>\n",
       "<table border=\"1\" class=\"dataframe\">\n",
       "  <thead>\n",
       "    <tr style=\"text-align: right;\">\n",
       "      <th></th>\n",
       "      <th>Id</th>\n",
       "      <th>TotalSteps</th>\n",
       "      <th>TotalDistance</th>\n",
       "      <th>TrackerDistance</th>\n",
       "      <th>LoggedActivitiesDistance</th>\n",
       "      <th>VeryActiveDistance</th>\n",
       "      <th>ModeratelyActiveDistance</th>\n",
       "      <th>LightActiveDistance</th>\n",
       "      <th>SedentaryActiveDistance</th>\n",
       "      <th>VeryActiveMinutes</th>\n",
       "      <th>FairlyActiveMinutes</th>\n",
       "      <th>LightlyActiveMinutes</th>\n",
       "      <th>SedentaryMinutes</th>\n",
       "      <th>Calories</th>\n",
       "    </tr>\n",
       "  </thead>\n",
       "  <tbody>\n",
       "    <tr>\n",
       "      <th>count</th>\n",
       "      <td>9.400000e+02</td>\n",
       "      <td>940.000000</td>\n",
       "      <td>940.000000</td>\n",
       "      <td>940.000000</td>\n",
       "      <td>940.000000</td>\n",
       "      <td>940.000000</td>\n",
       "      <td>940.000000</td>\n",
       "      <td>940.000000</td>\n",
       "      <td>940.000000</td>\n",
       "      <td>940.000000</td>\n",
       "      <td>940.000000</td>\n",
       "      <td>940.000000</td>\n",
       "      <td>940.000000</td>\n",
       "      <td>940.000000</td>\n",
       "    </tr>\n",
       "    <tr>\n",
       "      <th>mean</th>\n",
       "      <td>4.855407e+09</td>\n",
       "      <td>7637.910638</td>\n",
       "      <td>5.489702</td>\n",
       "      <td>5.475351</td>\n",
       "      <td>0.108171</td>\n",
       "      <td>1.502681</td>\n",
       "      <td>0.567543</td>\n",
       "      <td>3.340819</td>\n",
       "      <td>0.001606</td>\n",
       "      <td>21.164894</td>\n",
       "      <td>13.564894</td>\n",
       "      <td>192.812766</td>\n",
       "      <td>991.210638</td>\n",
       "      <td>2303.609574</td>\n",
       "    </tr>\n",
       "    <tr>\n",
       "      <th>std</th>\n",
       "      <td>2.424805e+09</td>\n",
       "      <td>5087.150742</td>\n",
       "      <td>3.924606</td>\n",
       "      <td>3.907276</td>\n",
       "      <td>0.619897</td>\n",
       "      <td>2.658941</td>\n",
       "      <td>0.883580</td>\n",
       "      <td>2.040655</td>\n",
       "      <td>0.007346</td>\n",
       "      <td>32.844803</td>\n",
       "      <td>19.987404</td>\n",
       "      <td>109.174700</td>\n",
       "      <td>301.267437</td>\n",
       "      <td>718.166862</td>\n",
       "    </tr>\n",
       "    <tr>\n",
       "      <th>min</th>\n",
       "      <td>1.503960e+09</td>\n",
       "      <td>0.000000</td>\n",
       "      <td>0.000000</td>\n",
       "      <td>0.000000</td>\n",
       "      <td>0.000000</td>\n",
       "      <td>0.000000</td>\n",
       "      <td>0.000000</td>\n",
       "      <td>0.000000</td>\n",
       "      <td>0.000000</td>\n",
       "      <td>0.000000</td>\n",
       "      <td>0.000000</td>\n",
       "      <td>0.000000</td>\n",
       "      <td>0.000000</td>\n",
       "      <td>0.000000</td>\n",
       "    </tr>\n",
       "    <tr>\n",
       "      <th>25%</th>\n",
       "      <td>2.320127e+09</td>\n",
       "      <td>3789.750000</td>\n",
       "      <td>2.620000</td>\n",
       "      <td>2.620000</td>\n",
       "      <td>0.000000</td>\n",
       "      <td>0.000000</td>\n",
       "      <td>0.000000</td>\n",
       "      <td>1.945000</td>\n",
       "      <td>0.000000</td>\n",
       "      <td>0.000000</td>\n",
       "      <td>0.000000</td>\n",
       "      <td>127.000000</td>\n",
       "      <td>729.750000</td>\n",
       "      <td>1828.500000</td>\n",
       "    </tr>\n",
       "    <tr>\n",
       "      <th>50%</th>\n",
       "      <td>4.445115e+09</td>\n",
       "      <td>7405.500000</td>\n",
       "      <td>5.245000</td>\n",
       "      <td>5.245000</td>\n",
       "      <td>0.000000</td>\n",
       "      <td>0.210000</td>\n",
       "      <td>0.240000</td>\n",
       "      <td>3.365000</td>\n",
       "      <td>0.000000</td>\n",
       "      <td>4.000000</td>\n",
       "      <td>6.000000</td>\n",
       "      <td>199.000000</td>\n",
       "      <td>1057.500000</td>\n",
       "      <td>2134.000000</td>\n",
       "    </tr>\n",
       "    <tr>\n",
       "      <th>75%</th>\n",
       "      <td>6.962181e+09</td>\n",
       "      <td>10727.000000</td>\n",
       "      <td>7.712500</td>\n",
       "      <td>7.710000</td>\n",
       "      <td>0.000000</td>\n",
       "      <td>2.052500</td>\n",
       "      <td>0.800000</td>\n",
       "      <td>4.782500</td>\n",
       "      <td>0.000000</td>\n",
       "      <td>32.000000</td>\n",
       "      <td>19.000000</td>\n",
       "      <td>264.000000</td>\n",
       "      <td>1229.500000</td>\n",
       "      <td>2793.250000</td>\n",
       "    </tr>\n",
       "    <tr>\n",
       "      <th>max</th>\n",
       "      <td>8.877689e+09</td>\n",
       "      <td>36019.000000</td>\n",
       "      <td>28.030001</td>\n",
       "      <td>28.030001</td>\n",
       "      <td>4.942142</td>\n",
       "      <td>21.920000</td>\n",
       "      <td>6.480000</td>\n",
       "      <td>10.710000</td>\n",
       "      <td>0.110000</td>\n",
       "      <td>210.000000</td>\n",
       "      <td>143.000000</td>\n",
       "      <td>518.000000</td>\n",
       "      <td>1440.000000</td>\n",
       "      <td>4900.000000</td>\n",
       "    </tr>\n",
       "  </tbody>\n",
       "</table>\n",
       "</div>"
      ],
      "text/plain": [
       "                 Id    TotalSteps  TotalDistance  TrackerDistance  \\\n",
       "count  9.400000e+02    940.000000     940.000000       940.000000   \n",
       "mean   4.855407e+09   7637.910638       5.489702         5.475351   \n",
       "std    2.424805e+09   5087.150742       3.924606         3.907276   \n",
       "min    1.503960e+09      0.000000       0.000000         0.000000   \n",
       "25%    2.320127e+09   3789.750000       2.620000         2.620000   \n",
       "50%    4.445115e+09   7405.500000       5.245000         5.245000   \n",
       "75%    6.962181e+09  10727.000000       7.712500         7.710000   \n",
       "max    8.877689e+09  36019.000000      28.030001        28.030001   \n",
       "\n",
       "       LoggedActivitiesDistance  VeryActiveDistance  ModeratelyActiveDistance  \\\n",
       "count                940.000000          940.000000                940.000000   \n",
       "mean                   0.108171            1.502681                  0.567543   \n",
       "std                    0.619897            2.658941                  0.883580   \n",
       "min                    0.000000            0.000000                  0.000000   \n",
       "25%                    0.000000            0.000000                  0.000000   \n",
       "50%                    0.000000            0.210000                  0.240000   \n",
       "75%                    0.000000            2.052500                  0.800000   \n",
       "max                    4.942142           21.920000                  6.480000   \n",
       "\n",
       "       LightActiveDistance  SedentaryActiveDistance  VeryActiveMinutes  \\\n",
       "count           940.000000               940.000000         940.000000   \n",
       "mean              3.340819                 0.001606          21.164894   \n",
       "std               2.040655                 0.007346          32.844803   \n",
       "min               0.000000                 0.000000           0.000000   \n",
       "25%               1.945000                 0.000000           0.000000   \n",
       "50%               3.365000                 0.000000           4.000000   \n",
       "75%               4.782500                 0.000000          32.000000   \n",
       "max              10.710000                 0.110000         210.000000   \n",
       "\n",
       "       FairlyActiveMinutes  LightlyActiveMinutes  SedentaryMinutes  \\\n",
       "count           940.000000            940.000000        940.000000   \n",
       "mean             13.564894            192.812766        991.210638   \n",
       "std              19.987404            109.174700        301.267437   \n",
       "min               0.000000              0.000000          0.000000   \n",
       "25%               0.000000            127.000000        729.750000   \n",
       "50%               6.000000            199.000000       1057.500000   \n",
       "75%              19.000000            264.000000       1229.500000   \n",
       "max             143.000000            518.000000       1440.000000   \n",
       "\n",
       "          Calories  \n",
       "count   940.000000  \n",
       "mean   2303.609574  \n",
       "std     718.166862  \n",
       "min       0.000000  \n",
       "25%    1828.500000  \n",
       "50%    2134.000000  \n",
       "75%    2793.250000  \n",
       "max    4900.000000  "
      ]
     },
     "execution_count": 12,
     "metadata": {},
     "output_type": "execute_result"
    }
   ],
   "source": [
    "daily_activity.describe()"
   ]
  },
  {
   "cell_type": "code",
   "execution_count": 13,
   "id": "fafe4b81",
   "metadata": {
    "execution": {
     "iopub.execute_input": "2024-09-04T12:41:42.768620Z",
     "iopub.status.busy": "2024-09-04T12:41:42.767712Z",
     "iopub.status.idle": "2024-09-04T12:41:42.792413Z",
     "shell.execute_reply": "2024-09-04T12:41:42.791062Z"
    },
    "papermill": {
     "duration": 0.046825,
     "end_time": "2024-09-04T12:41:42.795250",
     "exception": false,
     "start_time": "2024-09-04T12:41:42.748425",
     "status": "completed"
    },
    "tags": []
   },
   "outputs": [
    {
     "data": {
      "text/html": [
       "<div>\n",
       "<style scoped>\n",
       "    .dataframe tbody tr th:only-of-type {\n",
       "        vertical-align: middle;\n",
       "    }\n",
       "\n",
       "    .dataframe tbody tr th {\n",
       "        vertical-align: top;\n",
       "    }\n",
       "\n",
       "    .dataframe thead th {\n",
       "        text-align: right;\n",
       "    }\n",
       "</style>\n",
       "<table border=\"1\" class=\"dataframe\">\n",
       "  <thead>\n",
       "    <tr style=\"text-align: right;\">\n",
       "      <th></th>\n",
       "      <th>Id</th>\n",
       "      <th>TotalSleepRecords</th>\n",
       "      <th>TotalMinutesAsleep</th>\n",
       "      <th>TotalTimeInBed</th>\n",
       "    </tr>\n",
       "  </thead>\n",
       "  <tbody>\n",
       "    <tr>\n",
       "      <th>count</th>\n",
       "      <td>4.130000e+02</td>\n",
       "      <td>413.000000</td>\n",
       "      <td>413.000000</td>\n",
       "      <td>413.000000</td>\n",
       "    </tr>\n",
       "    <tr>\n",
       "      <th>mean</th>\n",
       "      <td>5.000979e+09</td>\n",
       "      <td>1.118644</td>\n",
       "      <td>419.467312</td>\n",
       "      <td>458.639225</td>\n",
       "    </tr>\n",
       "    <tr>\n",
       "      <th>std</th>\n",
       "      <td>2.060360e+09</td>\n",
       "      <td>0.345521</td>\n",
       "      <td>118.344679</td>\n",
       "      <td>127.101607</td>\n",
       "    </tr>\n",
       "    <tr>\n",
       "      <th>min</th>\n",
       "      <td>1.503960e+09</td>\n",
       "      <td>1.000000</td>\n",
       "      <td>58.000000</td>\n",
       "      <td>61.000000</td>\n",
       "    </tr>\n",
       "    <tr>\n",
       "      <th>25%</th>\n",
       "      <td>3.977334e+09</td>\n",
       "      <td>1.000000</td>\n",
       "      <td>361.000000</td>\n",
       "      <td>403.000000</td>\n",
       "    </tr>\n",
       "    <tr>\n",
       "      <th>50%</th>\n",
       "      <td>4.702922e+09</td>\n",
       "      <td>1.000000</td>\n",
       "      <td>433.000000</td>\n",
       "      <td>463.000000</td>\n",
       "    </tr>\n",
       "    <tr>\n",
       "      <th>75%</th>\n",
       "      <td>6.962181e+09</td>\n",
       "      <td>1.000000</td>\n",
       "      <td>490.000000</td>\n",
       "      <td>526.000000</td>\n",
       "    </tr>\n",
       "    <tr>\n",
       "      <th>max</th>\n",
       "      <td>8.792010e+09</td>\n",
       "      <td>3.000000</td>\n",
       "      <td>796.000000</td>\n",
       "      <td>961.000000</td>\n",
       "    </tr>\n",
       "  </tbody>\n",
       "</table>\n",
       "</div>"
      ],
      "text/plain": [
       "                 Id  TotalSleepRecords  TotalMinutesAsleep  TotalTimeInBed\n",
       "count  4.130000e+02         413.000000          413.000000      413.000000\n",
       "mean   5.000979e+09           1.118644          419.467312      458.639225\n",
       "std    2.060360e+09           0.345521          118.344679      127.101607\n",
       "min    1.503960e+09           1.000000           58.000000       61.000000\n",
       "25%    3.977334e+09           1.000000          361.000000      403.000000\n",
       "50%    4.702922e+09           1.000000          433.000000      463.000000\n",
       "75%    6.962181e+09           1.000000          490.000000      526.000000\n",
       "max    8.792010e+09           3.000000          796.000000      961.000000"
      ]
     },
     "execution_count": 13,
     "metadata": {},
     "output_type": "execute_result"
    }
   ],
   "source": [
    "daily_sleep.describe()"
   ]
  },
  {
   "cell_type": "markdown",
   "id": "9bbbffe6",
   "metadata": {
    "papermill": {
     "duration": 0.018855,
     "end_time": "2024-09-04T12:41:42.832378",
     "exception": false,
     "start_time": "2024-09-04T12:41:42.813523",
     "status": "completed"
    },
    "tags": []
   },
   "source": [
    "* The mean total steps is 7637 which is below the recomended daily activity or steps requirement, which stands at 8000 - 10000 daily steps (CDC).\n",
    "* More than 50% of the subjects we are working with fail to meet the requirements.\n",
    "* Majority of the people are only lightly active.\n",
    "* The average sedentary minutes is around 940 minutes which is quite a lot and can have adverse health effects on the people in the long run.\n",
    "* Most people slept for about 7 hours once a day. \n"
   ]
  },
  {
   "cell_type": "code",
   "execution_count": 14,
   "id": "9c0778de",
   "metadata": {
    "execution": {
     "iopub.execute_input": "2024-09-04T12:41:42.871247Z",
     "iopub.status.busy": "2024-09-04T12:41:42.870414Z",
     "iopub.status.idle": "2024-09-04T12:41:42.884092Z",
     "shell.execute_reply": "2024-09-04T12:41:42.882947Z"
    },
    "papermill": {
     "duration": 0.036036,
     "end_time": "2024-09-04T12:41:42.886769",
     "exception": false,
     "start_time": "2024-09-04T12:41:42.850733",
     "status": "completed"
    },
    "tags": []
   },
   "outputs": [],
   "source": [
    "# converting the object type to datetime\n",
    "daily_activity['ActivityDate'] = pd.to_datetime(daily_activity['ActivityDate'])\n",
    "# creating a new column that would consist of the day of the week corresponding to the dates\n",
    "daily_activity['DayOfWeek'] = daily_activity['ActivityDate'].dt.day_name()"
   ]
  },
  {
   "cell_type": "code",
   "execution_count": 15,
   "id": "7bda8eec",
   "metadata": {
    "execution": {
     "iopub.execute_input": "2024-09-04T12:41:42.925312Z",
     "iopub.status.busy": "2024-09-04T12:41:42.924839Z",
     "iopub.status.idle": "2024-09-04T12:41:42.948103Z",
     "shell.execute_reply": "2024-09-04T12:41:42.946941Z"
    },
    "papermill": {
     "duration": 0.045545,
     "end_time": "2024-09-04T12:41:42.950721",
     "exception": false,
     "start_time": "2024-09-04T12:41:42.905176",
     "status": "completed"
    },
    "tags": []
   },
   "outputs": [
    {
     "data": {
      "text/html": [
       "<div>\n",
       "<style scoped>\n",
       "    .dataframe tbody tr th:only-of-type {\n",
       "        vertical-align: middle;\n",
       "    }\n",
       "\n",
       "    .dataframe tbody tr th {\n",
       "        vertical-align: top;\n",
       "    }\n",
       "\n",
       "    .dataframe thead th {\n",
       "        text-align: right;\n",
       "    }\n",
       "</style>\n",
       "<table border=\"1\" class=\"dataframe\">\n",
       "  <thead>\n",
       "    <tr style=\"text-align: right;\">\n",
       "      <th></th>\n",
       "      <th>Id</th>\n",
       "      <th>ActivityDate</th>\n",
       "      <th>TotalSteps</th>\n",
       "      <th>TotalDistance</th>\n",
       "      <th>TrackerDistance</th>\n",
       "      <th>LoggedActivitiesDistance</th>\n",
       "      <th>VeryActiveDistance</th>\n",
       "      <th>ModeratelyActiveDistance</th>\n",
       "      <th>LightActiveDistance</th>\n",
       "      <th>SedentaryActiveDistance</th>\n",
       "      <th>VeryActiveMinutes</th>\n",
       "      <th>FairlyActiveMinutes</th>\n",
       "      <th>LightlyActiveMinutes</th>\n",
       "      <th>SedentaryMinutes</th>\n",
       "      <th>Calories</th>\n",
       "      <th>DayOfWeek</th>\n",
       "    </tr>\n",
       "  </thead>\n",
       "  <tbody>\n",
       "    <tr>\n",
       "      <th>0</th>\n",
       "      <td>1503960366</td>\n",
       "      <td>2016-04-12</td>\n",
       "      <td>13162</td>\n",
       "      <td>8.50</td>\n",
       "      <td>8.50</td>\n",
       "      <td>0.0</td>\n",
       "      <td>1.88</td>\n",
       "      <td>0.55</td>\n",
       "      <td>6.06</td>\n",
       "      <td>0.0</td>\n",
       "      <td>25</td>\n",
       "      <td>13</td>\n",
       "      <td>328</td>\n",
       "      <td>728</td>\n",
       "      <td>1985</td>\n",
       "      <td>Tuesday</td>\n",
       "    </tr>\n",
       "    <tr>\n",
       "      <th>1</th>\n",
       "      <td>1503960366</td>\n",
       "      <td>2016-04-13</td>\n",
       "      <td>10735</td>\n",
       "      <td>6.97</td>\n",
       "      <td>6.97</td>\n",
       "      <td>0.0</td>\n",
       "      <td>1.57</td>\n",
       "      <td>0.69</td>\n",
       "      <td>4.71</td>\n",
       "      <td>0.0</td>\n",
       "      <td>21</td>\n",
       "      <td>19</td>\n",
       "      <td>217</td>\n",
       "      <td>776</td>\n",
       "      <td>1797</td>\n",
       "      <td>Wednesday</td>\n",
       "    </tr>\n",
       "    <tr>\n",
       "      <th>2</th>\n",
       "      <td>1503960366</td>\n",
       "      <td>2016-04-14</td>\n",
       "      <td>10460</td>\n",
       "      <td>6.74</td>\n",
       "      <td>6.74</td>\n",
       "      <td>0.0</td>\n",
       "      <td>2.44</td>\n",
       "      <td>0.40</td>\n",
       "      <td>3.91</td>\n",
       "      <td>0.0</td>\n",
       "      <td>30</td>\n",
       "      <td>11</td>\n",
       "      <td>181</td>\n",
       "      <td>1218</td>\n",
       "      <td>1776</td>\n",
       "      <td>Thursday</td>\n",
       "    </tr>\n",
       "    <tr>\n",
       "      <th>3</th>\n",
       "      <td>1503960366</td>\n",
       "      <td>2016-04-15</td>\n",
       "      <td>9762</td>\n",
       "      <td>6.28</td>\n",
       "      <td>6.28</td>\n",
       "      <td>0.0</td>\n",
       "      <td>2.14</td>\n",
       "      <td>1.26</td>\n",
       "      <td>2.83</td>\n",
       "      <td>0.0</td>\n",
       "      <td>29</td>\n",
       "      <td>34</td>\n",
       "      <td>209</td>\n",
       "      <td>726</td>\n",
       "      <td>1745</td>\n",
       "      <td>Friday</td>\n",
       "    </tr>\n",
       "    <tr>\n",
       "      <th>4</th>\n",
       "      <td>1503960366</td>\n",
       "      <td>2016-04-16</td>\n",
       "      <td>12669</td>\n",
       "      <td>8.16</td>\n",
       "      <td>8.16</td>\n",
       "      <td>0.0</td>\n",
       "      <td>2.71</td>\n",
       "      <td>0.41</td>\n",
       "      <td>5.04</td>\n",
       "      <td>0.0</td>\n",
       "      <td>36</td>\n",
       "      <td>10</td>\n",
       "      <td>221</td>\n",
       "      <td>773</td>\n",
       "      <td>1863</td>\n",
       "      <td>Saturday</td>\n",
       "    </tr>\n",
       "  </tbody>\n",
       "</table>\n",
       "</div>"
      ],
      "text/plain": [
       "           Id ActivityDate  TotalSteps  TotalDistance  TrackerDistance  \\\n",
       "0  1503960366   2016-04-12       13162           8.50             8.50   \n",
       "1  1503960366   2016-04-13       10735           6.97             6.97   \n",
       "2  1503960366   2016-04-14       10460           6.74             6.74   \n",
       "3  1503960366   2016-04-15        9762           6.28             6.28   \n",
       "4  1503960366   2016-04-16       12669           8.16             8.16   \n",
       "\n",
       "   LoggedActivitiesDistance  VeryActiveDistance  ModeratelyActiveDistance  \\\n",
       "0                       0.0                1.88                      0.55   \n",
       "1                       0.0                1.57                      0.69   \n",
       "2                       0.0                2.44                      0.40   \n",
       "3                       0.0                2.14                      1.26   \n",
       "4                       0.0                2.71                      0.41   \n",
       "\n",
       "   LightActiveDistance  SedentaryActiveDistance  VeryActiveMinutes  \\\n",
       "0                 6.06                      0.0                 25   \n",
       "1                 4.71                      0.0                 21   \n",
       "2                 3.91                      0.0                 30   \n",
       "3                 2.83                      0.0                 29   \n",
       "4                 5.04                      0.0                 36   \n",
       "\n",
       "   FairlyActiveMinutes  LightlyActiveMinutes  SedentaryMinutes  Calories  \\\n",
       "0                   13                   328               728      1985   \n",
       "1                   19                   217               776      1797   \n",
       "2                   11                   181              1218      1776   \n",
       "3                   34                   209               726      1745   \n",
       "4                   10                   221               773      1863   \n",
       "\n",
       "   DayOfWeek  \n",
       "0    Tuesday  \n",
       "1  Wednesday  \n",
       "2   Thursday  \n",
       "3     Friday  \n",
       "4   Saturday  "
      ]
     },
     "execution_count": 15,
     "metadata": {},
     "output_type": "execute_result"
    }
   ],
   "source": [
    "daily_activity.head()"
   ]
  },
  {
   "cell_type": "markdown",
   "id": "82496f60",
   "metadata": {
    "papermill": {
     "duration": 0.018226,
     "end_time": "2024-09-04T12:41:42.987637",
     "exception": false,
     "start_time": "2024-09-04T12:41:42.969411",
     "status": "completed"
    },
    "tags": []
   },
   "source": [
    "We can find the days, people walked most steps and remained most active. This can help the company strategise it's marketting notifications."
   ]
  },
  {
   "cell_type": "code",
   "execution_count": 16,
   "id": "0107d662",
   "metadata": {
    "execution": {
     "iopub.execute_input": "2024-09-04T12:41:43.026555Z",
     "iopub.status.busy": "2024-09-04T12:41:43.026110Z",
     "iopub.status.idle": "2024-09-04T12:41:43.035486Z",
     "shell.execute_reply": "2024-09-04T12:41:43.034343Z"
    },
    "papermill": {
     "duration": 0.031949,
     "end_time": "2024-09-04T12:41:43.038109",
     "exception": false,
     "start_time": "2024-09-04T12:41:43.006160",
     "status": "completed"
    },
    "tags": []
   },
   "outputs": [],
   "source": [
    "daily_steps_by_day = daily_activity.groupby('DayOfWeek')['TotalSteps'].mean().reset_index()"
   ]
  },
  {
   "cell_type": "code",
   "execution_count": 17,
   "id": "293beb64",
   "metadata": {
    "execution": {
     "iopub.execute_input": "2024-09-04T12:41:43.077423Z",
     "iopub.status.busy": "2024-09-04T12:41:43.076953Z",
     "iopub.status.idle": "2024-09-04T12:41:43.484855Z",
     "shell.execute_reply": "2024-09-04T12:41:43.483702Z"
    },
    "papermill": {
     "duration": 0.430434,
     "end_time": "2024-09-04T12:41:43.487511",
     "exception": false,
     "start_time": "2024-09-04T12:41:43.057077",
     "status": "completed"
    },
    "tags": []
   },
   "outputs": [
    {
     "data": {
      "text/plain": [
       "Text(0.5, 1.0, 'Average steps by day of the week')"
      ]
     },
     "execution_count": 17,
     "metadata": {},
     "output_type": "execute_result"
    },
    {
     "data": {
      "image/png": "[encoded data removed]",
      "text/plain": [
       "<Figure size 800x400 with 1 Axes>"
      ]
     },
     "metadata": {},
     "output_type": "display_data"
    }
   ],
   "source": [
    "day_order = ['Monday', 'Tuesday', 'Wednesday', 'Thursday', 'Friday', 'Saturday', 'Sunday']\n",
    "\n",
    "plt.figure(figsize=(8, 4))\n",
    "sns.barplot(x = 'DayOfWeek', y = 'TotalSteps', data = daily_steps_by_day, order = day_order, palette = \"husl\")\n",
    "plt.xlabel('Day of the week')\n",
    "plt.ylabel('Average Steps')\n",
    "plt.title('Average steps by day of the week')"
   ]
  },
  {
   "cell_type": "markdown",
   "id": "30a9e5ac",
   "metadata": {
    "papermill": {
     "duration": 0.0199,
     "end_time": "2024-09-04T12:41:43.527713",
     "exception": false,
     "start_time": "2024-09-04T12:41:43.507813",
     "status": "completed"
    },
    "tags": []
   },
   "source": [
    "One thing we are clear about is people walk the least on Sundays, during this day the company can send a report of how they have been doing great the rest of the week and keeping it up would make them hit their daily target or how they can start of their week by hitting the target, if Sunday is considered the first day of the week."
   ]
  },
  {
   "cell_type": "markdown",
   "id": "cc08646d",
   "metadata": {
    "papermill": {
     "duration": 0.019154,
     "end_time": "2024-09-04T12:41:43.566280",
     "exception": false,
     "start_time": "2024-09-04T12:41:43.547126",
     "status": "completed"
    },
    "tags": []
   },
   "source": [
    "Let's also take a look how activity fairs among days. We will consider only for the "
   ]
  },
  {
   "cell_type": "code",
   "execution_count": 18,
   "id": "163352b2",
   "metadata": {
    "execution": {
     "iopub.execute_input": "2024-09-04T12:41:43.608340Z",
     "iopub.status.busy": "2024-09-04T12:41:43.607099Z",
     "iopub.status.idle": "2024-09-04T12:41:43.614614Z",
     "shell.execute_reply": "2024-09-04T12:41:43.613430Z"
    },
    "papermill": {
     "duration": 0.031484,
     "end_time": "2024-09-04T12:41:43.617241",
     "exception": false,
     "start_time": "2024-09-04T12:41:43.585757",
     "status": "completed"
    },
    "tags": []
   },
   "outputs": [],
   "source": [
    "total_activity = daily_activity.copy()\n",
    "total_activity['TotalActivity'] = daily_activity['VeryActiveMinutes'] + daily_activity['FairlyActiveMinutes']"
   ]
  },
  {
   "cell_type": "code",
   "execution_count": 19,
   "id": "7511a54a",
   "metadata": {
    "execution": {
     "iopub.execute_input": "2024-09-04T12:41:43.658673Z",
     "iopub.status.busy": "2024-09-04T12:41:43.657758Z",
     "iopub.status.idle": "2024-09-04T12:41:43.665588Z",
     "shell.execute_reply": "2024-09-04T12:41:43.664450Z"
    },
    "papermill": {
     "duration": 0.031285,
     "end_time": "2024-09-04T12:41:43.668308",
     "exception": false,
     "start_time": "2024-09-04T12:41:43.637023",
     "status": "completed"
    },
    "tags": []
   },
   "outputs": [],
   "source": [
    "total_activity_by_day = total_activity.groupby('DayOfWeek')['TotalActivity'].mean().reset_index()"
   ]
  },
  {
   "cell_type": "code",
   "execution_count": 20,
   "id": "3a70bd68",
   "metadata": {
    "execution": {
     "iopub.execute_input": "2024-09-04T12:41:43.709559Z",
     "iopub.status.busy": "2024-09-04T12:41:43.708546Z",
     "iopub.status.idle": "2024-09-04T12:41:44.030008Z",
     "shell.execute_reply": "2024-09-04T12:41:44.028731Z"
    },
    "papermill": {
     "duration": 0.344934,
     "end_time": "2024-09-04T12:41:44.032715",
     "exception": false,
     "start_time": "2024-09-04T12:41:43.687781",
     "status": "completed"
    },
    "tags": []
   },
   "outputs": [
    {
     "data": {
      "text/plain": [
       "Text(0.5, 1.0, 'Average activity minutes by day of the week')"
      ]
     },
     "execution_count": 20,
     "metadata": {},
     "output_type": "execute_result"
    },
    {
     "data": {
      "image/png": "[encoded data removed]",
      "text/plain": [
       "<Figure size 1000x500 with 1 Axes>"
      ]
     },
     "metadata": {},
     "output_type": "display_data"
    }
   ],
   "source": [
    "plt.figure(figsize=(10, 5))\n",
    "sns.barplot(x = 'DayOfWeek', y = 'TotalActivity', data = total_activity_by_day, order = day_order)\n",
    "plt.xlabel('Day of the week')\n",
    "plt.ylabel('Activity Minutes')\n",
    "plt.title('Average activity minutes by day of the week')"
   ]
  },
  {
   "cell_type": "markdown",
   "id": "b32708e3",
   "metadata": {
    "papermill": {
     "duration": 0.019917,
     "end_time": "2024-09-04T12:41:44.073044",
     "exception": false,
     "start_time": "2024-09-04T12:41:44.053127",
     "status": "completed"
    },
    "tags": []
   },
   "source": [
    "it's quite interesting that, though Sunday had the least average step count the same doesn't apply to activity minutes when we consider only **VeryActiveMinutes** and **FairlyActiveMinutes** column. \n",
    "\n",
    "Also it is important to note that, 60 minutes of moderate to vigorous physical activity is recommended daily by WHO and 30 mins 5 times a week by CDC (Centers for Disease Control and Prevention). And clearly the participants don't meet WHO's intended target on an average. This awareness can be spread among the people to help them make it a habit to exercise daily for about 60 minutes. Some well established and trusted research organizations say that 30 to 60 minutes of exercises per week can reduce the risk of premature death by 40%, heart disease by 46%, and death from cancer by 28%.\n",
    "\n",
    "**60 minutes workout a day keeps your obesity away 😉**"
   ]
  },
  {
   "cell_type": "markdown",
   "id": "792b3368",
   "metadata": {
    "papermill": {
     "duration": 0.020944,
     "end_time": "2024-09-04T12:41:44.114314",
     "exception": false,
     "start_time": "2024-09-04T12:41:44.093370",
     "status": "completed"
    },
    "tags": []
   },
   "source": [
    "Let's now take a look at what time of the day most people are active. We can use the `hourly_intensities` table. It will help us recognise when is the fitness tracker mostly used, which can further help us to reach more people through marketting notifications or recommendations or spreading awareness. \n",
    "\n",
    "We can achive this by first making a new column **Hour** in `hourly_intensities` table and then:\n",
    "* extracting the value or hour from **ActivityHour** and keepin it in the newly created **Hour** columnn.\n",
    "* Grouping the data by the hour and calculate the average total intensity for each hour.\n",
    "* Plotting the results to visualize the average intensity for each hour."
   ]
  },
  {
   "cell_type": "code",
   "execution_count": 21,
   "id": "7d7f5995",
   "metadata": {
    "execution": {
     "iopub.execute_input": "2024-09-04T12:41:44.157069Z",
     "iopub.status.busy": "2024-09-04T12:41:44.156641Z",
     "iopub.status.idle": "2024-09-04T12:41:44.165645Z",
     "shell.execute_reply": "2024-09-04T12:41:44.164708Z"
    },
    "papermill": {
     "duration": 0.033433,
     "end_time": "2024-09-04T12:41:44.168292",
     "exception": false,
     "start_time": "2024-09-04T12:41:44.134859",
     "status": "completed"
    },
    "tags": []
   },
   "outputs": [],
   "source": [
    "hourly_intensities['Hour'] = hourly_intensities['ActivityHour'].dt.hour\n",
    "average_intensity_by_hour = hourly_intensities.groupby('Hour')['TotalIntensity'].mean().reset_index()"
   ]
  },
  {
   "cell_type": "code",
   "execution_count": 22,
   "id": "1aa14ac7",
   "metadata": {
    "execution": {
     "iopub.execute_input": "2024-09-04T12:41:44.211127Z",
     "iopub.status.busy": "2024-09-04T12:41:44.210126Z",
     "iopub.status.idle": "2024-09-04T12:41:44.939913Z",
     "shell.execute_reply": "2024-09-04T12:41:44.938727Z"
    },
    "papermill": {
     "duration": 0.754079,
     "end_time": "2024-09-04T12:41:44.942700",
     "exception": false,
     "start_time": "2024-09-04T12:41:44.188621",
     "status": "completed"
    },
    "tags": []
   },
   "outputs": [
    {
     "data": {
      "image/png": "[encoded data removed]",
      "text/plain": [
       "<Figure size 1800x600 with 2 Axes>"
      ]
     },
     "metadata": {},
     "output_type": "display_data"
    }
   ],
   "source": [
    "# Create a figure with two subplots side by side\n",
    "fig, axs = plt.subplots(1, 2, figsize=(18, 6))\n",
    "\n",
    "# Line plot with continuous time on the x-axis\n",
    "axs[0].plot(average_intensity_by_hour['Hour'], average_intensity_by_hour['TotalIntensity'], marker='o')\n",
    "axs[0].set_xlabel('Hour of the Day')\n",
    "axs[0].set_ylabel('Average Total Intensity')\n",
    "axs[0].set_title('Line Plot: Average Total Intensity by Hour of the Day')\n",
    "axs[0].grid(True)\n",
    "\n",
    "# Bar plot with discrete hourly values on the x-axis\n",
    "sns.barplot(x=average_intensity_by_hour['Hour'], y='TotalIntensity', data=average_intensity_by_hour, ax=axs[1])\n",
    "axs[1].set_xlabel('Hour of the Day')\n",
    "axs[1].set_ylabel('Average Total Intensity')\n",
    "axs[1].set_title('Bar Plot: Average Total Intensity by Hour of the Day')\n",
    "axs[1].set_xticks(range(24))\n",
    "\n",
    "plt.tight_layout()\n",
    "plt.show()\n"
   ]
  },
  {
   "cell_type": "markdown",
   "id": "2a974aca",
   "metadata": {
    "papermill": {
     "duration": 0.020965,
     "end_time": "2024-09-04T12:41:45.042578",
     "exception": false,
     "start_time": "2024-09-04T12:41:45.021613",
     "status": "completed"
    },
    "tags": []
   },
   "source": [
    "We can clearly see that most of the activity takes place between **9** to **20** i.e **9 AM** to **8 PM**\n",
    "\n",
    "This would be the best time to get in touch with the people with product and health related recommendations."
   ]
  },
  {
   "cell_type": "markdown",
   "id": "340dd3db",
   "metadata": {
    "papermill": {
     "duration": 0.020934,
     "end_time": "2024-09-04T12:41:45.085089",
     "exception": false,
     "start_time": "2024-09-04T12:41:45.064155",
     "status": "completed"
    },
    "tags": []
   },
   "source": [
    "Another crucial part of our analysis is to determine how many people actually used the fitness devices reglarly and how we can seggregate these users based on their activity levels. This could give us a brief idea about how many of the people that would desire for Bellabeat's products would use them regularly and would also help the company to send personalized notifications to the user based on that particular user's data, habits and needs.\n",
    "\n",
    "* Firstly We can check for our `daily_activity` table to segregate our users into four categories, active, moderately active, lightly active and not very active types where:\n",
    "    * acive users have step count >= 10000\n",
    "    * moderately active users have step count >= 7000\n",
    "    * lightly active users have step count >= 5000\n",
    "    * not very active users have step count < 5000\n",
    "* Secondly we can use the `daily_calories` or any day based table to segregate the users based on how actively they used their smart devices. We can categorise them as follows (considering total days of data collection to be 31):\n",
    "    * Active users >= 24 days\n",
    "    * Moderate users >= 10 days\n",
    "    * Inactive users < 10 days"
   ]
  },
  {
   "cell_type": "code",
   "execution_count": 23,
   "id": "8a6a1f5f",
   "metadata": {
    "execution": {
     "iopub.execute_input": "2024-09-04T12:41:45.129722Z",
     "iopub.status.busy": "2024-09-04T12:41:45.129282Z",
     "iopub.status.idle": "2024-09-04T12:41:45.141129Z",
     "shell.execute_reply": "2024-09-04T12:41:45.139747Z"
    },
    "papermill": {
     "duration": 0.036961,
     "end_time": "2024-09-04T12:41:45.143576",
     "exception": false,
     "start_time": "2024-09-04T12:41:45.106615",
     "status": "completed"
    },
    "tags": []
   },
   "outputs": [],
   "source": [
    "average_steps_per_user = daily_activity.groupby('Id')['TotalSteps'].mean().reset_index()\n",
    "\n",
    "# categorizing based on steps\n",
    "def categorize_active_users(steps):\n",
    "    if steps >= 10000:\n",
    "        return 'Active'\n",
    "    elif steps >= 7000:\n",
    "        return 'Moderately Active'\n",
    "    elif steps >= 5000:\n",
    "        return 'Lightly Active'\n",
    "    else: \n",
    "        return 'Not Active'\n",
    "    \n",
    "# Adding a column that represents and categorizes the user to an activity type\n",
    "average_steps_per_user['ActivityCategory'] = average_steps_per_user['TotalSteps'].apply(categorize_active_users)\n",
    "\n",
    "# Counting the number of users in each category\n",
    "category_counts = average_steps_per_user['ActivityCategory'].value_counts()"
   ]
  },
  {
   "cell_type": "code",
   "execution_count": 24,
   "id": "a0e65d57",
   "metadata": {
    "execution": {
     "iopub.execute_input": "2024-09-04T12:41:45.189175Z",
     "iopub.status.busy": "2024-09-04T12:41:45.188744Z",
     "iopub.status.idle": "2024-09-04T12:41:45.329413Z",
     "shell.execute_reply": "2024-09-04T12:41:45.328203Z"
    },
    "papermill": {
     "duration": 0.166806,
     "end_time": "2024-09-04T12:41:45.332400",
     "exception": false,
     "start_time": "2024-09-04T12:41:45.165594",
     "status": "completed"
    },
    "tags": []
   },
   "outputs": [
    {
     "data": {
      "image/png": "[encoded data removed]",
      "text/plain": [
       "<Figure size 640x480 with 1 Axes>"
      ]
     },
     "metadata": {},
     "output_type": "display_data"
    }
   ],
   "source": [
    "plt.pie(category_counts, labels=category_counts.index, autopct='%1.1f%%', startangle=140)\n",
    "plt.title('Distribution of Users by Activity Level')\n",
    "plt.show()"
   ]
  },
  {
   "cell_type": "code",
   "execution_count": 25,
   "id": "cf2e0284",
   "metadata": {
    "execution": {
     "iopub.execute_input": "2024-09-04T12:41:45.380247Z",
     "iopub.status.busy": "2024-09-04T12:41:45.378902Z",
     "iopub.status.idle": "2024-09-04T12:41:45.390198Z",
     "shell.execute_reply": "2024-09-04T12:41:45.388976Z"
    },
    "papermill": {
     "duration": 0.037597,
     "end_time": "2024-09-04T12:41:45.392735",
     "exception": false,
     "start_time": "2024-09-04T12:41:45.355138",
     "status": "completed"
    },
    "tags": []
   },
   "outputs": [],
   "source": [
    "user_activity = daily_calories.groupby('Id').size().reset_index(name='Count')\n",
    "\n",
    "# Categorizing based on user activity\n",
    "def categorize_users_activity(user):\n",
    "    if user >= 24:\n",
    "        return 'Active User'\n",
    "    elif user >= 10:\n",
    "        return 'Moderate users'\n",
    "    else:\n",
    "        return 'Inactive users'\n",
    "    \n",
    "# Adding a column that represents and categorizes the user based on device usage activity\n",
    "user_activity['UserType'] = user_activity['Count'].apply(categorize_users_activity)\n",
    "\n",
    "# Counting the number of users in each category\n",
    "user_type_counts = user_activity['UserType'].value_counts()"
   ]
  },
  {
   "cell_type": "code",
   "execution_count": 26,
   "id": "4cd0f1d0",
   "metadata": {
    "execution": {
     "iopub.execute_input": "2024-09-04T12:41:45.439695Z",
     "iopub.status.busy": "2024-09-04T12:41:45.438918Z",
     "iopub.status.idle": "2024-09-04T12:41:45.583468Z",
     "shell.execute_reply": "2024-09-04T12:41:45.582048Z"
    },
    "papermill": {
     "duration": 0.172393,
     "end_time": "2024-09-04T12:41:45.587362",
     "exception": false,
     "start_time": "2024-09-04T12:41:45.414969",
     "status": "completed"
    },
    "tags": []
   },
   "outputs": [
    {
     "data": {
      "image/png": "[encoded data removed]",
      "text/plain": [
       "<Figure size 640x480 with 1 Axes>"
      ]
     },
     "metadata": {},
     "output_type": "display_data"
    }
   ],
   "source": [
    "plt.pie(user_type_counts, labels=user_type_counts.index, autopct='%1.1f%%', startangle=140)\n",
    "plt.title('Distribution of User Types Based on Device Usage Activity')\n",
    "plt.show()"
   ]
  },
  {
   "cell_type": "markdown",
   "id": "4cde638a",
   "metadata": {
    "papermill": {
     "duration": 0.024187,
     "end_time": "2024-09-04T12:41:45.634864",
     "exception": false,
     "start_time": "2024-09-04T12:41:45.610677",
     "status": "completed"
    },
    "tags": []
   },
   "source": [
    "It shows clearly that the most people were active users of the device."
   ]
  },
  {
   "cell_type": "markdown",
   "id": "bd491e81",
   "metadata": {
    "papermill": {
     "duration": 0.023836,
     "end_time": "2024-09-04T12:41:45.682897",
     "exception": false,
     "start_time": "2024-09-04T12:41:45.659061",
     "status": "completed"
    },
    "tags": []
   },
   "source": [
    "Let us also have a look whether there is any relation between sleep and activity levels of individuals. Since health experts suggest that physical activity leads to better sleep. \n",
    "\n",
    "We can categorize the Quality of sleep as:\n",
    "* Bad Quality if average **TotalMinutesAsleep** <= 360\n",
    "* Good Quality if average **TotalMinutesAsleep** <= 480\n",
    "* Average Quality if average **TotalMinutesAsleep** > 480"
   ]
  },
  {
   "cell_type": "code",
   "execution_count": 27,
   "id": "796801df",
   "metadata": {
    "execution": {
     "iopub.execute_input": "2024-09-04T12:41:45.733538Z",
     "iopub.status.busy": "2024-09-04T12:41:45.732787Z",
     "iopub.status.idle": "2024-09-04T12:41:45.742343Z",
     "shell.execute_reply": "2024-09-04T12:41:45.741016Z"
    },
    "papermill": {
     "duration": 0.03788,
     "end_time": "2024-09-04T12:41:45.745016",
     "exception": false,
     "start_time": "2024-09-04T12:41:45.707136",
     "status": "completed"
    },
    "tags": []
   },
   "outputs": [],
   "source": [
    "average_sleep = daily_sleep.groupby('Id')['TotalMinutesAsleep'].mean().reset_index()\n",
    "\n",
    "# Categorizing based on user sleep activity\n",
    "def categorize_users_sleep(sleep):\n",
    "    if sleep <= 360:\n",
    "        return 'Bad Sleep Quality'\n",
    "    elif sleep <= 480:\n",
    "        return 'Good Sleep Quality'\n",
    "    else:\n",
    "        return 'Average Quality Sleep'\n",
    "    \n",
    "# Adding a column that represents and categorizes the user based on minutes asleep\n",
    "average_sleep['SleepQuality'] = average_sleep['TotalMinutesAsleep'].apply(categorize_users_sleep)"
   ]
  },
  {
   "cell_type": "code",
   "execution_count": 28,
   "id": "59b091d9",
   "metadata": {
    "execution": {
     "iopub.execute_input": "2024-09-04T12:41:45.796031Z",
     "iopub.status.busy": "2024-09-04T12:41:45.795549Z",
     "iopub.status.idle": "2024-09-04T12:41:45.812057Z",
     "shell.execute_reply": "2024-09-04T12:41:45.810809Z"
    },
    "papermill": {
     "duration": 0.045086,
     "end_time": "2024-09-04T12:41:45.814959",
     "exception": false,
     "start_time": "2024-09-04T12:41:45.769873",
     "status": "completed"
    },
    "tags": []
   },
   "outputs": [],
   "source": [
    "activity_and_sleep = pd.merge(average_steps_per_user, average_sleep, on='Id', how='inner')"
   ]
  },
  {
   "cell_type": "code",
   "execution_count": 29,
   "id": "7bcd9b26",
   "metadata": {
    "execution": {
     "iopub.execute_input": "2024-09-04T12:41:45.866230Z",
     "iopub.status.busy": "2024-09-04T12:41:45.865497Z",
     "iopub.status.idle": "2024-09-04T12:41:46.263474Z",
     "shell.execute_reply": "2024-09-04T12:41:46.262327Z"
    },
    "papermill": {
     "duration": 0.426535,
     "end_time": "2024-09-04T12:41:46.266383",
     "exception": false,
     "start_time": "2024-09-04T12:41:45.839848",
     "status": "completed"
    },
    "tags": []
   },
   "outputs": [
    {
     "data": {
      "image/png": "[encoded data removed]",
      "text/plain": [
       "<Figure size 1000x700 with 1 Axes>"
      ]
     },
     "metadata": {},
     "output_type": "display_data"
    }
   ],
   "source": [
    "import pandas as pd\n",
    "import matplotlib.pyplot as plt\n",
    "import seaborn as sns\n",
    "\n",
    "# Calculate the count of users in each category combination\n",
    "activity_sleep_counts = activity_and_sleep.groupby(['ActivityCategory', 'SleepQuality']).size().unstack(fill_value=0)\n",
    "\n",
    "# Convert the counts to percentages\n",
    "activity_sleep_percentages = activity_sleep_counts.div(activity_sleep_counts.sum(axis=1), axis=0) * 100\n",
    "\n",
    "# Plot the grouped bar chart\n",
    "activity_sleep_percentages.plot(kind='bar', stacked=False, figsize=(10, 7))\n",
    "\n",
    "# Add labels and title\n",
    "plt.ylabel('Percentage of Users')\n",
    "plt.xlabel('Activity Category')\n",
    "plt.title('Distribution of Sleep Quality Across Different Activity Levels')\n",
    "plt.legend(title='Sleep Quality')\n",
    "plt.xticks(rotation=45)\n",
    "plt.show()\n"
   ]
  }
 ],
 "metadata": {
  "kaggle": {
   "accelerator": "none",
   "dataSources": [
    {
     "datasetId": 1041311,
     "sourceId": 7746251,
     "sourceType": "datasetVersion"
    }
   ],
   "dockerImageVersionId": 30761,
   "isGpuEnabled": false,
   "isInternetEnabled": true,
   "language": "python",
   "sourceType": "notebook"
  },
  "kernelspec": {
   "display_name": "Python 3",
   "language": "python",
   "name": "python3"
  },
  "language_info": {
   "codemirror_mode": {
    "name": "ipython",
    "version": 3
   },
   "file_extension": ".py",
   "mimetype": "text/x-python",
   "name": "python",
   "nbconvert_exporter": "python",
   "pygments_lexer": "ipython3",
   "version": "3.10.14"
  },
  "papermill": {
   "default_parameters": {},
   "duration": 13.766656,
   "end_time": "2024-09-04T12:41:47.014941",
   "environment_variables": {},
   "exception": null,
   "input_path": "__notebook__.ipynb",
   "output_path": "__notebook__.ipynb",
   "parameters": {},
   "start_time": "2024-09-04T12:41:33.248285",
   "version": "2.6.0"
  }
 },
 "nbformat": 4,
 "nbformat_minor": 5
}
